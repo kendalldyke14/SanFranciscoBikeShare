{
 "cells": [
  {
   "cell_type": "code",
   "execution_count": 134,
   "id": "128f11a6",
   "metadata": {},
   "outputs": [],
   "source": [
    "import pandas as pd\n",
    "import numpy as np\n",
    "from google.cloud import bigquery\n",
    "import os\n",
    "import datetime\n",
    "from statsmodels.stats.weightstats import ttest_ind\n",
    "import scipy\n",
    "from geopy.distance import geodesic"
   ]
  },
  {
   "cell_type": "code",
   "execution_count": 49,
   "id": "7e8ba7d9",
   "metadata": {},
   "outputs": [
    {
     "name": "stdout",
     "output_type": "stream",
     "text": [
      "The google.cloud.bigquery extension is already loaded. To reload it, use:\n",
      "  %reload_ext google.cloud.bigquery\n"
     ]
    }
   ],
   "source": [
    "%load_ext google.cloud.bigquery"
   ]
  },
  {
   "cell_type": "code",
   "execution_count": 50,
   "id": "c0f938c6",
   "metadata": {},
   "outputs": [],
   "source": [
    "os.environ[\"GOOGLE_APPLICATION_CREDENTIALS\"]=\"sunny-footing-321404-513454d4be38.json\""
   ]
  },
  {
   "cell_type": "markdown",
   "id": "87eeaa41",
   "metadata": {},
   "source": [
    "# Difference in mean duration of rides between male and female riders: SF"
   ]
  },
  {
   "cell_type": "code",
   "execution_count": 118,
   "id": "1b851f26",
   "metadata": {},
   "outputs": [],
   "source": [
    "client = bigquery.Client()\n",
    "\n",
    "query = \"\"\"\n",
    "    SELECT member_gender, duration_sec FROM `bigquery-public-data.san_francisco_bikeshare.bikeshare_trips`\n",
    "    WHERE (member_gender = 'Female' OR member_gender = 'Male') AND start_date >= '2017-01-01 00:00:00'\n",
    "\"\"\"\n",
    "\n",
    "query_job = client.query(query)"
   ]
  },
  {
   "cell_type": "code",
   "execution_count": 120,
   "id": "13a7b653",
   "metadata": {},
   "outputs": [
    {
     "data": {
      "text/html": [
       "<div>\n",
       "<style scoped>\n",
       "    .dataframe tbody tr th:only-of-type {\n",
       "        vertical-align: middle;\n",
       "    }\n",
       "\n",
       "    .dataframe tbody tr th {\n",
       "        vertical-align: top;\n",
       "    }\n",
       "\n",
       "    .dataframe thead th {\n",
       "        text-align: right;\n",
       "    }\n",
       "</style>\n",
       "<table border=\"1\" class=\"dataframe\">\n",
       "  <thead>\n",
       "    <tr style=\"text-align: right;\">\n",
       "      <th></th>\n",
       "      <th>member_gender</th>\n",
       "      <th>duration_sec</th>\n",
       "      <th>duration_minutes</th>\n",
       "    </tr>\n",
       "  </thead>\n",
       "  <tbody>\n",
       "    <tr>\n",
       "      <th>0</th>\n",
       "      <td>Male</td>\n",
       "      <td>833</td>\n",
       "      <td>13.883333</td>\n",
       "    </tr>\n",
       "    <tr>\n",
       "      <th>1</th>\n",
       "      <td>Male</td>\n",
       "      <td>314</td>\n",
       "      <td>5.233333</td>\n",
       "    </tr>\n",
       "    <tr>\n",
       "      <th>2</th>\n",
       "      <td>Male</td>\n",
       "      <td>803</td>\n",
       "      <td>13.383333</td>\n",
       "    </tr>\n",
       "    <tr>\n",
       "      <th>3</th>\n",
       "      <td>Male</td>\n",
       "      <td>711</td>\n",
       "      <td>11.850000</td>\n",
       "    </tr>\n",
       "    <tr>\n",
       "      <th>4</th>\n",
       "      <td>Male</td>\n",
       "      <td>2268</td>\n",
       "      <td>37.800000</td>\n",
       "    </tr>\n",
       "    <tr>\n",
       "      <th>...</th>\n",
       "      <td>...</td>\n",
       "      <td>...</td>\n",
       "      <td>...</td>\n",
       "    </tr>\n",
       "    <tr>\n",
       "      <th>850968</th>\n",
       "      <td>Female</td>\n",
       "      <td>94</td>\n",
       "      <td>1.566667</td>\n",
       "    </tr>\n",
       "    <tr>\n",
       "      <th>850969</th>\n",
       "      <td>Female</td>\n",
       "      <td>637</td>\n",
       "      <td>10.616667</td>\n",
       "    </tr>\n",
       "    <tr>\n",
       "      <th>850970</th>\n",
       "      <td>Female</td>\n",
       "      <td>1256</td>\n",
       "      <td>20.933333</td>\n",
       "    </tr>\n",
       "    <tr>\n",
       "      <th>850971</th>\n",
       "      <td>Female</td>\n",
       "      <td>115</td>\n",
       "      <td>1.916667</td>\n",
       "    </tr>\n",
       "    <tr>\n",
       "      <th>850972</th>\n",
       "      <td>Female</td>\n",
       "      <td>117</td>\n",
       "      <td>1.950000</td>\n",
       "    </tr>\n",
       "  </tbody>\n",
       "</table>\n",
       "<p>850973 rows × 3 columns</p>\n",
       "</div>"
      ],
      "text/plain": [
       "       member_gender  duration_sec  duration_minutes\n",
       "0               Male           833         13.883333\n",
       "1               Male           314          5.233333\n",
       "2               Male           803         13.383333\n",
       "3               Male           711         11.850000\n",
       "4               Male          2268         37.800000\n",
       "...              ...           ...               ...\n",
       "850968        Female            94          1.566667\n",
       "850969        Female           637         10.616667\n",
       "850970        Female          1256         20.933333\n",
       "850971        Female           115          1.916667\n",
       "850972        Female           117          1.950000\n",
       "\n",
       "[850973 rows x 3 columns]"
      ]
     },
     "execution_count": 120,
     "metadata": {},
     "output_type": "execute_result"
    }
   ],
   "source": [
    "sf_times = query_job.to_dataframe()\n",
    "sf_times['duration_minutes'] = sf_times['duration_sec'].apply(lambda x: x / 60)\n",
    "sf_times"
   ]
  },
  {
   "cell_type": "code",
   "execution_count": 121,
   "id": "a6248dd1",
   "metadata": {},
   "outputs": [
    {
     "data": {
      "text/plain": [
       "(3.3237005861848767, 3.76221153139181)"
      ]
     },
     "execution_count": 121,
     "metadata": {},
     "output_type": "execute_result"
    }
   ],
   "source": [
    "sf_female_durations = sf_times[sf_times['member_gender'] == 'Female']['duration_minutes']\n",
    "sf_male_durations = sf_times[sf_times['member_gender'] == 'Male']['duration_minutes']\n",
    "\n",
    "diff_of_means = np.mean(sf_female_durations) - np.mean(sf_male_durations)\n",
    "s_e = np.sqrt((np.std(sf_female_durations)**2/len(sf_female_durations)) + (np.std(sf_male_durations)**2/len(sf_male_durations)))\n",
    "t_star = scipy.stats.t.ppf(q=1-.05/2,df=min(len(sf_female_durations), len(sf_male_durations)))\n",
    "CI = (diff_of_means - t_star*s_e, diff_of_means + t_star*s_e)\n",
    "CI"
   ]
  },
  {
   "cell_type": "markdown",
   "id": "a0440c6a",
   "metadata": {},
   "source": [
    "The results are significant. There is enough evidence to say that the average duration of female riders in san franscisco is more than the average duration of male riders in san franscisco."
   ]
  },
  {
   "cell_type": "markdown",
   "id": "a7cc6135",
   "metadata": {},
   "source": [
    "# Difference in mean duration of rides between male and female riders: NY"
   ]
  },
  {
   "cell_type": "code",
   "execution_count": 124,
   "id": "4f7fcff6",
   "metadata": {},
   "outputs": [],
   "source": [
    "client = bigquery.Client()\n",
    "\n",
    "query = \"\"\"\n",
    "    SELECT gender, tripduration FROM `bigquery-public-data.new_york_citibike.citibike_trips`\n",
    "    WHERE (gender = 'male' OR gender = 'female') AND starttime >= '2017-01-01 00:00:00'\n",
    "\"\"\"\n",
    "\n",
    "query_job = client.query(query) "
   ]
  },
  {
   "cell_type": "code",
   "execution_count": 125,
   "id": "4bd6f1c2",
   "metadata": {},
   "outputs": [
    {
     "data": {
      "text/html": [
       "<div>\n",
       "<style scoped>\n",
       "    .dataframe tbody tr th:only-of-type {\n",
       "        vertical-align: middle;\n",
       "    }\n",
       "\n",
       "    .dataframe tbody tr th {\n",
       "        vertical-align: top;\n",
       "    }\n",
       "\n",
       "    .dataframe thead th {\n",
       "        text-align: right;\n",
       "    }\n",
       "</style>\n",
       "<table border=\"1\" class=\"dataframe\">\n",
       "  <thead>\n",
       "    <tr style=\"text-align: right;\">\n",
       "      <th></th>\n",
       "      <th>gender</th>\n",
       "      <th>tripduration</th>\n",
       "      <th>duration_minutes</th>\n",
       "    </tr>\n",
       "  </thead>\n",
       "  <tbody>\n",
       "    <tr>\n",
       "      <th>0</th>\n",
       "      <td>male</td>\n",
       "      <td>302</td>\n",
       "      <td>5.033333</td>\n",
       "    </tr>\n",
       "    <tr>\n",
       "      <th>1</th>\n",
       "      <td>male</td>\n",
       "      <td>271</td>\n",
       "      <td>4.516667</td>\n",
       "    </tr>\n",
       "    <tr>\n",
       "      <th>2</th>\n",
       "      <td>male</td>\n",
       "      <td>489</td>\n",
       "      <td>8.150000</td>\n",
       "    </tr>\n",
       "    <tr>\n",
       "      <th>3</th>\n",
       "      <td>male</td>\n",
       "      <td>1249</td>\n",
       "      <td>20.816667</td>\n",
       "    </tr>\n",
       "    <tr>\n",
       "      <th>4</th>\n",
       "      <td>male</td>\n",
       "      <td>1398</td>\n",
       "      <td>23.300000</td>\n",
       "    </tr>\n",
       "    <tr>\n",
       "      <th>...</th>\n",
       "      <td>...</td>\n",
       "      <td>...</td>\n",
       "      <td>...</td>\n",
       "    </tr>\n",
       "    <tr>\n",
       "      <th>17760096</th>\n",
       "      <td>female</td>\n",
       "      <td>886</td>\n",
       "      <td>14.766667</td>\n",
       "    </tr>\n",
       "    <tr>\n",
       "      <th>17760097</th>\n",
       "      <td>female</td>\n",
       "      <td>189</td>\n",
       "      <td>3.150000</td>\n",
       "    </tr>\n",
       "    <tr>\n",
       "      <th>17760098</th>\n",
       "      <td>female</td>\n",
       "      <td>636</td>\n",
       "      <td>10.600000</td>\n",
       "    </tr>\n",
       "    <tr>\n",
       "      <th>17760099</th>\n",
       "      <td>female</td>\n",
       "      <td>773</td>\n",
       "      <td>12.883333</td>\n",
       "    </tr>\n",
       "    <tr>\n",
       "      <th>17760100</th>\n",
       "      <td>female</td>\n",
       "      <td>173</td>\n",
       "      <td>2.883333</td>\n",
       "    </tr>\n",
       "  </tbody>\n",
       "</table>\n",
       "<p>17760101 rows × 3 columns</p>\n",
       "</div>"
      ],
      "text/plain": [
       "          gender  tripduration  duration_minutes\n",
       "0           male           302          5.033333\n",
       "1           male           271          4.516667\n",
       "2           male           489          8.150000\n",
       "3           male          1249         20.816667\n",
       "4           male          1398         23.300000\n",
       "...          ...           ...               ...\n",
       "17760096  female           886         14.766667\n",
       "17760097  female           189          3.150000\n",
       "17760098  female           636         10.600000\n",
       "17760099  female           773         12.883333\n",
       "17760100  female           173          2.883333\n",
       "\n",
       "[17760101 rows x 3 columns]"
      ]
     },
     "execution_count": 125,
     "metadata": {},
     "output_type": "execute_result"
    }
   ],
   "source": [
    "ny_times = query_job.to_dataframe()\n",
    "ny_times['duration_minutes'] = ny_times['tripduration'].apply(lambda x: x / 60)\n",
    "ny_times"
   ]
  },
  {
   "cell_type": "code",
   "execution_count": 127,
   "id": "8ca7a87b",
   "metadata": {},
   "outputs": [
    {
     "data": {
      "text/plain": [
       "(2.3418808592871545, 3.066986855830575)"
      ]
     },
     "execution_count": 127,
     "metadata": {},
     "output_type": "execute_result"
    }
   ],
   "source": [
    "ny_female_durations = ny_times[ny_times['gender'] == 'female']['duration_minutes']\n",
    "ny_male_durations = ny_times[ny_times['gender'] == 'male']['duration_minutes']\n",
    "\n",
    "diff_of_means = np.mean(ny_female_durations) - np.mean(ny_male_durations)\n",
    "s_e = np.sqrt((np.std(ny_female_durations)**2/len(ny_female_durations)) + (np.std(ny_male_durations)**2/len(ny_male_durations)))\n",
    "t_star = scipy.stats.t.ppf(q=1-.05/2,df=min(len(ny_female_durations), len(ny_male_durations)))\n",
    "CI = (diff_of_means - t_star*s_e, diff_of_means + t_star*s_e)\n",
    "CI"
   ]
  },
  {
   "cell_type": "markdown",
   "id": "76b23de7",
   "metadata": {},
   "source": [
    "The results are significant. There is enough evidence to say that the average duration of female riders in NYC is more than the average duration of male riders in NYC."
   ]
  },
  {
   "cell_type": "markdown",
   "id": "125b5d37",
   "metadata": {},
   "source": [
    "# Difference in mean duration of rides of female riders between SF and NY"
   ]
  },
  {
   "cell_type": "code",
   "execution_count": 128,
   "id": "28d41d50",
   "metadata": {},
   "outputs": [
    {
     "data": {
      "text/plain": [
       "(-1.5882716235983667, -0.8191422721110475)"
      ]
     },
     "execution_count": 128,
     "metadata": {},
     "output_type": "execute_result"
    }
   ],
   "source": [
    "diff_of_means = np.mean(sf_female_durations) - np.mean(ny_female_durations)\n",
    "s_e = np.sqrt((np.std(sf_female_durations)**2/len(sf_female_durations)) + (np.std(ny_female_durations)**2/len(ny_female_durations)))\n",
    "t_star = scipy.stats.t.ppf(q=1-.05/2,df=min(len(sf_female_durations), len(ny_female_durations)))\n",
    "CI = (diff_of_means - t_star*s_e, diff_of_means + t_star*s_e)\n",
    "CI"
   ]
  },
  {
   "cell_type": "markdown",
   "id": "c2199678",
   "metadata": {},
   "source": [
    "The results are significant. There is enough evidence to say that the average duration of female riders in SF is less than the average duration of female riders in NYC."
   ]
  },
  {
   "cell_type": "markdown",
   "id": "4fb3ffd8",
   "metadata": {},
   "source": [
    "# Difference in mean duration of rides of male riders between SF and NY"
   ]
  },
  {
   "cell_type": "code",
   "execution_count": 129,
   "id": "b88ba433",
   "metadata": {},
   "outputs": [
    {
     "data": {
      "text/plain": [
       "(-2.2200743309255864, -1.864383967242785)"
      ]
     },
     "execution_count": 129,
     "metadata": {},
     "output_type": "execute_result"
    }
   ],
   "source": [
    "diff_of_means = np.mean(sf_male_durations) - np.mean(ny_male_durations)\n",
    "s_e = np.sqrt((np.std(sf_male_durations)**2/len(sf_male_durations)) + (np.std(ny_male_durations)**2/len(ny_male_durations)))\n",
    "t_star = scipy.stats.t.ppf(q=1-.05/2,df=min(len(sf_male_durations), len(ny_male_durations)))\n",
    "CI = (diff_of_means - t_star*s_e, diff_of_means + t_star*s_e)\n",
    "CI"
   ]
  },
  {
   "cell_type": "markdown",
   "id": "0cf57b1e",
   "metadata": {},
   "source": [
    "The results are significant. There is enough evidence to say that the average duration of male riders in SF is less than the average duration of male riders in NYC."
   ]
  },
  {
   "cell_type": "markdown",
   "id": "11f25898",
   "metadata": {},
   "source": [
    "# Difference in mean distance of rides between male and female riders: SF"
   ]
  },
  {
   "cell_type": "markdown",
   "id": "32e9fe04",
   "metadata": {},
   "source": [
    "Note that this is finding shortest distance between two points, we do not know the actual distance traveled by the bike."
   ]
  },
  {
   "cell_type": "code",
   "execution_count": 130,
   "id": "a5711ea2",
   "metadata": {},
   "outputs": [],
   "source": [
    "client = bigquery.Client()\n",
    "\n",
    "query = \"\"\"\n",
    "    SELECT member_gender, start_station_latitude, start_station_longitude, end_station_latitude, end_station_longitude\n",
    "    FROM `bigquery-public-data.san_francisco_bikeshare.bikeshare_trips`\n",
    "    WHERE (member_gender = 'Female' OR member_gender = 'Male') AND start_date >= '2017-01-01 00:00:00'\n",
    "\"\"\"\n",
    "\n",
    "query_job = client.query(query)"
   ]
  },
  {
   "cell_type": "code",
   "execution_count": 135,
   "id": "3f6b20ae",
   "metadata": {},
   "outputs": [
    {
     "data": {
      "text/html": [
       "<div>\n",
       "<style scoped>\n",
       "    .dataframe tbody tr th:only-of-type {\n",
       "        vertical-align: middle;\n",
       "    }\n",
       "\n",
       "    .dataframe tbody tr th {\n",
       "        vertical-align: top;\n",
       "    }\n",
       "\n",
       "    .dataframe thead th {\n",
       "        text-align: right;\n",
       "    }\n",
       "</style>\n",
       "<table border=\"1\" class=\"dataframe\">\n",
       "  <thead>\n",
       "    <tr style=\"text-align: right;\">\n",
       "      <th></th>\n",
       "      <th>member_gender</th>\n",
       "      <th>start_station_latitude</th>\n",
       "      <th>start_station_longitude</th>\n",
       "      <th>end_station_latitude</th>\n",
       "      <th>end_station_longitude</th>\n",
       "      <th>distances</th>\n",
       "    </tr>\n",
       "  </thead>\n",
       "  <tbody>\n",
       "    <tr>\n",
       "      <th>0</th>\n",
       "      <td>Male</td>\n",
       "      <td>37.765052</td>\n",
       "      <td>-122.421866</td>\n",
       "      <td>37.777791</td>\n",
       "      <td>-122.406432</td>\n",
       "      <td>1.218930</td>\n",
       "    </tr>\n",
       "    <tr>\n",
       "      <th>1</th>\n",
       "      <td>Female</td>\n",
       "      <td>37.797320</td>\n",
       "      <td>-122.265320</td>\n",
       "      <td>37.790140</td>\n",
       "      <td>-122.242373</td>\n",
       "      <td>1.349943</td>\n",
       "    </tr>\n",
       "    <tr>\n",
       "      <th>2</th>\n",
       "      <td>Male</td>\n",
       "      <td>37.819381</td>\n",
       "      <td>-122.261928</td>\n",
       "      <td>37.841800</td>\n",
       "      <td>-122.251535</td>\n",
       "      <td>1.647377</td>\n",
       "    </tr>\n",
       "    <tr>\n",
       "      <th>3</th>\n",
       "      <td>Male</td>\n",
       "      <td>37.787290</td>\n",
       "      <td>-122.394380</td>\n",
       "      <td>37.773717</td>\n",
       "      <td>-122.411647</td>\n",
       "      <td>1.330253</td>\n",
       "    </tr>\n",
       "    <tr>\n",
       "      <th>4</th>\n",
       "      <td>Male</td>\n",
       "      <td>37.800214</td>\n",
       "      <td>-122.253810</td>\n",
       "      <td>37.797320</td>\n",
       "      <td>-122.265320</td>\n",
       "      <td>0.660742</td>\n",
       "    </tr>\n",
       "    <tr>\n",
       "      <th>...</th>\n",
       "      <td>...</td>\n",
       "      <td>...</td>\n",
       "      <td>...</td>\n",
       "      <td>...</td>\n",
       "      <td>...</td>\n",
       "      <td>...</td>\n",
       "    </tr>\n",
       "    <tr>\n",
       "      <th>850968</th>\n",
       "      <td>Male</td>\n",
       "      <td>37.771058</td>\n",
       "      <td>-122.402717</td>\n",
       "      <td>37.752428</td>\n",
       "      <td>-122.420628</td>\n",
       "      <td>1.616354</td>\n",
       "    </tr>\n",
       "    <tr>\n",
       "      <th>850969</th>\n",
       "      <td>Male</td>\n",
       "      <td>37.771058</td>\n",
       "      <td>-122.402717</td>\n",
       "      <td>37.752428</td>\n",
       "      <td>-122.420628</td>\n",
       "      <td>1.616354</td>\n",
       "    </tr>\n",
       "    <tr>\n",
       "      <th>850970</th>\n",
       "      <td>Female</td>\n",
       "      <td>37.771058</td>\n",
       "      <td>-122.402717</td>\n",
       "      <td>37.752428</td>\n",
       "      <td>-122.420628</td>\n",
       "      <td>1.616354</td>\n",
       "    </tr>\n",
       "    <tr>\n",
       "      <th>850971</th>\n",
       "      <td>Male</td>\n",
       "      <td>37.771058</td>\n",
       "      <td>-122.402717</td>\n",
       "      <td>37.752428</td>\n",
       "      <td>-122.420628</td>\n",
       "      <td>1.616354</td>\n",
       "    </tr>\n",
       "    <tr>\n",
       "      <th>850972</th>\n",
       "      <td>Male</td>\n",
       "      <td>37.771058</td>\n",
       "      <td>-122.402717</td>\n",
       "      <td>37.752428</td>\n",
       "      <td>-122.420628</td>\n",
       "      <td>1.616354</td>\n",
       "    </tr>\n",
       "  </tbody>\n",
       "</table>\n",
       "<p>850973 rows × 6 columns</p>\n",
       "</div>"
      ],
      "text/plain": [
       "       member_gender  start_station_latitude  start_station_longitude  \\\n",
       "0               Male               37.765052              -122.421866   \n",
       "1             Female               37.797320              -122.265320   \n",
       "2               Male               37.819381              -122.261928   \n",
       "3               Male               37.787290              -122.394380   \n",
       "4               Male               37.800214              -122.253810   \n",
       "...              ...                     ...                      ...   \n",
       "850968          Male               37.771058              -122.402717   \n",
       "850969          Male               37.771058              -122.402717   \n",
       "850970        Female               37.771058              -122.402717   \n",
       "850971          Male               37.771058              -122.402717   \n",
       "850972          Male               37.771058              -122.402717   \n",
       "\n",
       "        end_station_latitude  end_station_longitude  distances  \n",
       "0                  37.777791            -122.406432   1.218930  \n",
       "1                  37.790140            -122.242373   1.349943  \n",
       "2                  37.841800            -122.251535   1.647377  \n",
       "3                  37.773717            -122.411647   1.330253  \n",
       "4                  37.797320            -122.265320   0.660742  \n",
       "...                      ...                    ...        ...  \n",
       "850968             37.752428            -122.420628   1.616354  \n",
       "850969             37.752428            -122.420628   1.616354  \n",
       "850970             37.752428            -122.420628   1.616354  \n",
       "850971             37.752428            -122.420628   1.616354  \n",
       "850972             37.752428            -122.420628   1.616354  \n",
       "\n",
       "[850973 rows x 6 columns]"
      ]
     },
     "execution_count": 135,
     "metadata": {},
     "output_type": "execute_result"
    }
   ],
   "source": [
    "sf_distances = query_job.to_dataframe()\n",
    "distances = []\n",
    "for start_lat, start_long, end_lat, end_long in zip(sf_distances['start_station_latitude'], \n",
    "                                                    sf_distances['start_station_longitude'],\n",
    "                                                    sf_distances['end_station_latitude'],\n",
    "                                                    sf_distances['end_station_longitude']):\n",
    "    start = (start_lat, start_long)\n",
    "    end = (end_lat, end_long)\n",
    "    distances.append(geodesic(start, end).mi)\n",
    "sf_distances['distances'] = distances\n",
    "sf_distances"
   ]
  },
  {
   "cell_type": "code",
   "execution_count": 137,
   "id": "2f33948e",
   "metadata": {},
   "outputs": [
    {
     "data": {
      "text/plain": [
       "(0.056257782001760355, 0.0626319384590247)"
      ]
     },
     "execution_count": 137,
     "metadata": {},
     "output_type": "execute_result"
    }
   ],
   "source": [
    "sf_female_distances = sf_distances[sf_distances['member_gender'] == 'Female']['distances']\n",
    "sf_male_distances = sf_distances[sf_distances['member_gender'] == 'Male']['distances']\n",
    "\n",
    "diff_of_means = np.mean(sf_female_distances) - np.mean(sf_male_distances)\n",
    "s_e = np.sqrt((np.std(sf_female_distances)**2/len(sf_female_distances)) + (np.std(sf_male_distances)**2/len(sf_male_distances)))\n",
    "t_star = scipy.stats.t.ppf(q=1-.05/2,df=min(len(sf_female_distances), len(sf_male_distances)))\n",
    "CI = (diff_of_means - t_star*s_e, diff_of_means + t_star*s_e)\n",
    "CI"
   ]
  },
  {
   "cell_type": "markdown",
   "id": "56c42c2c",
   "metadata": {},
   "source": [
    "The results are significant. There is enough evidence to say that the average distance of female riders in SF is more than the average distance of male riders in SF."
   ]
  },
  {
   "cell_type": "markdown",
   "id": "d687ae08",
   "metadata": {},
   "source": [
    "# Difference in mean distance of rides between male and female riders: NY"
   ]
  },
  {
   "cell_type": "code",
   "execution_count": 139,
   "id": "f32fa06c",
   "metadata": {},
   "outputs": [],
   "source": [
    "client = bigquery.Client()\n",
    "\n",
    "query = \"\"\"\n",
    "    SELECT gender, start_station_latitude, start_station_longitude, end_station_latitude, end_station_longitude\n",
    "    FROM `bigquery-public-data.new_york_citibike.citibike_trips`\n",
    "    WHERE (gender = 'male' OR gender = 'female') AND starttime >= '2017-01-01 00:00:00'\n",
    "\"\"\"\n",
    "\n",
    "query_job = client.query(query) "
   ]
  },
  {
   "cell_type": "code",
   "execution_count": null,
   "id": "69acfeb5",
   "metadata": {},
   "outputs": [],
   "source": [
    "ny_distances = query_job.to_dataframe()\n",
    "distances = []\n",
    "for start_lat, start_long, end_lat, end_long in zip(ny_distances['start_station_latitude'], \n",
    "                                                    ny_distances['start_station_longitude'],\n",
    "                                                    ny_distances['end_station_latitude'],\n",
    "                                                    ny_distances['end_station_longitude']):\n",
    "    start = (start_lat, start_long)\n",
    "    end = (end_lat, end_long)\n",
    "    distances.append(geodesic(start, end).mi)\n",
    "ny_distances['distances'] = distances\n",
    "ny_distances"
   ]
  },
  {
   "cell_type": "code",
   "execution_count": null,
   "id": "d71bebbd",
   "metadata": {},
   "outputs": [],
   "source": [
    "ny_female_distances = ny_distances[ny_distances['gender'] == 'female']['distances']\n",
    "ny_male_distances = ny_distances[ny_distances['gender'] == 'male']['distances']\n",
    "\n",
    "diff_of_means = np.mean(ny_female_distances) - np.mean(ny_male_distances)\n",
    "s_e = np.sqrt((np.std(ny_female_distances)**2/len(ny_female_distances)) + (np.std(ny_male_distances)**2/len(ny_male_distances)))\n",
    "t_star = scipy.stats.t.ppf(q=1-.05/2,df=min(len(ny_female_distances), len(ny_male_distances)))\n",
    "CI = (diff_of_means - t_star*s_e, diff_of_means + t_star*s_e)\n",
    "CI"
   ]
  },
  {
   "cell_type": "markdown",
   "id": "475e8a90",
   "metadata": {},
   "source": [
    "# Difference in mean distance of rides of female riders between SF and NY"
   ]
  },
  {
   "cell_type": "code",
   "execution_count": null,
   "id": "d0e5503b",
   "metadata": {},
   "outputs": [],
   "source": [
    "diff_of_means = np.mean(sf_female_distances) - np.mean(ny_female_distances)\n",
    "s_e = np.sqrt((np.std(sf_female_distances)**2/len(sf_female_distances)) + (np.std(ny_female_distances)**2/len(ny_female_distances)))\n",
    "t_star = scipy.stats.t.ppf(q=1-.05/2,df=min(len(sf_female_distances), len(ny_female_distances)))\n",
    "CI = (diff_of_means - t_star*s_e, diff_of_means + t_star*s_e)\n",
    "CI"
   ]
  },
  {
   "cell_type": "markdown",
   "id": "31a42332",
   "metadata": {},
   "source": [
    "# Difference in mean distance of rides of male riders between SF and NY"
   ]
  },
  {
   "cell_type": "code",
   "execution_count": null,
   "id": "c2186c9c",
   "metadata": {},
   "outputs": [],
   "source": [
    "diff_of_means = np.mean(sf_male_distances) - np.mean(ny_male_distances)\n",
    "s_e = np.sqrt((np.std(sf_male_distances)**2/len(sf_male_distances)) + (np.std(ny_male_distances)**2/len(ny_male_distances)))\n",
    "t_star = scipy.stats.t.ppf(q=1-.05/2,df=min(len(sf_male_distances), len(ny_male_distances)))\n",
    "CI = (diff_of_means - t_star*s_e, diff_of_means + t_star*s_e)\n",
    "CI"
   ]
  },
  {
   "cell_type": "markdown",
   "id": "89a4bd33",
   "metadata": {},
   "source": [
    "# Difference in proportion of female riders between cities"
   ]
  },
  {
   "cell_type": "code",
   "execution_count": 51,
   "id": "1f09ff70",
   "metadata": {},
   "outputs": [],
   "source": [
    "client = bigquery.Client()\n",
    "\n",
    "query = \"\"\"\n",
    "    SELECT member_gender FROM `bigquery-public-data.san_francisco_bikeshare.bikeshare_trips`\n",
    "    WHERE (member_gender = 'Female' OR member_gender = 'Male') AND start_date >= '2017-01-01 00:00:00'\n",
    "\"\"\"\n",
    "\n",
    "query_job = client.query(query) "
   ]
  },
  {
   "cell_type": "code",
   "execution_count": 52,
   "id": "5594b29b",
   "metadata": {},
   "outputs": [
    {
     "data": {
      "text/plain": [
       "member_gender\n",
       "Male             651771\n",
       "Female           199202\n",
       "dtype: int64"
      ]
     },
     "execution_count": 52,
     "metadata": {},
     "output_type": "execute_result"
    }
   ],
   "source": [
    "sf_genders = query_job.to_dataframe()\n",
    "sf_genders.value_counts()"
   ]
  },
  {
   "cell_type": "code",
   "execution_count": 53,
   "id": "94dd4345",
   "metadata": {},
   "outputs": [],
   "source": [
    "client = bigquery.Client()\n",
    "\n",
    "query = \"\"\"\n",
    "    SELECT gender FROM `bigquery-public-data.new_york_citibike.citibike_trips`\n",
    "    WHERE (gender = 'male' OR gender = 'female') AND starttime >= '2017-01-01 00:00:00'\n",
    "\"\"\"\n",
    "\n",
    "query_job = client.query(query) "
   ]
  },
  {
   "cell_type": "code",
   "execution_count": 54,
   "id": "1a7e9cce",
   "metadata": {},
   "outputs": [
    {
     "data": {
      "text/plain": [
       "gender\n",
       "male      13262473\n",
       "female     4497628\n",
       "dtype: int64"
      ]
     },
     "execution_count": 54,
     "metadata": {},
     "output_type": "execute_result"
    }
   ],
   "source": [
    "ny_genders = query_job.to_dataframe()\n",
    "ny_genders.value_counts()"
   ]
  },
  {
   "cell_type": "code",
   "execution_count": 55,
   "id": "0c68c695",
   "metadata": {},
   "outputs": [
    {
     "data": {
      "text/html": [
       "<div>\n",
       "<style scoped>\n",
       "    .dataframe tbody tr th:only-of-type {\n",
       "        vertical-align: middle;\n",
       "    }\n",
       "\n",
       "    .dataframe tbody tr th {\n",
       "        vertical-align: top;\n",
       "    }\n",
       "\n",
       "    .dataframe thead th {\n",
       "        text-align: right;\n",
       "    }\n",
       "</style>\n",
       "<table border=\"1\" class=\"dataframe\">\n",
       "  <thead>\n",
       "    <tr style=\"text-align: right;\">\n",
       "      <th></th>\n",
       "      <th>SF</th>\n",
       "      <th>NY</th>\n",
       "    </tr>\n",
       "  </thead>\n",
       "  <tbody>\n",
       "    <tr>\n",
       "      <th>male</th>\n",
       "      <td>651771</td>\n",
       "      <td>13262473</td>\n",
       "    </tr>\n",
       "    <tr>\n",
       "      <th>female</th>\n",
       "      <td>199202</td>\n",
       "      <td>4497628</td>\n",
       "    </tr>\n",
       "  </tbody>\n",
       "</table>\n",
       "</div>"
      ],
      "text/plain": [
       "            SF        NY\n",
       "male    651771  13262473\n",
       "female  199202   4497628"
      ]
     },
     "execution_count": 55,
     "metadata": {},
     "output_type": "execute_result"
    }
   ],
   "source": [
    "data = pd.DataFrame(columns = ['SF', 'NY'])\n",
    "data['SF'] = list(sf_genders.value_counts())\n",
    "data['NY'] = list(ny_genders.value_counts())\n",
    "data.index = ['male', 'female']\n",
    "data"
   ]
  },
  {
   "cell_type": "code",
   "execution_count": 56,
   "id": "67abf1b4",
   "metadata": {},
   "outputs": [],
   "source": [
    "import numpy as np\n",
    "# population proportion differences (proportion of females in SF and NY)\n",
    "# just realized should be filtered by 2017 and after\n",
    "p_female_SF = data.loc['female', 'SF'] / data['SF'].sum()\n",
    "p_female_NY = data.loc['female', 'NY'] / data['NY'].sum()\n",
    "n_SF = data['SF'].sum()\n",
    "n_NY = data['NY'].sum()\n",
    "\n",
    "p_hat = p_female_SF - p_female_NY\n",
    "s_e = np.sqrt((p_female_SF * (1 - p_female_SF) / n_SF) + (p_female_NY * (1 - p_female_NY) / n_NY))\n",
    "CI = (p_hat - 1.96*s_e, p_hat + 1.96*s_e)"
   ]
  },
  {
   "cell_type": "code",
   "execution_count": 57,
   "id": "659daa13",
   "metadata": {},
   "outputs": [
    {
     "data": {
      "text/plain": [
       "(-0.020078157118831246, -0.01823393622132637)"
      ]
     },
     "execution_count": 57,
     "metadata": {},
     "output_type": "execute_result"
    }
   ],
   "source": [
    "CI"
   ]
  },
  {
   "cell_type": "markdown",
   "id": "340de8ad",
   "metadata": {},
   "source": [
    "The results are significant. There is enough evidence to say that the proportion of female riders in san franscisco is less than the proportion of female riders in New York."
   ]
  },
  {
   "cell_type": "markdown",
   "id": "7fdacda9",
   "metadata": {},
   "source": [
    "# Difference in proportion of generations between cities"
   ]
  },
  {
   "cell_type": "code",
   "execution_count": 58,
   "id": "bfd31b37",
   "metadata": {},
   "outputs": [],
   "source": [
    "# map year to generation\n",
    "def map_year_to_generation(year):\n",
    "    if 1928 <= year <= 1945:\n",
    "        generation = 'Silent'\n",
    "    elif 1946 <= year <= 1964:\n",
    "        generation = 'Baby Boomers'\n",
    "    elif 1965 <= year <= 1980:\n",
    "        generation = 'Generation X'\n",
    "    elif 1981 <= year <= 1996:\n",
    "        generation = 'Millennials'\n",
    "    elif 1997 <= year:\n",
    "        generation = 'Generation Z'\n",
    "    else:\n",
    "        generation = 'Before Silent'\n",
    "    return generation"
   ]
  },
  {
   "cell_type": "code",
   "execution_count": 59,
   "id": "b6e87578",
   "metadata": {},
   "outputs": [],
   "source": [
    "client = bigquery.Client()\n",
    "\n",
    "query = \"\"\"\n",
    "    SELECT member_birth_year FROM `bigquery-public-data.san_francisco_bikeshare.bikeshare_trips`\n",
    "    WHERE start_date >= '2017-01-01 00:00:00'\n",
    "\"\"\"\n",
    "\n",
    "query_job = client.query(query) "
   ]
  },
  {
   "cell_type": "code",
   "execution_count": 60,
   "id": "258219ca",
   "metadata": {},
   "outputs": [
    {
     "data": {
      "text/html": [
       "<div>\n",
       "<style scoped>\n",
       "    .dataframe tbody tr th:only-of-type {\n",
       "        vertical-align: middle;\n",
       "    }\n",
       "\n",
       "    .dataframe tbody tr th {\n",
       "        vertical-align: top;\n",
       "    }\n",
       "\n",
       "    .dataframe thead th {\n",
       "        text-align: right;\n",
       "    }\n",
       "</style>\n",
       "<table border=\"1\" class=\"dataframe\">\n",
       "  <thead>\n",
       "    <tr style=\"text-align: right;\">\n",
       "      <th></th>\n",
       "      <th>member_birth_year</th>\n",
       "      <th>generation</th>\n",
       "    </tr>\n",
       "  </thead>\n",
       "  <tbody>\n",
       "    <tr>\n",
       "      <th>0</th>\n",
       "      <td>1955.0</td>\n",
       "      <td>Baby Boomers</td>\n",
       "    </tr>\n",
       "    <tr>\n",
       "      <th>1</th>\n",
       "      <td>1999.0</td>\n",
       "      <td>Generation Z</td>\n",
       "    </tr>\n",
       "    <tr>\n",
       "      <th>2</th>\n",
       "      <td>1952.0</td>\n",
       "      <td>Baby Boomers</td>\n",
       "    </tr>\n",
       "    <tr>\n",
       "      <th>3</th>\n",
       "      <td>1948.0</td>\n",
       "      <td>Baby Boomers</td>\n",
       "    </tr>\n",
       "    <tr>\n",
       "      <th>4</th>\n",
       "      <td>1954.0</td>\n",
       "      <td>Baby Boomers</td>\n",
       "    </tr>\n",
       "    <tr>\n",
       "      <th>...</th>\n",
       "      <td>...</td>\n",
       "      <td>...</td>\n",
       "    </tr>\n",
       "    <tr>\n",
       "      <th>963766</th>\n",
       "      <td>1997.0</td>\n",
       "      <td>Generation Z</td>\n",
       "    </tr>\n",
       "    <tr>\n",
       "      <th>963767</th>\n",
       "      <td>1997.0</td>\n",
       "      <td>Generation Z</td>\n",
       "    </tr>\n",
       "    <tr>\n",
       "      <th>963768</th>\n",
       "      <td>1997.0</td>\n",
       "      <td>Generation Z</td>\n",
       "    </tr>\n",
       "    <tr>\n",
       "      <th>963769</th>\n",
       "      <td>1997.0</td>\n",
       "      <td>Generation Z</td>\n",
       "    </tr>\n",
       "    <tr>\n",
       "      <th>963770</th>\n",
       "      <td>1997.0</td>\n",
       "      <td>Generation Z</td>\n",
       "    </tr>\n",
       "  </tbody>\n",
       "</table>\n",
       "<p>963771 rows × 2 columns</p>\n",
       "</div>"
      ],
      "text/plain": [
       "        member_birth_year    generation\n",
       "0                  1955.0  Baby Boomers\n",
       "1                  1999.0  Generation Z\n",
       "2                  1952.0  Baby Boomers\n",
       "3                  1948.0  Baby Boomers\n",
       "4                  1954.0  Baby Boomers\n",
       "...                   ...           ...\n",
       "963766             1997.0  Generation Z\n",
       "963767             1997.0  Generation Z\n",
       "963768             1997.0  Generation Z\n",
       "963769             1997.0  Generation Z\n",
       "963770             1997.0  Generation Z\n",
       "\n",
       "[963771 rows x 2 columns]"
      ]
     },
     "execution_count": 60,
     "metadata": {},
     "output_type": "execute_result"
    }
   ],
   "source": [
    "sf_generations = query_job.to_dataframe()\n",
    "sf_generations['generation'] = sf_generations['member_birth_year'].apply(lambda x: map_year_to_generation(x))\n",
    "sf_generations"
   ]
  },
  {
   "cell_type": "code",
   "execution_count": 61,
   "id": "e7d4d9fa",
   "metadata": {},
   "outputs": [
    {
     "data": {
      "text/plain": [
       "Baby Boomers      68635\n",
       "Before Silent    101906\n",
       "Generation X     259685\n",
       "Generation Z      12827\n",
       "Millennials      518330\n",
       "Silent             2388\n",
       "Name: generation, dtype: int64"
      ]
     },
     "execution_count": 61,
     "metadata": {},
     "output_type": "execute_result"
    }
   ],
   "source": [
    "sf_generations['generation'].value_counts().sort_index()"
   ]
  },
  {
   "cell_type": "code",
   "execution_count": 62,
   "id": "66bda4a9",
   "metadata": {},
   "outputs": [],
   "source": [
    "client = bigquery.Client()\n",
    "\n",
    "query = \"\"\"\n",
    "    SELECT birth_year FROM `bigquery-public-data.new_york_citibike.citibike_trips`\n",
    "    WHERE starttime >= '2017-01-01 00:00:00'\n",
    "\"\"\"\n",
    "\n",
    "query_job = client.query(query) "
   ]
  },
  {
   "cell_type": "code",
   "execution_count": 63,
   "id": "a3de8460",
   "metadata": {},
   "outputs": [
    {
     "data": {
      "text/html": [
       "<div>\n",
       "<style scoped>\n",
       "    .dataframe tbody tr th:only-of-type {\n",
       "        vertical-align: middle;\n",
       "    }\n",
       "\n",
       "    .dataframe tbody tr th {\n",
       "        vertical-align: top;\n",
       "    }\n",
       "\n",
       "    .dataframe thead th {\n",
       "        text-align: right;\n",
       "    }\n",
       "</style>\n",
       "<table border=\"1\" class=\"dataframe\">\n",
       "  <thead>\n",
       "    <tr style=\"text-align: right;\">\n",
       "      <th></th>\n",
       "      <th>birth_year</th>\n",
       "      <th>generation</th>\n",
       "    </tr>\n",
       "  </thead>\n",
       "  <tbody>\n",
       "    <tr>\n",
       "      <th>0</th>\n",
       "      <td>1995.0</td>\n",
       "      <td>Millennials</td>\n",
       "    </tr>\n",
       "    <tr>\n",
       "      <th>1</th>\n",
       "      <td>1995.0</td>\n",
       "      <td>Millennials</td>\n",
       "    </tr>\n",
       "    <tr>\n",
       "      <th>2</th>\n",
       "      <td>1995.0</td>\n",
       "      <td>Millennials</td>\n",
       "    </tr>\n",
       "    <tr>\n",
       "      <th>3</th>\n",
       "      <td>1995.0</td>\n",
       "      <td>Millennials</td>\n",
       "    </tr>\n",
       "    <tr>\n",
       "      <th>4</th>\n",
       "      <td>1995.0</td>\n",
       "      <td>Millennials</td>\n",
       "    </tr>\n",
       "    <tr>\n",
       "      <th>...</th>\n",
       "      <td>...</td>\n",
       "      <td>...</td>\n",
       "    </tr>\n",
       "    <tr>\n",
       "      <th>19789697</th>\n",
       "      <td>1987.0</td>\n",
       "      <td>Millennials</td>\n",
       "    </tr>\n",
       "    <tr>\n",
       "      <th>19789698</th>\n",
       "      <td>1966.0</td>\n",
       "      <td>Generation X</td>\n",
       "    </tr>\n",
       "    <tr>\n",
       "      <th>19789699</th>\n",
       "      <td>1989.0</td>\n",
       "      <td>Millennials</td>\n",
       "    </tr>\n",
       "    <tr>\n",
       "      <th>19789700</th>\n",
       "      <td>1990.0</td>\n",
       "      <td>Millennials</td>\n",
       "    </tr>\n",
       "    <tr>\n",
       "      <th>19789701</th>\n",
       "      <td>1976.0</td>\n",
       "      <td>Generation X</td>\n",
       "    </tr>\n",
       "  </tbody>\n",
       "</table>\n",
       "<p>19789702 rows × 2 columns</p>\n",
       "</div>"
      ],
      "text/plain": [
       "          birth_year    generation\n",
       "0             1995.0   Millennials\n",
       "1             1995.0   Millennials\n",
       "2             1995.0   Millennials\n",
       "3             1995.0   Millennials\n",
       "4             1995.0   Millennials\n",
       "...              ...           ...\n",
       "19789697      1987.0   Millennials\n",
       "19789698      1966.0  Generation X\n",
       "19789699      1989.0   Millennials\n",
       "19789700      1990.0   Millennials\n",
       "19789701      1976.0  Generation X\n",
       "\n",
       "[19789702 rows x 2 columns]"
      ]
     },
     "execution_count": 63,
     "metadata": {},
     "output_type": "execute_result"
    }
   ],
   "source": [
    "ny_generations = query_job.to_dataframe()\n",
    "ny_generations['generation'] = ny_generations['birth_year'].apply(lambda x: map_year_to_generation(x))\n",
    "ny_generations"
   ]
  },
  {
   "cell_type": "code",
   "execution_count": 64,
   "id": "25637087",
   "metadata": {},
   "outputs": [
    {
     "data": {
      "text/plain": [
       "Baby Boomers     2423551\n",
       "Before Silent    1531801\n",
       "Generation X     6106357\n",
       "Generation Z      309690\n",
       "Millennials      9350028\n",
       "Silent             68275\n",
       "Name: generation, dtype: int64"
      ]
     },
     "execution_count": 64,
     "metadata": {},
     "output_type": "execute_result"
    }
   ],
   "source": [
    "ny_generations['generation'].value_counts().sort_index()"
   ]
  },
  {
   "cell_type": "code",
   "execution_count": 65,
   "id": "2efeebf3",
   "metadata": {},
   "outputs": [
    {
     "data": {
      "text/html": [
       "<div>\n",
       "<style scoped>\n",
       "    .dataframe tbody tr th:only-of-type {\n",
       "        vertical-align: middle;\n",
       "    }\n",
       "\n",
       "    .dataframe tbody tr th {\n",
       "        vertical-align: top;\n",
       "    }\n",
       "\n",
       "    .dataframe thead th {\n",
       "        text-align: right;\n",
       "    }\n",
       "</style>\n",
       "<table border=\"1\" class=\"dataframe\">\n",
       "  <thead>\n",
       "    <tr style=\"text-align: right;\">\n",
       "      <th></th>\n",
       "      <th>SF</th>\n",
       "      <th>NY</th>\n",
       "    </tr>\n",
       "  </thead>\n",
       "  <tbody>\n",
       "    <tr>\n",
       "      <th>Baby Boomers</th>\n",
       "      <td>68635</td>\n",
       "      <td>2423551</td>\n",
       "    </tr>\n",
       "    <tr>\n",
       "      <th>Generation X</th>\n",
       "      <td>259685</td>\n",
       "      <td>6106357</td>\n",
       "    </tr>\n",
       "    <tr>\n",
       "      <th>Generation Z</th>\n",
       "      <td>12827</td>\n",
       "      <td>309690</td>\n",
       "    </tr>\n",
       "    <tr>\n",
       "      <th>Millennials</th>\n",
       "      <td>518330</td>\n",
       "      <td>9350028</td>\n",
       "    </tr>\n",
       "    <tr>\n",
       "      <th>Silent</th>\n",
       "      <td>2388</td>\n",
       "      <td>68275</td>\n",
       "    </tr>\n",
       "  </tbody>\n",
       "</table>\n",
       "</div>"
      ],
      "text/plain": [
       "                  SF       NY\n",
       "Baby Boomers   68635  2423551\n",
       "Generation X  259685  6106357\n",
       "Generation Z   12827   309690\n",
       "Millennials   518330  9350028\n",
       "Silent          2388    68275"
      ]
     },
     "execution_count": 65,
     "metadata": {},
     "output_type": "execute_result"
    }
   ],
   "source": [
    "# get rid of birth years before the silent generation to get rid of unrealistic data\n",
    "data = pd.DataFrame(columns = ['SF', 'NY'])\n",
    "data['SF'] = list(sf_generations['generation'].value_counts().sort_index())\n",
    "data['NY'] = list(ny_generations['generation'].value_counts().sort_index())\n",
    "data.index = ['Baby Boomers', 'Before Silent', 'Generation X', 'Generation Z', 'Millennials', 'Silent']\n",
    "data = data.drop(index = ['Before Silent'])\n",
    "data"
   ]
  },
  {
   "cell_type": "code",
   "execution_count": 76,
   "id": "d04827b1",
   "metadata": {},
   "outputs": [
    {
     "data": {
      "text/html": [
       "<div>\n",
       "<style scoped>\n",
       "    .dataframe tbody tr th:only-of-type {\n",
       "        vertical-align: middle;\n",
       "    }\n",
       "\n",
       "    .dataframe tbody tr th {\n",
       "        vertical-align: top;\n",
       "    }\n",
       "\n",
       "    .dataframe thead th {\n",
       "        text-align: right;\n",
       "    }\n",
       "</style>\n",
       "<table border=\"1\" class=\"dataframe\">\n",
       "  <thead>\n",
       "    <tr style=\"text-align: right;\">\n",
       "      <th></th>\n",
       "      <th>SF</th>\n",
       "      <th>NY</th>\n",
       "    </tr>\n",
       "  </thead>\n",
       "  <tbody>\n",
       "    <tr>\n",
       "      <th>Baby Boomers</th>\n",
       "      <td>0.079635</td>\n",
       "      <td>0.132740</td>\n",
       "    </tr>\n",
       "    <tr>\n",
       "      <th>Generation X</th>\n",
       "      <td>0.301306</td>\n",
       "      <td>0.334450</td>\n",
       "    </tr>\n",
       "    <tr>\n",
       "      <th>Generation Z</th>\n",
       "      <td>0.014883</td>\n",
       "      <td>0.016962</td>\n",
       "    </tr>\n",
       "    <tr>\n",
       "      <th>Millennials</th>\n",
       "      <td>0.601405</td>\n",
       "      <td>0.512109</td>\n",
       "    </tr>\n",
       "    <tr>\n",
       "      <th>Silent</th>\n",
       "      <td>0.002771</td>\n",
       "      <td>0.003739</td>\n",
       "    </tr>\n",
       "  </tbody>\n",
       "</table>\n",
       "</div>"
      ],
      "text/plain": [
       "                    SF        NY\n",
       "Baby Boomers  0.079635  0.132740\n",
       "Generation X  0.301306  0.334450\n",
       "Generation Z  0.014883  0.016962\n",
       "Millennials   0.601405  0.512109\n",
       "Silent        0.002771  0.003739"
      ]
     },
     "execution_count": 76,
     "metadata": {},
     "output_type": "execute_result"
    }
   ],
   "source": [
    "data_proportions = data\n",
    "data_proportions['SF'] = data_proportions['SF']/data_proportions['SF'].sum()\n",
    "data_proportions['NY'] = data_proportions['NY']/data_proportions['NY'].sum()\n",
    "data_proportions"
   ]
  },
  {
   "cell_type": "markdown",
   "id": "5da5d188",
   "metadata": {},
   "source": [
    "# Boomers"
   ]
  },
  {
   "cell_type": "code",
   "execution_count": 66,
   "id": "a229328b",
   "metadata": {},
   "outputs": [],
   "source": [
    "p_boomers_SF = data.loc['Baby Boomers', 'SF'] / data['SF'].sum()\n",
    "p_boomers_NY = data.loc['Baby Boomers', 'NY'] / data['NY'].sum()\n",
    "n_SF = data['SF'].sum()\n",
    "n_NY = data['NY'].sum()\n",
    "\n",
    "p_hat = p_boomers_SF - p_boomers_NY\n",
    "s_e = np.sqrt((p_boomers_SF * (1 - p_boomers_SF) / n_SF) + (p_boomers_NY * (1 - p_boomers_NY) / n_NY))\n",
    "CI = (p_hat - 1.96*s_e, p_hat + 1.96*s_e)"
   ]
  },
  {
   "cell_type": "code",
   "execution_count": 67,
   "id": "368fec17",
   "metadata": {},
   "outputs": [
    {
     "data": {
      "text/plain": [
       "(-0.05369678653127372, -0.052512025590019294)"
      ]
     },
     "execution_count": 67,
     "metadata": {},
     "output_type": "execute_result"
    }
   ],
   "source": [
    "CI"
   ]
  },
  {
   "cell_type": "markdown",
   "id": "de287eb3",
   "metadata": {},
   "source": [
    "The results are significant. There is enough evidence to say that the proportion of baby boomer riders in san franscisco is less than the proportion of baby boomer riders in New York."
   ]
  },
  {
   "cell_type": "markdown",
   "id": "ed021381",
   "metadata": {},
   "source": [
    "# Gen X"
   ]
  },
  {
   "cell_type": "code",
   "execution_count": 68,
   "id": "05b72338",
   "metadata": {},
   "outputs": [],
   "source": [
    "p_X_SF = data.loc['Generation X', 'SF'] / data['SF'].sum()\n",
    "p_X_NY = data.loc['Generation X', 'NY'] / data['NY'].sum()\n",
    "n_SF = data['SF'].sum()\n",
    "n_NY = data['NY'].sum()\n",
    "\n",
    "p_hat = p_X_SF - p_X_NY\n",
    "s_e = np.sqrt((p_X_SF * (1 - p_X_SF) / n_SF) + (p_X_NY * (1 - p_X_NY) / n_NY))\n",
    "CI = (p_hat - 1.96*s_e, p_hat + 1.96*s_e)"
   ]
  },
  {
   "cell_type": "code",
   "execution_count": 69,
   "id": "0660dd50",
   "metadata": {},
   "outputs": [
    {
     "data": {
      "text/plain": [
       "(-0.034136789138819054, -0.032151653153416906)"
      ]
     },
     "execution_count": 69,
     "metadata": {},
     "output_type": "execute_result"
    }
   ],
   "source": [
    "CI"
   ]
  },
  {
   "cell_type": "markdown",
   "id": "9d719d63",
   "metadata": {},
   "source": [
    "The results are significant. There is enough evidence to say that the proportion of generation x riders in san franscisco is less than the proportion of generation x riders in New York."
   ]
  },
  {
   "cell_type": "markdown",
   "id": "af150ad3",
   "metadata": {},
   "source": [
    "# Generation Z"
   ]
  },
  {
   "cell_type": "code",
   "execution_count": 70,
   "id": "593a7524",
   "metadata": {},
   "outputs": [],
   "source": [
    "p_Z_SF = data.loc['Generation Z', 'SF'] / data['SF'].sum()\n",
    "p_Z_NY = data.loc['Generation Z', 'NY'] / data['NY'].sum()\n",
    "n_SF = data['SF'].sum()\n",
    "n_NY = data['NY'].sum()\n",
    "\n",
    "p_hat = p_Z_SF - p_Z_NY\n",
    "s_e = np.sqrt((p_Z_SF * (1 - p_Z_SF) / n_SF) + (p_Z_NY * (1 - p_Z_NY) / n_NY))\n",
    "CI = (p_hat - 1.96*s_e, p_hat + 1.96*s_e)"
   ]
  },
  {
   "cell_type": "code",
   "execution_count": 71,
   "id": "a87073a1",
   "metadata": {},
   "outputs": [
    {
     "data": {
      "text/plain": [
       "(-0.0023415395380374966, -0.001816721294523569)"
      ]
     },
     "execution_count": 71,
     "metadata": {},
     "output_type": "execute_result"
    }
   ],
   "source": [
    "CI"
   ]
  },
  {
   "cell_type": "markdown",
   "id": "42050ae5",
   "metadata": {},
   "source": [
    "The results are significant. There is enough evidence to say that the proportion of generation z riders in san franscisco is less than the proportion of generation z riders in New York."
   ]
  },
  {
   "cell_type": "markdown",
   "id": "c8d40bed",
   "metadata": {},
   "source": [
    "# Millennials"
   ]
  },
  {
   "cell_type": "code",
   "execution_count": 72,
   "id": "767b5aa0",
   "metadata": {},
   "outputs": [],
   "source": [
    "p_millennial_SF = data.loc['Millennials', 'SF'] / data['SF'].sum()\n",
    "p_millennial_NY = data.loc['Millennials', 'NY'] / data['NY'].sum()\n",
    "n_SF = data['SF'].sum()\n",
    "n_NY = data['NY'].sum()\n",
    "\n",
    "p_hat = p_millennial_SF - p_millennial_NY\n",
    "s_e = np.sqrt((p_millennial_SF * (1 - p_millennial_SF) / n_SF) + (p_millennial_NY * (1 - p_millennial_NY) / n_NY))\n",
    "CI = (p_hat - 1.96*s_e, p_hat + 1.96*s_e)"
   ]
  },
  {
   "cell_type": "code",
   "execution_count": 73,
   "id": "c207223b",
   "metadata": {},
   "outputs": [
    {
     "data": {
      "text/plain": [
       "(0.08823769583141865, 0.09035530220864403)"
      ]
     },
     "execution_count": 73,
     "metadata": {},
     "output_type": "execute_result"
    }
   ],
   "source": [
    "CI"
   ]
  },
  {
   "cell_type": "markdown",
   "id": "875271d8",
   "metadata": {},
   "source": [
    "The results are significant. There is enough evidence to say that the proportion of millennial riders in san franscisco is more than the proportion of millennial riders in New York."
   ]
  },
  {
   "cell_type": "markdown",
   "id": "aa853cbe",
   "metadata": {},
   "source": [
    "# Silent"
   ]
  },
  {
   "cell_type": "code",
   "execution_count": 74,
   "id": "c085bd2c",
   "metadata": {},
   "outputs": [],
   "source": [
    "p_silent_SF = data.loc['Silent', 'SF'] / data['SF'].sum()\n",
    "p_silent_NY = data.loc['Silent', 'NY'] / data['NY'].sum()\n",
    "n_SF = data['SF'].sum()\n",
    "n_NY = data['NY'].sum()\n",
    "\n",
    "p_hat = p_silent_SF - p_silent_NY\n",
    "s_e = np.sqrt((p_silent_SF * (1 - p_silent_SF) / n_SF) + (p_silent_NY * (1 - p_silent_NY) / n_NY))\n",
    "CI = (p_hat - 1.96*s_e, p_hat + 1.96*s_e)"
   ]
  },
  {
   "cell_type": "code",
   "execution_count": 75,
   "id": "4ea498d9",
   "metadata": {},
   "outputs": [
    {
     "data": {
      "text/plain": [
       "(-0.0010831952399298162, -0.0008542875540427901)"
      ]
     },
     "execution_count": 75,
     "metadata": {},
     "output_type": "execute_result"
    }
   ],
   "source": [
    "CI"
   ]
  },
  {
   "cell_type": "markdown",
   "id": "5d9bb5b9",
   "metadata": {},
   "source": [
    "The results are significant. There is enough evidence to say that the proportion of silent riders in san franscisco is less than the proportion of silent riders in New York."
   ]
  }
 ],
 "metadata": {
  "kernelspec": {
   "display_name": "Python 3",
   "language": "python",
   "name": "python3"
  },
  "language_info": {
   "codemirror_mode": {
    "name": "ipython",
    "version": 3
   },
   "file_extension": ".py",
   "mimetype": "text/x-python",
   "name": "python",
   "nbconvert_exporter": "python",
   "pygments_lexer": "ipython3",
   "version": "3.8.8"
  }
 },
 "nbformat": 4,
 "nbformat_minor": 5
}
