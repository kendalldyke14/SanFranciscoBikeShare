{
 "cells": [
  {
   "cell_type": "code",
   "execution_count": 1,
   "metadata": {},
   "outputs": [],
   "source": [
    "import warnings\n",
    "warnings.filterwarnings(\"ignore\")\n",
    "\n",
    "import pandas as pd\n",
    "import numpy as np\n",
    "\n",
    "from google.cloud import bigquery\n",
    "\n",
    "import geopy\n",
    "from uszipcode import SearchEngine\n",
    "search = SearchEngine(simple_zipcode=True)\n",
    "from uszipcode import Zipcode\n",
    "import numpy as np"
   ]
  },
  {
   "cell_type": "code",
   "execution_count": 2,
   "metadata": {},
   "outputs": [
    {
     "name": "stdout",
     "output_type": "stream",
     "text": [
      "Requirement already satisfied: pyarrow in c:\\users\\kenda\\appdata\\roaming\\python\\python37\\site-packages (5.0.0)\n",
      "Requirement already satisfied: numpy>=1.16.6 in c:\\users\\kenda\\appdata\\local\\continuum\\anaconda3\\lib\\site-packages (from pyarrow) (1.21.2)\n",
      "Note: you may need to restart the kernel to use updated packages.\n"
     ]
    }
   ],
   "source": [
    "pip install pyarrow"
   ]
  },
  {
   "cell_type": "code",
   "execution_count": 3,
   "metadata": {},
   "outputs": [],
   "source": [
    "# Changing the settings to override this file path in the environment\n",
    "import os\n",
    "\n",
    "os.environ[\"GOOGLE_APPLICATION_CREDENTIALS\"]=r\"\\Users\\kenda\\OneDrive\\Documents\\MADS\\591MilestoneI\\SanFranciscoBikeShare\\sf-bike-321222-7e949b330c94.json\""
   ]
  },
  {
   "cell_type": "code",
   "execution_count": 4,
   "metadata": {},
   "outputs": [],
   "source": [
    "# all distinct station pairs with lat lons\n",
    "client = bigquery.Client()\n",
    "\n",
    "query = \"\"\"\n",
    "    SELECT DISTINCT start_station_id, start_station_longitude, start_station_latitude,\n",
    "        end_station_id, end_station_longitude, end_station_latitude\n",
    "    FROM `bigquery-public-data.san_francisco_bikeshare.bikeshare_trips`\n",
    "    WHERE EXTRACT(YEAR from start_date)=2017\n",
    "\"\"\"\n",
    "\n",
    "query_job = client.query(query)  # Make an API request."
   ]
  },
  {
   "cell_type": "code",
   "execution_count": 5,
   "metadata": {},
   "outputs": [],
   "source": [
    "latlong2017 = query_job.to_dataframe()"
   ]
  },
  {
   "cell_type": "code",
   "execution_count": 6,
   "metadata": {},
   "outputs": [
    {
     "data": {
      "text/plain": [
       "(20027, 6)"
      ]
     },
     "execution_count": 6,
     "metadata": {},
     "output_type": "execute_result"
    }
   ],
   "source": [
    "latlong2017.shape"
   ]
  },
  {
   "cell_type": "code",
   "execution_count": 7,
   "metadata": {},
   "outputs": [],
   "source": [
    "## trips dataframe\n",
    "\n",
    "query = \"\"\"\n",
    "    SELECT *\n",
    "    FROM `bigquery-public-data.san_francisco_bikeshare.bikeshare_trips`\n",
    "    WHERE EXTRACT(YEAR from start_date)=2017\n",
    "\"\"\"\n",
    "\n",
    "query_job = client.query(query)  # Make an API request."
   ]
  },
  {
   "cell_type": "code",
   "execution_count": 8,
   "metadata": {},
   "outputs": [],
   "source": [
    "trips = query_job.to_dataframe()"
   ]
  },
  {
   "cell_type": "code",
   "execution_count": 9,
   "metadata": {},
   "outputs": [
    {
     "data": {
      "text/plain": [
       "(519700, 21)"
      ]
     },
     "execution_count": 9,
     "metadata": {},
     "output_type": "execute_result"
    }
   ],
   "source": [
    "trips.shape"
   ]
  },
  {
   "cell_type": "code",
   "execution_count": 10,
   "metadata": {},
   "outputs": [],
   "source": [
    "## station dataframe\n",
    "\n",
    "client = bigquery.Client()\n",
    "\n",
    "query = \"\"\"\n",
    "    SELECT *\n",
    "    FROM `bigquery-public-data.san_francisco_bikeshare.bikeshare_station_info`\n",
    "\"\"\"\n",
    "\n",
    "query_job = client.query(query)  # Make an API request."
   ]
  },
  {
   "cell_type": "code",
   "execution_count": 11,
   "metadata": {},
   "outputs": [],
   "source": [
    "stations = query_job.to_dataframe()"
   ]
  },
  {
   "cell_type": "code",
   "execution_count": 12,
   "metadata": {},
   "outputs": [],
   "source": [
    "#define zipcode search function\n",
    "def get_zipcode(lat, lon):\n",
    "    result = search.by_coordinates(lat = lat, lng = lon, returns = 1)\n",
    "    return result[0].zipcode\n",
    "\n",
    "#add new column with generated zip-code\n",
    "stations['zipcode'] = stations.apply(lambda x: get_zipcode(x.lat,x.lon), axis=1)"
   ]
  },
  {
   "cell_type": "code",
   "execution_count": 13,
   "metadata": {},
   "outputs": [],
   "source": [
    "def get_tripzips(latlonDF, start_lat, start_lon, end_lat, end_lon):\n",
    "    #get zipcode for each start station\n",
    "    latlonDF['start_zipcode'] = latlonDF.apply(lambda x: get_zipcode(x[start_lat],x[start_lon]), axis=1)\n",
    "    \n",
    "    #get zipcode for each end station\n",
    "    latlonDF['end_zipcode'] = latlonDF.apply(lambda x: get_zipcode(x[end_lat],x[end_lon]), axis=1)\n",
    "\n",
    "    return latlonDF"
   ]
  },
  {
   "cell_type": "markdown",
   "metadata": {},
   "source": [
    "#### Get zipcodes for unique start and end station pairs."
   ]
  },
  {
   "cell_type": "code",
   "execution_count": 14,
   "metadata": {},
   "outputs": [],
   "source": [
    "latlons = get_tripzips(latlong2017, \"start_station_latitude\", 'start_station_longitude', 'end_station_latitude', 'end_station_longitude')"
   ]
  },
  {
   "cell_type": "code",
   "execution_count": 15,
   "metadata": {},
   "outputs": [
    {
     "data": {
      "text/html": [
       "<div>\n",
       "<style scoped>\n",
       "    .dataframe tbody tr th:only-of-type {\n",
       "        vertical-align: middle;\n",
       "    }\n",
       "\n",
       "    .dataframe tbody tr th {\n",
       "        vertical-align: top;\n",
       "    }\n",
       "\n",
       "    .dataframe thead th {\n",
       "        text-align: right;\n",
       "    }\n",
       "</style>\n",
       "<table border=\"1\" class=\"dataframe\">\n",
       "  <thead>\n",
       "    <tr style=\"text-align: right;\">\n",
       "      <th></th>\n",
       "      <th>start_station_id</th>\n",
       "      <th>start_station_longitude</th>\n",
       "      <th>start_station_latitude</th>\n",
       "      <th>end_station_id</th>\n",
       "      <th>end_station_longitude</th>\n",
       "      <th>end_station_latitude</th>\n",
       "      <th>start_zipcode</th>\n",
       "      <th>end_zipcode</th>\n",
       "    </tr>\n",
       "  </thead>\n",
       "  <tbody>\n",
       "    <tr>\n",
       "      <th>0</th>\n",
       "      <td>232</td>\n",
       "      <td>-122.276040</td>\n",
       "      <td>37.806163</td>\n",
       "      <td>160</td>\n",
       "      <td>-122.294837</td>\n",
       "      <td>37.805318</td>\n",
       "      <td>94612</td>\n",
       "      <td>94607</td>\n",
       "    </tr>\n",
       "    <tr>\n",
       "      <th>1</th>\n",
       "      <td>163</td>\n",
       "      <td>-122.265320</td>\n",
       "      <td>37.797320</td>\n",
       "      <td>46</td>\n",
       "      <td>-122.242373</td>\n",
       "      <td>37.790140</td>\n",
       "      <td>94612</td>\n",
       "      <td>94606</td>\n",
       "    </tr>\n",
       "    <tr>\n",
       "      <th>2</th>\n",
       "      <td>178</td>\n",
       "      <td>-122.261928</td>\n",
       "      <td>37.819381</td>\n",
       "      <td>172</td>\n",
       "      <td>-122.251535</td>\n",
       "      <td>37.841800</td>\n",
       "      <td>94609</td>\n",
       "      <td>94618</td>\n",
       "    </tr>\n",
       "    <tr>\n",
       "      <th>3</th>\n",
       "      <td>200</td>\n",
       "      <td>-122.253810</td>\n",
       "      <td>37.800214</td>\n",
       "      <td>163</td>\n",
       "      <td>-122.265320</td>\n",
       "      <td>37.797320</td>\n",
       "      <td>94606</td>\n",
       "      <td>94612</td>\n",
       "    </tr>\n",
       "    <tr>\n",
       "      <th>4</th>\n",
       "      <td>277</td>\n",
       "      <td>-121.908586</td>\n",
       "      <td>37.333658</td>\n",
       "      <td>278</td>\n",
       "      <td>-121.904888</td>\n",
       "      <td>37.331932</td>\n",
       "      <td>95110</td>\n",
       "      <td>95110</td>\n",
       "    </tr>\n",
       "  </tbody>\n",
       "</table>\n",
       "</div>"
      ],
      "text/plain": [
       "   start_station_id  start_station_longitude  start_station_latitude  \\\n",
       "0               232              -122.276040               37.806163   \n",
       "1               163              -122.265320               37.797320   \n",
       "2               178              -122.261928               37.819381   \n",
       "3               200              -122.253810               37.800214   \n",
       "4               277              -121.908586               37.333658   \n",
       "\n",
       "   end_station_id  end_station_longitude  end_station_latitude start_zipcode  \\\n",
       "0             160            -122.294837             37.805318         94612   \n",
       "1              46            -122.242373             37.790140         94612   \n",
       "2             172            -122.251535             37.841800         94609   \n",
       "3             163            -122.265320             37.797320         94606   \n",
       "4             278            -121.904888             37.331932         95110   \n",
       "\n",
       "  end_zipcode  \n",
       "0       94607  \n",
       "1       94606  \n",
       "2       94618  \n",
       "3       94612  \n",
       "4       95110  "
      ]
     },
     "execution_count": 15,
     "metadata": {},
     "output_type": "execute_result"
    }
   ],
   "source": [
    "latlons.head()"
   ]
  },
  {
   "cell_type": "code",
   "execution_count": 28,
   "metadata": {},
   "outputs": [],
   "source": [
    "# tag trips with start and end zipcodes\n",
    "tripsWithZip = trips.merge(latlons, on = [\"start_station_id\", \"end_station_id\"])"
   ]
  },
  {
   "cell_type": "code",
   "execution_count": 29,
   "metadata": {},
   "outputs": [],
   "source": [
    "#drop duplicate columns\n",
    "\n",
    "tripsWithZip = tripsWithZip.drop(columns = ['start_station_longitude_y',\n",
    "       'start_station_latitude_y', 'end_station_longitude_y',\n",
    "       'end_station_latitude_y'])"
   ]
  },
  {
   "cell_type": "markdown",
   "metadata": {},
   "source": [
    "##### What percentage of 2017 rides start and end in the same zip code?"
   ]
  },
  {
   "cell_type": "code",
   "execution_count": 32,
   "metadata": {},
   "outputs": [],
   "source": [
    "sameZipCode = tripsWithZip[tripsWithZip[\"start_zipcode\"]==tripsWithZip[\"end_zipcode\"]]"
   ]
  },
  {
   "cell_type": "code",
   "execution_count": 34,
   "metadata": {},
   "outputs": [
    {
     "data": {
      "text/plain": [
       "0.266823167211853"
      ]
     },
     "execution_count": 34,
     "metadata": {},
     "output_type": "execute_result"
    }
   ],
   "source": [
    "sameZipCode.shape[0]/tripsWithZip.shape[0]"
   ]
  },
  {
   "cell_type": "markdown",
   "metadata": {},
   "source": [
    "26.7% of 2017 rides start and end in the same zip code"
   ]
  },
  {
   "cell_type": "code",
   "execution_count": null,
   "metadata": {},
   "outputs": [],
   "source": []
  }
 ],
 "metadata": {
  "kernelspec": {
   "display_name": "Python 3",
   "language": "python",
   "name": "python3"
  },
  "language_info": {
   "codemirror_mode": {
    "name": "ipython",
    "version": 3
   },
   "file_extension": ".py",
   "mimetype": "text/x-python",
   "name": "python",
   "nbconvert_exporter": "python",
   "pygments_lexer": "ipython3",
   "version": "3.7.3"
  }
 },
 "nbformat": 4,
 "nbformat_minor": 4
}
