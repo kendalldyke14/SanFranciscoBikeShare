{
 "cells": [
  {
   "cell_type": "code",
   "execution_count": 1,
   "id": "128f11a6",
   "metadata": {},
   "outputs": [],
   "source": [
    "import pandas as pd\n",
    "import numpy as np\n",
    "from google.cloud import bigquery\n",
    "import os\n",
    "import datetime\n",
    "from statsmodels.stats.weightstats import ttest_ind\n",
    "import scipy\n",
    "from geopy.distance import geodesic"
   ]
  },
  {
   "cell_type": "code",
   "execution_count": 2,
   "id": "7e8ba7d9",
   "metadata": {},
   "outputs": [],
   "source": [
    "%load_ext google.cloud.bigquery"
   ]
  },
  {
   "cell_type": "code",
   "execution_count": 3,
   "id": "c0f938c6",
   "metadata": {},
   "outputs": [],
   "source": [
    "os.environ[\"GOOGLE_APPLICATION_CREDENTIALS\"]=\"sunny-footing-321404-513454d4be38.json\""
   ]
  },
  {
   "cell_type": "markdown",
   "id": "87eeaa41",
   "metadata": {},
   "source": [
    "# Difference in mean duration of rides between male and female riders: SF"
   ]
  },
  {
   "cell_type": "code",
   "execution_count": 4,
   "id": "1b851f26",
   "metadata": {},
   "outputs": [],
   "source": [
    "client = bigquery.Client()\n",
    "\n",
    "query = \"\"\"\n",
    "    SELECT member_gender, duration_sec FROM `bigquery-public-data.san_francisco_bikeshare.bikeshare_trips`\n",
    "    WHERE (member_gender = 'Female' OR member_gender = 'Male') AND start_date >= '2017-01-01 00:00:00'\n",
    "\"\"\"\n",
    "\n",
    "query_job = client.query(query)"
   ]
  },
  {
   "cell_type": "code",
   "execution_count": 5,
   "id": "13a7b653",
   "metadata": {},
   "outputs": [
    {
     "data": {
      "text/html": [
       "<div>\n",
       "<style scoped>\n",
       "    .dataframe tbody tr th:only-of-type {\n",
       "        vertical-align: middle;\n",
       "    }\n",
       "\n",
       "    .dataframe tbody tr th {\n",
       "        vertical-align: top;\n",
       "    }\n",
       "\n",
       "    .dataframe thead th {\n",
       "        text-align: right;\n",
       "    }\n",
       "</style>\n",
       "<table border=\"1\" class=\"dataframe\">\n",
       "  <thead>\n",
       "    <tr style=\"text-align: right;\">\n",
       "      <th></th>\n",
       "      <th>member_gender</th>\n",
       "      <th>duration_sec</th>\n",
       "      <th>duration_minutes</th>\n",
       "    </tr>\n",
       "  </thead>\n",
       "  <tbody>\n",
       "    <tr>\n",
       "      <th>0</th>\n",
       "      <td>Male</td>\n",
       "      <td>2646</td>\n",
       "      <td>44.100000</td>\n",
       "    </tr>\n",
       "    <tr>\n",
       "      <th>1</th>\n",
       "      <td>Male</td>\n",
       "      <td>626</td>\n",
       "      <td>10.433333</td>\n",
       "    </tr>\n",
       "    <tr>\n",
       "      <th>2</th>\n",
       "      <td>Male</td>\n",
       "      <td>297</td>\n",
       "      <td>4.950000</td>\n",
       "    </tr>\n",
       "    <tr>\n",
       "      <th>3</th>\n",
       "      <td>Male</td>\n",
       "      <td>127</td>\n",
       "      <td>2.116667</td>\n",
       "    </tr>\n",
       "    <tr>\n",
       "      <th>4</th>\n",
       "      <td>Male</td>\n",
       "      <td>2179</td>\n",
       "      <td>36.316667</td>\n",
       "    </tr>\n",
       "    <tr>\n",
       "      <th>...</th>\n",
       "      <td>...</td>\n",
       "      <td>...</td>\n",
       "      <td>...</td>\n",
       "    </tr>\n",
       "    <tr>\n",
       "      <th>850968</th>\n",
       "      <td>Female</td>\n",
       "      <td>637</td>\n",
       "      <td>10.616667</td>\n",
       "    </tr>\n",
       "    <tr>\n",
       "      <th>850969</th>\n",
       "      <td>Female</td>\n",
       "      <td>1697</td>\n",
       "      <td>28.283333</td>\n",
       "    </tr>\n",
       "    <tr>\n",
       "      <th>850970</th>\n",
       "      <td>Female</td>\n",
       "      <td>442</td>\n",
       "      <td>7.366667</td>\n",
       "    </tr>\n",
       "    <tr>\n",
       "      <th>850971</th>\n",
       "      <td>Female</td>\n",
       "      <td>2396</td>\n",
       "      <td>39.933333</td>\n",
       "    </tr>\n",
       "    <tr>\n",
       "      <th>850972</th>\n",
       "      <td>Female</td>\n",
       "      <td>117</td>\n",
       "      <td>1.950000</td>\n",
       "    </tr>\n",
       "  </tbody>\n",
       "</table>\n",
       "<p>850973 rows × 3 columns</p>\n",
       "</div>"
      ],
      "text/plain": [
       "       member_gender  duration_sec  duration_minutes\n",
       "0               Male          2646         44.100000\n",
       "1               Male           626         10.433333\n",
       "2               Male           297          4.950000\n",
       "3               Male           127          2.116667\n",
       "4               Male          2179         36.316667\n",
       "...              ...           ...               ...\n",
       "850968        Female           637         10.616667\n",
       "850969        Female          1697         28.283333\n",
       "850970        Female           442          7.366667\n",
       "850971        Female          2396         39.933333\n",
       "850972        Female           117          1.950000\n",
       "\n",
       "[850973 rows x 3 columns]"
      ]
     },
     "execution_count": 5,
     "metadata": {},
     "output_type": "execute_result"
    }
   ],
   "source": [
    "sf_times = query_job.to_dataframe()\n",
    "sf_times['duration_minutes'] = sf_times['duration_sec'].apply(lambda x: x / 60)\n",
    "sf_times"
   ]
  },
  {
   "cell_type": "code",
   "execution_count": 6,
   "id": "a6248dd1",
   "metadata": {},
   "outputs": [
    {
     "data": {
      "text/plain": [
       "(3.3237005861850406, 3.762211531391973)"
      ]
     },
     "execution_count": 6,
     "metadata": {},
     "output_type": "execute_result"
    }
   ],
   "source": [
    "sf_female_durations = sf_times[sf_times['member_gender'] == 'Female']['duration_minutes']\n",
    "sf_male_durations = sf_times[sf_times['member_gender'] == 'Male']['duration_minutes']\n",
    "\n",
    "diff_of_means = np.mean(sf_female_durations) - np.mean(sf_male_durations)\n",
    "s_e = np.sqrt((np.std(sf_female_durations)**2/len(sf_female_durations)) + (np.std(sf_male_durations)**2/len(sf_male_durations)))\n",
    "t_star = scipy.stats.t.ppf(q=1-.05/2,df=min(len(sf_female_durations), len(sf_male_durations)))\n",
    "CI = (diff_of_means - t_star*s_e, diff_of_means + t_star*s_e)\n",
    "CI"
   ]
  },
  {
   "cell_type": "markdown",
   "id": "a0440c6a",
   "metadata": {},
   "source": [
    "The results are significant. There is enough evidence to say that the average duration of female riders in san franscisco is more than the average duration of male riders in san franscisco."
   ]
  },
  {
   "cell_type": "markdown",
   "id": "a7cc6135",
   "metadata": {},
   "source": [
    "# Difference in mean duration of rides between male and female riders: NY"
   ]
  },
  {
   "cell_type": "code",
   "execution_count": 7,
   "id": "4f7fcff6",
   "metadata": {},
   "outputs": [],
   "source": [
    "client = bigquery.Client()\n",
    "\n",
    "query = \"\"\"\n",
    "    SELECT gender, tripduration FROM `bigquery-public-data.new_york_citibike.citibike_trips`\n",
    "    WHERE (gender = 'male' OR gender = 'female') AND starttime >= '2017-01-01 00:00:00'\n",
    "\"\"\"\n",
    "\n",
    "query_job = client.query(query) "
   ]
  },
  {
   "cell_type": "code",
   "execution_count": 8,
   "id": "4bd6f1c2",
   "metadata": {},
   "outputs": [
    {
     "data": {
      "text/html": [
       "<div>\n",
       "<style scoped>\n",
       "    .dataframe tbody tr th:only-of-type {\n",
       "        vertical-align: middle;\n",
       "    }\n",
       "\n",
       "    .dataframe tbody tr th {\n",
       "        vertical-align: top;\n",
       "    }\n",
       "\n",
       "    .dataframe thead th {\n",
       "        text-align: right;\n",
       "    }\n",
       "</style>\n",
       "<table border=\"1\" class=\"dataframe\">\n",
       "  <thead>\n",
       "    <tr style=\"text-align: right;\">\n",
       "      <th></th>\n",
       "      <th>gender</th>\n",
       "      <th>tripduration</th>\n",
       "      <th>duration_minutes</th>\n",
       "    </tr>\n",
       "  </thead>\n",
       "  <tbody>\n",
       "    <tr>\n",
       "      <th>0</th>\n",
       "      <td>male</td>\n",
       "      <td>607</td>\n",
       "      <td>10.116667</td>\n",
       "    </tr>\n",
       "    <tr>\n",
       "      <th>1</th>\n",
       "      <td>male</td>\n",
       "      <td>920</td>\n",
       "      <td>15.333333</td>\n",
       "    </tr>\n",
       "    <tr>\n",
       "      <th>2</th>\n",
       "      <td>male</td>\n",
       "      <td>676</td>\n",
       "      <td>11.266667</td>\n",
       "    </tr>\n",
       "    <tr>\n",
       "      <th>3</th>\n",
       "      <td>male</td>\n",
       "      <td>185</td>\n",
       "      <td>3.083333</td>\n",
       "    </tr>\n",
       "    <tr>\n",
       "      <th>4</th>\n",
       "      <td>male</td>\n",
       "      <td>383</td>\n",
       "      <td>6.383333</td>\n",
       "    </tr>\n",
       "    <tr>\n",
       "      <th>...</th>\n",
       "      <td>...</td>\n",
       "      <td>...</td>\n",
       "      <td>...</td>\n",
       "    </tr>\n",
       "    <tr>\n",
       "      <th>17760096</th>\n",
       "      <td>female</td>\n",
       "      <td>1367</td>\n",
       "      <td>22.783333</td>\n",
       "    </tr>\n",
       "    <tr>\n",
       "      <th>17760097</th>\n",
       "      <td>female</td>\n",
       "      <td>361</td>\n",
       "      <td>6.016667</td>\n",
       "    </tr>\n",
       "    <tr>\n",
       "      <th>17760098</th>\n",
       "      <td>female</td>\n",
       "      <td>1350</td>\n",
       "      <td>22.500000</td>\n",
       "    </tr>\n",
       "    <tr>\n",
       "      <th>17760099</th>\n",
       "      <td>female</td>\n",
       "      <td>245</td>\n",
       "      <td>4.083333</td>\n",
       "    </tr>\n",
       "    <tr>\n",
       "      <th>17760100</th>\n",
       "      <td>female</td>\n",
       "      <td>631</td>\n",
       "      <td>10.516667</td>\n",
       "    </tr>\n",
       "  </tbody>\n",
       "</table>\n",
       "<p>17760101 rows × 3 columns</p>\n",
       "</div>"
      ],
      "text/plain": [
       "          gender  tripduration  duration_minutes\n",
       "0           male           607         10.116667\n",
       "1           male           920         15.333333\n",
       "2           male           676         11.266667\n",
       "3           male           185          3.083333\n",
       "4           male           383          6.383333\n",
       "...          ...           ...               ...\n",
       "17760096  female          1367         22.783333\n",
       "17760097  female           361          6.016667\n",
       "17760098  female          1350         22.500000\n",
       "17760099  female           245          4.083333\n",
       "17760100  female           631         10.516667\n",
       "\n",
       "[17760101 rows x 3 columns]"
      ]
     },
     "execution_count": 8,
     "metadata": {},
     "output_type": "execute_result"
    }
   ],
   "source": [
    "ny_times = query_job.to_dataframe()\n",
    "ny_times['duration_minutes'] = ny_times['tripduration'].apply(lambda x: x / 60)\n",
    "ny_times"
   ]
  },
  {
   "cell_type": "code",
   "execution_count": 9,
   "id": "8ca7a87b",
   "metadata": {},
   "outputs": [
    {
     "data": {
      "text/plain": [
       "(2.3418808592876825, 3.0669868558315176)"
      ]
     },
     "execution_count": 9,
     "metadata": {},
     "output_type": "execute_result"
    }
   ],
   "source": [
    "ny_female_durations = ny_times[ny_times['gender'] == 'female']['duration_minutes']\n",
    "ny_male_durations = ny_times[ny_times['gender'] == 'male']['duration_minutes']\n",
    "\n",
    "diff_of_means = np.mean(ny_female_durations) - np.mean(ny_male_durations)\n",
    "s_e = np.sqrt((np.std(ny_female_durations)**2/len(ny_female_durations)) + (np.std(ny_male_durations)**2/len(ny_male_durations)))\n",
    "t_star = scipy.stats.t.ppf(q=1-.05/2,df=min(len(ny_female_durations), len(ny_male_durations)))\n",
    "CI = (diff_of_means - t_star*s_e, diff_of_means + t_star*s_e)\n",
    "CI"
   ]
  },
  {
   "cell_type": "markdown",
   "id": "76b23de7",
   "metadata": {},
   "source": [
    "The results are significant. There is enough evidence to say that the average duration of female riders in NYC is more than the average duration of male riders in NYC."
   ]
  },
  {
   "cell_type": "markdown",
   "id": "125b5d37",
   "metadata": {},
   "source": [
    "# Difference in mean duration of rides of female riders between SF and NY"
   ]
  },
  {
   "cell_type": "code",
   "execution_count": 10,
   "id": "28d41d50",
   "metadata": {},
   "outputs": [
    {
     "data": {
      "text/plain": [
       "(-1.5882716235986893, -0.8191422721111192)"
      ]
     },
     "execution_count": 10,
     "metadata": {},
     "output_type": "execute_result"
    }
   ],
   "source": [
    "diff_of_means = np.mean(sf_female_durations) - np.mean(ny_female_durations)\n",
    "s_e = np.sqrt((np.std(sf_female_durations)**2/len(sf_female_durations)) + (np.std(ny_female_durations)**2/len(ny_female_durations)))\n",
    "t_star = scipy.stats.t.ppf(q=1-.05/2,df=min(len(sf_female_durations), len(ny_female_durations)))\n",
    "CI = (diff_of_means - t_star*s_e, diff_of_means + t_star*s_e)\n",
    "CI"
   ]
  },
  {
   "cell_type": "markdown",
   "id": "c2199678",
   "metadata": {},
   "source": [
    "The results are significant. There is enough evidence to say that the average duration of female riders in SF is less than the average duration of female riders in NYC."
   ]
  },
  {
   "cell_type": "markdown",
   "id": "4fb3ffd8",
   "metadata": {},
   "source": [
    "# Difference in mean duration of rides of male riders between SF and NY"
   ]
  },
  {
   "cell_type": "code",
   "execution_count": 11,
   "id": "b88ba433",
   "metadata": {},
   "outputs": [
    {
     "data": {
      "text/plain": [
       "(-2.220074330925362, -1.8643839672422597)"
      ]
     },
     "execution_count": 11,
     "metadata": {},
     "output_type": "execute_result"
    }
   ],
   "source": [
    "diff_of_means = np.mean(sf_male_durations) - np.mean(ny_male_durations)\n",
    "s_e = np.sqrt((np.std(sf_male_durations)**2/len(sf_male_durations)) + (np.std(ny_male_durations)**2/len(ny_male_durations)))\n",
    "t_star = scipy.stats.t.ppf(q=1-.05/2,df=min(len(sf_male_durations), len(ny_male_durations)))\n",
    "CI = (diff_of_means - t_star*s_e, diff_of_means + t_star*s_e)\n",
    "CI"
   ]
  },
  {
   "cell_type": "markdown",
   "id": "0cf57b1e",
   "metadata": {},
   "source": [
    "The results are significant. There is enough evidence to say that the average duration of male riders in SF is less than the average duration of male riders in NYC."
   ]
  },
  {
   "cell_type": "markdown",
   "id": "11f25898",
   "metadata": {},
   "source": [
    "# Difference in mean distance of rides between male and female riders: SF"
   ]
  },
  {
   "cell_type": "markdown",
   "id": "32e9fe04",
   "metadata": {},
   "source": [
    "Note that this is finding shortest distance between two points, we do not know the actual distance traveled by the bike."
   ]
  },
  {
   "cell_type": "code",
   "execution_count": 12,
   "id": "a5711ea2",
   "metadata": {},
   "outputs": [],
   "source": [
    "client = bigquery.Client()\n",
    "\n",
    "query = \"\"\"\n",
    "    SELECT member_gender, start_station_latitude, start_station_longitude, end_station_latitude, end_station_longitude\n",
    "    FROM `bigquery-public-data.san_francisco_bikeshare.bikeshare_trips`\n",
    "    WHERE (member_gender = 'Female' OR member_gender = 'Male') AND start_date >= '2017-01-01 00:00:00'\n",
    "\"\"\"\n",
    "\n",
    "query_job = client.query(query)"
   ]
  },
  {
   "cell_type": "code",
   "execution_count": 13,
   "id": "3f6b20ae",
   "metadata": {},
   "outputs": [
    {
     "data": {
      "text/html": [
       "<div>\n",
       "<style scoped>\n",
       "    .dataframe tbody tr th:only-of-type {\n",
       "        vertical-align: middle;\n",
       "    }\n",
       "\n",
       "    .dataframe tbody tr th {\n",
       "        vertical-align: top;\n",
       "    }\n",
       "\n",
       "    .dataframe thead th {\n",
       "        text-align: right;\n",
       "    }\n",
       "</style>\n",
       "<table border=\"1\" class=\"dataframe\">\n",
       "  <thead>\n",
       "    <tr style=\"text-align: right;\">\n",
       "      <th></th>\n",
       "      <th>member_gender</th>\n",
       "      <th>start_station_latitude</th>\n",
       "      <th>start_station_longitude</th>\n",
       "      <th>end_station_latitude</th>\n",
       "      <th>end_station_longitude</th>\n",
       "      <th>distances</th>\n",
       "    </tr>\n",
       "  </thead>\n",
       "  <tbody>\n",
       "    <tr>\n",
       "      <th>0</th>\n",
       "      <td>Male</td>\n",
       "      <td>37.769305</td>\n",
       "      <td>-122.426826</td>\n",
       "      <td>37.783988</td>\n",
       "      <td>-122.412408</td>\n",
       "      <td>1.283864</td>\n",
       "    </tr>\n",
       "    <tr>\n",
       "      <th>1</th>\n",
       "      <td>Male</td>\n",
       "      <td>37.868813</td>\n",
       "      <td>-122.258764</td>\n",
       "      <td>37.872355</td>\n",
       "      <td>-122.266447</td>\n",
       "      <td>0.485934</td>\n",
       "    </tr>\n",
       "    <tr>\n",
       "      <th>2</th>\n",
       "      <td>Female</td>\n",
       "      <td>37.763847</td>\n",
       "      <td>-122.413004</td>\n",
       "      <td>37.759200</td>\n",
       "      <td>-122.409851</td>\n",
       "      <td>0.363995</td>\n",
       "    </tr>\n",
       "    <tr>\n",
       "      <th>3</th>\n",
       "      <td>Male</td>\n",
       "      <td>37.761420</td>\n",
       "      <td>-122.426435</td>\n",
       "      <td>37.761420</td>\n",
       "      <td>-122.426435</td>\n",
       "      <td>0.000000</td>\n",
       "    </tr>\n",
       "    <tr>\n",
       "      <th>4</th>\n",
       "      <td>Male</td>\n",
       "      <td>37.839649</td>\n",
       "      <td>-122.271756</td>\n",
       "      <td>37.805318</td>\n",
       "      <td>-122.294837</td>\n",
       "      <td>2.683352</td>\n",
       "    </tr>\n",
       "    <tr>\n",
       "      <th>...</th>\n",
       "      <td>...</td>\n",
       "      <td>...</td>\n",
       "      <td>...</td>\n",
       "      <td>...</td>\n",
       "      <td>...</td>\n",
       "      <td>...</td>\n",
       "    </tr>\n",
       "    <tr>\n",
       "      <th>850968</th>\n",
       "      <td>Male</td>\n",
       "      <td>37.771058</td>\n",
       "      <td>-122.402717</td>\n",
       "      <td>37.786375</td>\n",
       "      <td>-122.404904</td>\n",
       "      <td>1.063157</td>\n",
       "    </tr>\n",
       "    <tr>\n",
       "      <th>850969</th>\n",
       "      <td>Male</td>\n",
       "      <td>37.771058</td>\n",
       "      <td>-122.402717</td>\n",
       "      <td>37.786375</td>\n",
       "      <td>-122.404904</td>\n",
       "      <td>1.063157</td>\n",
       "    </tr>\n",
       "    <tr>\n",
       "      <th>850970</th>\n",
       "      <td>Male</td>\n",
       "      <td>37.771058</td>\n",
       "      <td>-122.402717</td>\n",
       "      <td>37.786375</td>\n",
       "      <td>-122.404904</td>\n",
       "      <td>1.063157</td>\n",
       "    </tr>\n",
       "    <tr>\n",
       "      <th>850971</th>\n",
       "      <td>Male</td>\n",
       "      <td>37.771058</td>\n",
       "      <td>-122.402717</td>\n",
       "      <td>37.786375</td>\n",
       "      <td>-122.404904</td>\n",
       "      <td>1.063157</td>\n",
       "    </tr>\n",
       "    <tr>\n",
       "      <th>850972</th>\n",
       "      <td>Female</td>\n",
       "      <td>37.771058</td>\n",
       "      <td>-122.402717</td>\n",
       "      <td>37.786375</td>\n",
       "      <td>-122.404904</td>\n",
       "      <td>1.063157</td>\n",
       "    </tr>\n",
       "  </tbody>\n",
       "</table>\n",
       "<p>850973 rows × 6 columns</p>\n",
       "</div>"
      ],
      "text/plain": [
       "       member_gender  start_station_latitude  start_station_longitude  \\\n",
       "0               Male               37.769305              -122.426826   \n",
       "1               Male               37.868813              -122.258764   \n",
       "2             Female               37.763847              -122.413004   \n",
       "3               Male               37.761420              -122.426435   \n",
       "4               Male               37.839649              -122.271756   \n",
       "...              ...                     ...                      ...   \n",
       "850968          Male               37.771058              -122.402717   \n",
       "850969          Male               37.771058              -122.402717   \n",
       "850970          Male               37.771058              -122.402717   \n",
       "850971          Male               37.771058              -122.402717   \n",
       "850972        Female               37.771058              -122.402717   \n",
       "\n",
       "        end_station_latitude  end_station_longitude  distances  \n",
       "0                  37.783988            -122.412408   1.283864  \n",
       "1                  37.872355            -122.266447   0.485934  \n",
       "2                  37.759200            -122.409851   0.363995  \n",
       "3                  37.761420            -122.426435   0.000000  \n",
       "4                  37.805318            -122.294837   2.683352  \n",
       "...                      ...                    ...        ...  \n",
       "850968             37.786375            -122.404904   1.063157  \n",
       "850969             37.786375            -122.404904   1.063157  \n",
       "850970             37.786375            -122.404904   1.063157  \n",
       "850971             37.786375            -122.404904   1.063157  \n",
       "850972             37.786375            -122.404904   1.063157  \n",
       "\n",
       "[850973 rows x 6 columns]"
      ]
     },
     "execution_count": 13,
     "metadata": {},
     "output_type": "execute_result"
    }
   ],
   "source": [
    "sf_distances = query_job.to_dataframe()\n",
    "distances = []\n",
    "for start_lat, start_long, end_lat, end_long in zip(sf_distances['start_station_latitude'], \n",
    "                                                    sf_distances['start_station_longitude'],\n",
    "                                                    sf_distances['end_station_latitude'],\n",
    "                                                    sf_distances['end_station_longitude']):\n",
    "    start = (start_lat, start_long)\n",
    "    end = (end_lat, end_long)\n",
    "    distances.append(geodesic(start, end).mi)\n",
    "sf_distances['distances'] = distances\n",
    "sf_distances"
   ]
  },
  {
   "cell_type": "code",
   "execution_count": 14,
   "id": "2f33948e",
   "metadata": {},
   "outputs": [
    {
     "data": {
      "text/plain": [
       "(0.05625778200163658, 0.06263193845890089)"
      ]
     },
     "execution_count": 14,
     "metadata": {},
     "output_type": "execute_result"
    }
   ],
   "source": [
    "sf_female_distances = sf_distances[sf_distances['member_gender'] == 'Female']['distances']\n",
    "sf_male_distances = sf_distances[sf_distances['member_gender'] == 'Male']['distances']\n",
    "\n",
    "diff_of_means = np.mean(sf_female_distances) - np.mean(sf_male_distances)\n",
    "s_e = np.sqrt((np.std(sf_female_distances)**2/len(sf_female_distances)) + (np.std(sf_male_distances)**2/len(sf_male_distances)))\n",
    "t_star = scipy.stats.t.ppf(q=1-.05/2,df=min(len(sf_female_distances), len(sf_male_distances)))\n",
    "CI = (diff_of_means - t_star*s_e, diff_of_means + t_star*s_e)\n",
    "CI"
   ]
  },
  {
   "cell_type": "markdown",
   "id": "56c42c2c",
   "metadata": {},
   "source": [
    "The results are significant. There is enough evidence to say that the average distance of female riders in SF is more than the average distance of male riders in SF."
   ]
  },
  {
   "cell_type": "markdown",
   "id": "d687ae08",
   "metadata": {},
   "source": [
    "# Difference in mean distance of rides between male and female riders: NY"
   ]
  },
  {
   "cell_type": "code",
   "execution_count": 15,
   "id": "f32fa06c",
   "metadata": {},
   "outputs": [],
   "source": [
    "client = bigquery.Client()\n",
    "\n",
    "query = \"\"\"\n",
    "    SELECT gender, start_station_latitude, start_station_longitude, end_station_latitude, end_station_longitude\n",
    "    FROM `bigquery-public-data.new_york_citibike.citibike_trips`\n",
    "    WHERE (gender = 'male' OR gender = 'female') AND starttime >= '2017-01-01 00:00:00'\n",
    "\"\"\"\n",
    "\n",
    "query_job = client.query(query) "
   ]
  },
  {
   "cell_type": "code",
   "execution_count": 16,
   "id": "69acfeb5",
   "metadata": {},
   "outputs": [
    {
     "data": {
      "text/html": [
       "<div>\n",
       "<style scoped>\n",
       "    .dataframe tbody tr th:only-of-type {\n",
       "        vertical-align: middle;\n",
       "    }\n",
       "\n",
       "    .dataframe tbody tr th {\n",
       "        vertical-align: top;\n",
       "    }\n",
       "\n",
       "    .dataframe thead th {\n",
       "        text-align: right;\n",
       "    }\n",
       "</style>\n",
       "<table border=\"1\" class=\"dataframe\">\n",
       "  <thead>\n",
       "    <tr style=\"text-align: right;\">\n",
       "      <th></th>\n",
       "      <th>gender</th>\n",
       "      <th>start_station_latitude</th>\n",
       "      <th>start_station_longitude</th>\n",
       "      <th>end_station_latitude</th>\n",
       "      <th>end_station_longitude</th>\n",
       "      <th>distances</th>\n",
       "    </tr>\n",
       "  </thead>\n",
       "  <tbody>\n",
       "    <tr>\n",
       "      <th>0</th>\n",
       "      <td>male</td>\n",
       "      <td>40.756405</td>\n",
       "      <td>-73.990026</td>\n",
       "      <td>40.766697</td>\n",
       "      <td>-73.990617</td>\n",
       "      <td>0.710801</td>\n",
       "    </tr>\n",
       "    <tr>\n",
       "      <th>1</th>\n",
       "      <td>male</td>\n",
       "      <td>40.756405</td>\n",
       "      <td>-73.990026</td>\n",
       "      <td>40.760301</td>\n",
       "      <td>-73.998842</td>\n",
       "      <td>0.535002</td>\n",
       "    </tr>\n",
       "    <tr>\n",
       "      <th>2</th>\n",
       "      <td>male</td>\n",
       "      <td>40.756405</td>\n",
       "      <td>-73.990026</td>\n",
       "      <td>40.737815</td>\n",
       "      <td>-73.999947</td>\n",
       "      <td>1.384404</td>\n",
       "    </tr>\n",
       "    <tr>\n",
       "      <th>3</th>\n",
       "      <td>male</td>\n",
       "      <td>40.756405</td>\n",
       "      <td>-73.990026</td>\n",
       "      <td>40.718710</td>\n",
       "      <td>-74.009001</td>\n",
       "      <td>2.785231</td>\n",
       "    </tr>\n",
       "    <tr>\n",
       "      <th>4</th>\n",
       "      <td>male</td>\n",
       "      <td>40.756405</td>\n",
       "      <td>-73.990026</td>\n",
       "      <td>40.771522</td>\n",
       "      <td>-73.990541</td>\n",
       "      <td>1.043433</td>\n",
       "    </tr>\n",
       "    <tr>\n",
       "      <th>...</th>\n",
       "      <td>...</td>\n",
       "      <td>...</td>\n",
       "      <td>...</td>\n",
       "      <td>...</td>\n",
       "      <td>...</td>\n",
       "      <td>...</td>\n",
       "    </tr>\n",
       "    <tr>\n",
       "      <th>17760096</th>\n",
       "      <td>female</td>\n",
       "      <td>40.742754</td>\n",
       "      <td>-74.007474</td>\n",
       "      <td>40.746920</td>\n",
       "      <td>-74.004519</td>\n",
       "      <td>0.326606</td>\n",
       "    </tr>\n",
       "    <tr>\n",
       "      <th>17760097</th>\n",
       "      <td>female</td>\n",
       "      <td>40.790179</td>\n",
       "      <td>-73.972889</td>\n",
       "      <td>40.765909</td>\n",
       "      <td>-73.976342</td>\n",
       "      <td>1.684474</td>\n",
       "    </tr>\n",
       "    <tr>\n",
       "      <th>17760098</th>\n",
       "      <td>female</td>\n",
       "      <td>40.732618</td>\n",
       "      <td>-73.991580</td>\n",
       "      <td>40.730473</td>\n",
       "      <td>-73.986724</td>\n",
       "      <td>0.294773</td>\n",
       "    </tr>\n",
       "    <tr>\n",
       "      <th>17760099</th>\n",
       "      <td>female</td>\n",
       "      <td>40.735367</td>\n",
       "      <td>-73.987974</td>\n",
       "      <td>40.720828</td>\n",
       "      <td>-73.977932</td>\n",
       "      <td>1.133274</td>\n",
       "    </tr>\n",
       "    <tr>\n",
       "      <th>17760100</th>\n",
       "      <td>female</td>\n",
       "      <td>40.782939</td>\n",
       "      <td>-73.978652</td>\n",
       "      <td>40.782939</td>\n",
       "      <td>-73.978652</td>\n",
       "      <td>0.000000</td>\n",
       "    </tr>\n",
       "  </tbody>\n",
       "</table>\n",
       "<p>17760101 rows × 6 columns</p>\n",
       "</div>"
      ],
      "text/plain": [
       "          gender  start_station_latitude  start_station_longitude  \\\n",
       "0           male               40.756405               -73.990026   \n",
       "1           male               40.756405               -73.990026   \n",
       "2           male               40.756405               -73.990026   \n",
       "3           male               40.756405               -73.990026   \n",
       "4           male               40.756405               -73.990026   \n",
       "...          ...                     ...                      ...   \n",
       "17760096  female               40.742754               -74.007474   \n",
       "17760097  female               40.790179               -73.972889   \n",
       "17760098  female               40.732618               -73.991580   \n",
       "17760099  female               40.735367               -73.987974   \n",
       "17760100  female               40.782939               -73.978652   \n",
       "\n",
       "          end_station_latitude  end_station_longitude  distances  \n",
       "0                    40.766697             -73.990617   0.710801  \n",
       "1                    40.760301             -73.998842   0.535002  \n",
       "2                    40.737815             -73.999947   1.384404  \n",
       "3                    40.718710             -74.009001   2.785231  \n",
       "4                    40.771522             -73.990541   1.043433  \n",
       "...                        ...                    ...        ...  \n",
       "17760096             40.746920             -74.004519   0.326606  \n",
       "17760097             40.765909             -73.976342   1.684474  \n",
       "17760098             40.730473             -73.986724   0.294773  \n",
       "17760099             40.720828             -73.977932   1.133274  \n",
       "17760100             40.782939             -73.978652   0.000000  \n",
       "\n",
       "[17760101 rows x 6 columns]"
      ]
     },
     "execution_count": 16,
     "metadata": {},
     "output_type": "execute_result"
    }
   ],
   "source": [
    "ny_distances = query_job.to_dataframe()\n",
    "distances = []\n",
    "for start_lat, start_long, end_lat, end_long in zip(ny_distances['start_station_latitude'], \n",
    "                                                    ny_distances['start_station_longitude'],\n",
    "                                                    ny_distances['end_station_latitude'],\n",
    "                                                    ny_distances['end_station_longitude']):\n",
    "    start = (start_lat, start_long)\n",
    "    end = (end_lat, end_long)\n",
    "    distances.append(geodesic(start, end).mi)\n",
    "ny_distances['distances'] = distances\n",
    "ny_distances"
   ]
  },
  {
   "cell_type": "code",
   "execution_count": 17,
   "id": "d71bebbd",
   "metadata": {},
   "outputs": [
    {
     "data": {
      "text/plain": [
       "(0.043243550931630396, 0.06014290012231178)"
      ]
     },
     "execution_count": 17,
     "metadata": {},
     "output_type": "execute_result"
    }
   ],
   "source": [
    "ny_female_distances = ny_distances[ny_distances['gender'] == 'female']['distances']\n",
    "ny_male_distances = ny_distances[ny_distances['gender'] == 'male']['distances']\n",
    "\n",
    "diff_of_means = np.mean(ny_female_distances) - np.mean(ny_male_distances)\n",
    "s_e = np.sqrt((np.std(ny_female_distances)**2/len(ny_female_distances)) + (np.std(ny_male_distances)**2/len(ny_male_distances)))\n",
    "t_star = scipy.stats.t.ppf(q=1-.05/2,df=min(len(ny_female_distances), len(ny_male_distances)))\n",
    "CI = (diff_of_means - t_star*s_e, diff_of_means + t_star*s_e)\n",
    "CI"
   ]
  },
  {
   "cell_type": "markdown",
   "id": "990dc61a",
   "metadata": {},
   "source": [
    "The results are significant. There is enough evidence to say that the average distance of female riders in NY is more than the average distance of male riders in NY."
   ]
  },
  {
   "cell_type": "markdown",
   "id": "475e8a90",
   "metadata": {},
   "source": [
    "# Difference in mean distance of rides of female riders between SF and NY"
   ]
  },
  {
   "cell_type": "code",
   "execution_count": 18,
   "id": "d0e5503b",
   "metadata": {},
   "outputs": [
    {
     "data": {
      "text/plain": [
       "(-0.14142866704960513, -0.12616126672928693)"
      ]
     },
     "execution_count": 18,
     "metadata": {},
     "output_type": "execute_result"
    }
   ],
   "source": [
    "diff_of_means = np.mean(sf_female_distances) - np.mean(ny_female_distances)\n",
    "s_e = np.sqrt((np.std(sf_female_distances)**2/len(sf_female_distances)) + (np.std(ny_female_distances)**2/len(ny_female_distances)))\n",
    "t_star = scipy.stats.t.ppf(q=1-.05/2,df=min(len(sf_female_distances), len(ny_female_distances)))\n",
    "CI = (diff_of_means - t_star*s_e, diff_of_means + t_star*s_e)\n",
    "CI"
   ]
  },
  {
   "cell_type": "markdown",
   "id": "b84d227f",
   "metadata": {},
   "source": [
    "The results are significant. There is enough evidence to say that the average distance of female riders in SF is less than the average distance of female riders in NY."
   ]
  },
  {
   "cell_type": "markdown",
   "id": "31a42332",
   "metadata": {},
   "source": [
    "# Difference in mean distance of rides of male riders between SF and NY"
   ]
  },
  {
   "cell_type": "code",
   "execution_count": 19,
   "id": "c2186c9c",
   "metadata": {},
   "outputs": [
    {
     "data": {
      "text/plain": [
       "(-0.14637171537576057, -0.1367214878097268)"
      ]
     },
     "execution_count": 19,
     "metadata": {},
     "output_type": "execute_result"
    }
   ],
   "source": [
    "diff_of_means = np.mean(sf_male_distances) - np.mean(ny_male_distances)\n",
    "s_e = np.sqrt((np.std(sf_male_distances)**2/len(sf_male_distances)) + (np.std(ny_male_distances)**2/len(ny_male_distances)))\n",
    "t_star = scipy.stats.t.ppf(q=1-.05/2,df=min(len(sf_male_distances), len(ny_male_distances)))\n",
    "CI = (diff_of_means - t_star*s_e, diff_of_means + t_star*s_e)\n",
    "CI"
   ]
  },
  {
   "cell_type": "markdown",
   "id": "c9954cca",
   "metadata": {},
   "source": [
    "The results are significant. There is enough evidence to say that the average distance of male riders in SF is less than the average distance of male riders in NY."
   ]
  },
  {
   "cell_type": "markdown",
   "id": "89a4bd33",
   "metadata": {},
   "source": [
    "# Difference in proportion of female riders between cities"
   ]
  },
  {
   "cell_type": "code",
   "execution_count": 20,
   "id": "1f09ff70",
   "metadata": {},
   "outputs": [],
   "source": [
    "client = bigquery.Client()\n",
    "\n",
    "query = \"\"\"\n",
    "    SELECT member_gender FROM `bigquery-public-data.san_francisco_bikeshare.bikeshare_trips`\n",
    "    WHERE (member_gender = 'Female' OR member_gender = 'Male') AND start_date >= '2017-01-01 00:00:00'\n",
    "\"\"\"\n",
    "\n",
    "query_job = client.query(query) "
   ]
  },
  {
   "cell_type": "code",
   "execution_count": 21,
   "id": "5594b29b",
   "metadata": {},
   "outputs": [
    {
     "data": {
      "text/plain": [
       "member_gender\n",
       "Male             651771\n",
       "Female           199202\n",
       "dtype: int64"
      ]
     },
     "execution_count": 21,
     "metadata": {},
     "output_type": "execute_result"
    }
   ],
   "source": [
    "sf_genders = query_job.to_dataframe()\n",
    "sf_genders.value_counts()"
   ]
  },
  {
   "cell_type": "code",
   "execution_count": 22,
   "id": "94dd4345",
   "metadata": {},
   "outputs": [],
   "source": [
    "client = bigquery.Client()\n",
    "\n",
    "query = \"\"\"\n",
    "    SELECT gender FROM `bigquery-public-data.new_york_citibike.citibike_trips`\n",
    "    WHERE (gender = 'male' OR gender = 'female') AND starttime >= '2017-01-01 00:00:00'\n",
    "\"\"\"\n",
    "\n",
    "query_job = client.query(query) "
   ]
  },
  {
   "cell_type": "code",
   "execution_count": 23,
   "id": "1a7e9cce",
   "metadata": {},
   "outputs": [
    {
     "data": {
      "text/plain": [
       "gender\n",
       "male      13262473\n",
       "female     4497628\n",
       "dtype: int64"
      ]
     },
     "execution_count": 23,
     "metadata": {},
     "output_type": "execute_result"
    }
   ],
   "source": [
    "ny_genders = query_job.to_dataframe()\n",
    "ny_genders.value_counts()"
   ]
  },
  {
   "cell_type": "code",
   "execution_count": 24,
   "id": "0c68c695",
   "metadata": {},
   "outputs": [
    {
     "data": {
      "text/html": [
       "<div>\n",
       "<style scoped>\n",
       "    .dataframe tbody tr th:only-of-type {\n",
       "        vertical-align: middle;\n",
       "    }\n",
       "\n",
       "    .dataframe tbody tr th {\n",
       "        vertical-align: top;\n",
       "    }\n",
       "\n",
       "    .dataframe thead th {\n",
       "        text-align: right;\n",
       "    }\n",
       "</style>\n",
       "<table border=\"1\" class=\"dataframe\">\n",
       "  <thead>\n",
       "    <tr style=\"text-align: right;\">\n",
       "      <th></th>\n",
       "      <th>SF</th>\n",
       "      <th>NY</th>\n",
       "    </tr>\n",
       "  </thead>\n",
       "  <tbody>\n",
       "    <tr>\n",
       "      <th>male</th>\n",
       "      <td>651771</td>\n",
       "      <td>13262473</td>\n",
       "    </tr>\n",
       "    <tr>\n",
       "      <th>female</th>\n",
       "      <td>199202</td>\n",
       "      <td>4497628</td>\n",
       "    </tr>\n",
       "  </tbody>\n",
       "</table>\n",
       "</div>"
      ],
      "text/plain": [
       "            SF        NY\n",
       "male    651771  13262473\n",
       "female  199202   4497628"
      ]
     },
     "execution_count": 24,
     "metadata": {},
     "output_type": "execute_result"
    }
   ],
   "source": [
    "data = pd.DataFrame(columns = ['SF', 'NY'])\n",
    "data['SF'] = list(sf_genders.value_counts())\n",
    "data['NY'] = list(ny_genders.value_counts())\n",
    "data.index = ['male', 'female']\n",
    "data"
   ]
  },
  {
   "cell_type": "code",
   "execution_count": 25,
   "id": "67abf1b4",
   "metadata": {},
   "outputs": [],
   "source": [
    "import numpy as np\n",
    "# population proportion differences (proportion of females in SF and NY)\n",
    "# just realized should be filtered by 2017 and after\n",
    "p_female_SF = data.loc['female', 'SF'] / data['SF'].sum()\n",
    "p_female_NY = data.loc['female', 'NY'] / data['NY'].sum()\n",
    "n_SF = data['SF'].sum()\n",
    "n_NY = data['NY'].sum()\n",
    "\n",
    "p_hat = p_female_SF - p_female_NY\n",
    "s_e = np.sqrt((p_female_SF * (1 - p_female_SF) / n_SF) + (p_female_NY * (1 - p_female_NY) / n_NY))\n",
    "CI = (p_hat - 1.96*s_e, p_hat + 1.96*s_e)"
   ]
  },
  {
   "cell_type": "code",
   "execution_count": 26,
   "id": "659daa13",
   "metadata": {},
   "outputs": [
    {
     "data": {
      "text/plain": [
       "(-0.020078157118831246, -0.01823393622132637)"
      ]
     },
     "execution_count": 26,
     "metadata": {},
     "output_type": "execute_result"
    }
   ],
   "source": [
    "CI"
   ]
  },
  {
   "cell_type": "markdown",
   "id": "340de8ad",
   "metadata": {},
   "source": [
    "The results are significant. There is enough evidence to say that the proportion of female riders in san franscisco is less than the proportion of female riders in New York."
   ]
  },
  {
   "cell_type": "markdown",
   "id": "7fdacda9",
   "metadata": {},
   "source": [
    "# Difference in proportion of generations between cities"
   ]
  },
  {
   "cell_type": "code",
   "execution_count": 27,
   "id": "bfd31b37",
   "metadata": {},
   "outputs": [],
   "source": [
    "# map year to generation\n",
    "def map_year_to_generation(year):\n",
    "    if 1928 <= year <= 1945:\n",
    "        generation = 'Silent'\n",
    "    elif 1946 <= year <= 1964:\n",
    "        generation = 'Baby Boomers'\n",
    "    elif 1965 <= year <= 1980:\n",
    "        generation = 'Generation X'\n",
    "    elif 1981 <= year <= 1996:\n",
    "        generation = 'Millennials'\n",
    "    elif 1997 <= year:\n",
    "        generation = 'Generation Z'\n",
    "    else:\n",
    "        generation = 'Before Silent'\n",
    "    return generation"
   ]
  },
  {
   "cell_type": "code",
   "execution_count": 28,
   "id": "b6e87578",
   "metadata": {},
   "outputs": [],
   "source": [
    "client = bigquery.Client()\n",
    "\n",
    "query = \"\"\"\n",
    "    SELECT member_birth_year FROM `bigquery-public-data.san_francisco_bikeshare.bikeshare_trips`\n",
    "    WHERE start_date >= '2017-01-01 00:00:00'\n",
    "\"\"\"\n",
    "\n",
    "query_job = client.query(query) "
   ]
  },
  {
   "cell_type": "code",
   "execution_count": 29,
   "id": "258219ca",
   "metadata": {},
   "outputs": [
    {
     "data": {
      "text/html": [
       "<div>\n",
       "<style scoped>\n",
       "    .dataframe tbody tr th:only-of-type {\n",
       "        vertical-align: middle;\n",
       "    }\n",
       "\n",
       "    .dataframe tbody tr th {\n",
       "        vertical-align: top;\n",
       "    }\n",
       "\n",
       "    .dataframe thead th {\n",
       "        text-align: right;\n",
       "    }\n",
       "</style>\n",
       "<table border=\"1\" class=\"dataframe\">\n",
       "  <thead>\n",
       "    <tr style=\"text-align: right;\">\n",
       "      <th></th>\n",
       "      <th>member_birth_year</th>\n",
       "      <th>generation</th>\n",
       "    </tr>\n",
       "  </thead>\n",
       "  <tbody>\n",
       "    <tr>\n",
       "      <th>0</th>\n",
       "      <td>1954.0</td>\n",
       "      <td>Baby Boomers</td>\n",
       "    </tr>\n",
       "    <tr>\n",
       "      <th>1</th>\n",
       "      <td>1954.0</td>\n",
       "      <td>Baby Boomers</td>\n",
       "    </tr>\n",
       "    <tr>\n",
       "      <th>2</th>\n",
       "      <td>1954.0</td>\n",
       "      <td>Baby Boomers</td>\n",
       "    </tr>\n",
       "    <tr>\n",
       "      <th>3</th>\n",
       "      <td>1952.0</td>\n",
       "      <td>Baby Boomers</td>\n",
       "    </tr>\n",
       "    <tr>\n",
       "      <th>4</th>\n",
       "      <td>1948.0</td>\n",
       "      <td>Baby Boomers</td>\n",
       "    </tr>\n",
       "    <tr>\n",
       "      <th>...</th>\n",
       "      <td>...</td>\n",
       "      <td>...</td>\n",
       "    </tr>\n",
       "    <tr>\n",
       "      <th>963766</th>\n",
       "      <td>1997.0</td>\n",
       "      <td>Generation Z</td>\n",
       "    </tr>\n",
       "    <tr>\n",
       "      <th>963767</th>\n",
       "      <td>1997.0</td>\n",
       "      <td>Generation Z</td>\n",
       "    </tr>\n",
       "    <tr>\n",
       "      <th>963768</th>\n",
       "      <td>1997.0</td>\n",
       "      <td>Generation Z</td>\n",
       "    </tr>\n",
       "    <tr>\n",
       "      <th>963769</th>\n",
       "      <td>1997.0</td>\n",
       "      <td>Generation Z</td>\n",
       "    </tr>\n",
       "    <tr>\n",
       "      <th>963770</th>\n",
       "      <td>1997.0</td>\n",
       "      <td>Generation Z</td>\n",
       "    </tr>\n",
       "  </tbody>\n",
       "</table>\n",
       "<p>963771 rows × 2 columns</p>\n",
       "</div>"
      ],
      "text/plain": [
       "        member_birth_year    generation\n",
       "0                  1954.0  Baby Boomers\n",
       "1                  1954.0  Baby Boomers\n",
       "2                  1954.0  Baby Boomers\n",
       "3                  1952.0  Baby Boomers\n",
       "4                  1948.0  Baby Boomers\n",
       "...                   ...           ...\n",
       "963766             1997.0  Generation Z\n",
       "963767             1997.0  Generation Z\n",
       "963768             1997.0  Generation Z\n",
       "963769             1997.0  Generation Z\n",
       "963770             1997.0  Generation Z\n",
       "\n",
       "[963771 rows x 2 columns]"
      ]
     },
     "execution_count": 29,
     "metadata": {},
     "output_type": "execute_result"
    }
   ],
   "source": [
    "sf_generations = query_job.to_dataframe()\n",
    "sf_generations['generation'] = sf_generations['member_birth_year'].apply(lambda x: map_year_to_generation(x))\n",
    "sf_generations"
   ]
  },
  {
   "cell_type": "code",
   "execution_count": 30,
   "id": "e7d4d9fa",
   "metadata": {},
   "outputs": [
    {
     "data": {
      "text/plain": [
       "Baby Boomers      68635\n",
       "Before Silent    101906\n",
       "Generation X     259685\n",
       "Generation Z      12827\n",
       "Millennials      518330\n",
       "Silent             2388\n",
       "Name: generation, dtype: int64"
      ]
     },
     "execution_count": 30,
     "metadata": {},
     "output_type": "execute_result"
    }
   ],
   "source": [
    "sf_generations['generation'].value_counts().sort_index()"
   ]
  },
  {
   "cell_type": "code",
   "execution_count": 31,
   "id": "66bda4a9",
   "metadata": {},
   "outputs": [],
   "source": [
    "client = bigquery.Client()\n",
    "\n",
    "query = \"\"\"\n",
    "    SELECT birth_year FROM `bigquery-public-data.new_york_citibike.citibike_trips`\n",
    "    WHERE starttime >= '2017-01-01 00:00:00'\n",
    "\"\"\"\n",
    "\n",
    "query_job = client.query(query) "
   ]
  },
  {
   "cell_type": "code",
   "execution_count": 32,
   "id": "a3de8460",
   "metadata": {},
   "outputs": [
    {
     "data": {
      "text/html": [
       "<div>\n",
       "<style scoped>\n",
       "    .dataframe tbody tr th:only-of-type {\n",
       "        vertical-align: middle;\n",
       "    }\n",
       "\n",
       "    .dataframe tbody tr th {\n",
       "        vertical-align: top;\n",
       "    }\n",
       "\n",
       "    .dataframe thead th {\n",
       "        text-align: right;\n",
       "    }\n",
       "</style>\n",
       "<table border=\"1\" class=\"dataframe\">\n",
       "  <thead>\n",
       "    <tr style=\"text-align: right;\">\n",
       "      <th></th>\n",
       "      <th>birth_year</th>\n",
       "      <th>generation</th>\n",
       "    </tr>\n",
       "  </thead>\n",
       "  <tbody>\n",
       "    <tr>\n",
       "      <th>0</th>\n",
       "      <td>1995.0</td>\n",
       "      <td>Millennials</td>\n",
       "    </tr>\n",
       "    <tr>\n",
       "      <th>1</th>\n",
       "      <td>1995.0</td>\n",
       "      <td>Millennials</td>\n",
       "    </tr>\n",
       "    <tr>\n",
       "      <th>2</th>\n",
       "      <td>1995.0</td>\n",
       "      <td>Millennials</td>\n",
       "    </tr>\n",
       "    <tr>\n",
       "      <th>3</th>\n",
       "      <td>1995.0</td>\n",
       "      <td>Millennials</td>\n",
       "    </tr>\n",
       "    <tr>\n",
       "      <th>4</th>\n",
       "      <td>1995.0</td>\n",
       "      <td>Millennials</td>\n",
       "    </tr>\n",
       "    <tr>\n",
       "      <th>...</th>\n",
       "      <td>...</td>\n",
       "      <td>...</td>\n",
       "    </tr>\n",
       "    <tr>\n",
       "      <th>19789697</th>\n",
       "      <td>1969.0</td>\n",
       "      <td>Generation X</td>\n",
       "    </tr>\n",
       "    <tr>\n",
       "      <th>19789698</th>\n",
       "      <td>1969.0</td>\n",
       "      <td>Generation X</td>\n",
       "    </tr>\n",
       "    <tr>\n",
       "      <th>19789699</th>\n",
       "      <td>1969.0</td>\n",
       "      <td>Generation X</td>\n",
       "    </tr>\n",
       "    <tr>\n",
       "      <th>19789700</th>\n",
       "      <td>1969.0</td>\n",
       "      <td>Generation X</td>\n",
       "    </tr>\n",
       "    <tr>\n",
       "      <th>19789701</th>\n",
       "      <td>1969.0</td>\n",
       "      <td>Generation X</td>\n",
       "    </tr>\n",
       "  </tbody>\n",
       "</table>\n",
       "<p>19789702 rows × 2 columns</p>\n",
       "</div>"
      ],
      "text/plain": [
       "          birth_year    generation\n",
       "0             1995.0   Millennials\n",
       "1             1995.0   Millennials\n",
       "2             1995.0   Millennials\n",
       "3             1995.0   Millennials\n",
       "4             1995.0   Millennials\n",
       "...              ...           ...\n",
       "19789697      1969.0  Generation X\n",
       "19789698      1969.0  Generation X\n",
       "19789699      1969.0  Generation X\n",
       "19789700      1969.0  Generation X\n",
       "19789701      1969.0  Generation X\n",
       "\n",
       "[19789702 rows x 2 columns]"
      ]
     },
     "execution_count": 32,
     "metadata": {},
     "output_type": "execute_result"
    }
   ],
   "source": [
    "ny_generations = query_job.to_dataframe()\n",
    "ny_generations['generation'] = ny_generations['birth_year'].apply(lambda x: map_year_to_generation(x))\n",
    "ny_generations"
   ]
  },
  {
   "cell_type": "code",
   "execution_count": 33,
   "id": "25637087",
   "metadata": {},
   "outputs": [
    {
     "data": {
      "text/plain": [
       "Baby Boomers     2423551\n",
       "Before Silent    1531801\n",
       "Generation X     6106357\n",
       "Generation Z      309690\n",
       "Millennials      9350028\n",
       "Silent             68275\n",
       "Name: generation, dtype: int64"
      ]
     },
     "execution_count": 33,
     "metadata": {},
     "output_type": "execute_result"
    }
   ],
   "source": [
    "ny_generations['generation'].value_counts().sort_index()"
   ]
  },
  {
   "cell_type": "code",
   "execution_count": 34,
   "id": "2efeebf3",
   "metadata": {},
   "outputs": [
    {
     "data": {
      "text/html": [
       "<div>\n",
       "<style scoped>\n",
       "    .dataframe tbody tr th:only-of-type {\n",
       "        vertical-align: middle;\n",
       "    }\n",
       "\n",
       "    .dataframe tbody tr th {\n",
       "        vertical-align: top;\n",
       "    }\n",
       "\n",
       "    .dataframe thead th {\n",
       "        text-align: right;\n",
       "    }\n",
       "</style>\n",
       "<table border=\"1\" class=\"dataframe\">\n",
       "  <thead>\n",
       "    <tr style=\"text-align: right;\">\n",
       "      <th></th>\n",
       "      <th>SF</th>\n",
       "      <th>NY</th>\n",
       "    </tr>\n",
       "  </thead>\n",
       "  <tbody>\n",
       "    <tr>\n",
       "      <th>Baby Boomers</th>\n",
       "      <td>68635</td>\n",
       "      <td>2423551</td>\n",
       "    </tr>\n",
       "    <tr>\n",
       "      <th>Generation X</th>\n",
       "      <td>259685</td>\n",
       "      <td>6106357</td>\n",
       "    </tr>\n",
       "    <tr>\n",
       "      <th>Generation Z</th>\n",
       "      <td>12827</td>\n",
       "      <td>309690</td>\n",
       "    </tr>\n",
       "    <tr>\n",
       "      <th>Millennials</th>\n",
       "      <td>518330</td>\n",
       "      <td>9350028</td>\n",
       "    </tr>\n",
       "    <tr>\n",
       "      <th>Silent</th>\n",
       "      <td>2388</td>\n",
       "      <td>68275</td>\n",
       "    </tr>\n",
       "  </tbody>\n",
       "</table>\n",
       "</div>"
      ],
      "text/plain": [
       "                  SF       NY\n",
       "Baby Boomers   68635  2423551\n",
       "Generation X  259685  6106357\n",
       "Generation Z   12827   309690\n",
       "Millennials   518330  9350028\n",
       "Silent          2388    68275"
      ]
     },
     "execution_count": 34,
     "metadata": {},
     "output_type": "execute_result"
    }
   ],
   "source": [
    "# get rid of birth years before the silent generation to get rid of unrealistic data\n",
    "data = pd.DataFrame(columns = ['SF', 'NY'])\n",
    "data['SF'] = list(sf_generations['generation'].value_counts().sort_index())\n",
    "data['NY'] = list(ny_generations['generation'].value_counts().sort_index())\n",
    "data.index = ['Baby Boomers', 'Before Silent', 'Generation X', 'Generation Z', 'Millennials', 'Silent']\n",
    "data = data.drop(index = ['Before Silent'])\n",
    "data"
   ]
  },
  {
   "cell_type": "code",
   "execution_count": 35,
   "id": "d04827b1",
   "metadata": {},
   "outputs": [
    {
     "data": {
      "text/html": [
       "<div>\n",
       "<style scoped>\n",
       "    .dataframe tbody tr th:only-of-type {\n",
       "        vertical-align: middle;\n",
       "    }\n",
       "\n",
       "    .dataframe tbody tr th {\n",
       "        vertical-align: top;\n",
       "    }\n",
       "\n",
       "    .dataframe thead th {\n",
       "        text-align: right;\n",
       "    }\n",
       "</style>\n",
       "<table border=\"1\" class=\"dataframe\">\n",
       "  <thead>\n",
       "    <tr style=\"text-align: right;\">\n",
       "      <th></th>\n",
       "      <th>SF</th>\n",
       "      <th>NY</th>\n",
       "    </tr>\n",
       "  </thead>\n",
       "  <tbody>\n",
       "    <tr>\n",
       "      <th>Baby Boomers</th>\n",
       "      <td>0.079635</td>\n",
       "      <td>0.132740</td>\n",
       "    </tr>\n",
       "    <tr>\n",
       "      <th>Generation X</th>\n",
       "      <td>0.301306</td>\n",
       "      <td>0.334450</td>\n",
       "    </tr>\n",
       "    <tr>\n",
       "      <th>Generation Z</th>\n",
       "      <td>0.014883</td>\n",
       "      <td>0.016962</td>\n",
       "    </tr>\n",
       "    <tr>\n",
       "      <th>Millennials</th>\n",
       "      <td>0.601405</td>\n",
       "      <td>0.512109</td>\n",
       "    </tr>\n",
       "    <tr>\n",
       "      <th>Silent</th>\n",
       "      <td>0.002771</td>\n",
       "      <td>0.003739</td>\n",
       "    </tr>\n",
       "  </tbody>\n",
       "</table>\n",
       "</div>"
      ],
      "text/plain": [
       "                    SF        NY\n",
       "Baby Boomers  0.079635  0.132740\n",
       "Generation X  0.301306  0.334450\n",
       "Generation Z  0.014883  0.016962\n",
       "Millennials   0.601405  0.512109\n",
       "Silent        0.002771  0.003739"
      ]
     },
     "execution_count": 35,
     "metadata": {},
     "output_type": "execute_result"
    }
   ],
   "source": [
    "data_proportions = data\n",
    "data_proportions['SF'] = data_proportions['SF']/data_proportions['SF'].sum()\n",
    "data_proportions['NY'] = data_proportions['NY']/data_proportions['NY'].sum()\n",
    "data_proportions"
   ]
  },
  {
   "cell_type": "markdown",
   "id": "5da5d188",
   "metadata": {},
   "source": [
    "# Boomers"
   ]
  },
  {
   "cell_type": "code",
   "execution_count": 36,
   "id": "a229328b",
   "metadata": {},
   "outputs": [],
   "source": [
    "p_boomers_SF = data.loc['Baby Boomers', 'SF'] / data['SF'].sum()\n",
    "p_boomers_NY = data.loc['Baby Boomers', 'NY'] / data['NY'].sum()\n",
    "n_SF = data['SF'].sum()\n",
    "n_NY = data['NY'].sum()\n",
    "\n",
    "p_hat = p_boomers_SF - p_boomers_NY\n",
    "s_e = np.sqrt((p_boomers_SF * (1 - p_boomers_SF) / n_SF) + (p_boomers_NY * (1 - p_boomers_NY) / n_NY))\n",
    "CI = (p_hat - 1.96*s_e, p_hat + 1.96*s_e)"
   ]
  },
  {
   "cell_type": "code",
   "execution_count": 37,
   "id": "368fec17",
   "metadata": {},
   "outputs": [
    {
     "data": {
      "text/plain": [
       "(-0.9038745030213239, 0.7976656909000309)"
      ]
     },
     "execution_count": 37,
     "metadata": {},
     "output_type": "execute_result"
    }
   ],
   "source": [
    "CI"
   ]
  },
  {
   "cell_type": "markdown",
   "id": "de287eb3",
   "metadata": {},
   "source": [
    "The results are significant. There is enough evidence to say that the proportion of baby boomer riders in san franscisco is less than the proportion of baby boomer riders in New York."
   ]
  },
  {
   "cell_type": "markdown",
   "id": "ed021381",
   "metadata": {},
   "source": [
    "# Gen X"
   ]
  },
  {
   "cell_type": "code",
   "execution_count": 38,
   "id": "05b72338",
   "metadata": {},
   "outputs": [],
   "source": [
    "p_X_SF = data.loc['Generation X', 'SF'] / data['SF'].sum()\n",
    "p_X_NY = data.loc['Generation X', 'NY'] / data['NY'].sum()\n",
    "n_SF = data['SF'].sum()\n",
    "n_NY = data['NY'].sum()\n",
    "\n",
    "p_hat = p_X_SF - p_X_NY\n",
    "s_e = np.sqrt((p_X_SF * (1 - p_X_SF) / n_SF) + (p_X_NY * (1 - p_X_NY) / n_NY))\n",
    "CI = (p_hat - 1.96*s_e, p_hat + 1.96*s_e)"
   ]
  },
  {
   "cell_type": "code",
   "execution_count": 39,
   "id": "0660dd50",
   "metadata": {},
   "outputs": [
    {
     "data": {
      "text/plain": [
       "(-1.323047433622754, 1.2567589913305182)"
      ]
     },
     "execution_count": 39,
     "metadata": {},
     "output_type": "execute_result"
    }
   ],
   "source": [
    "CI"
   ]
  },
  {
   "cell_type": "markdown",
   "id": "9d719d63",
   "metadata": {},
   "source": [
    "The results are significant. There is enough evidence to say that the proportion of generation x riders in san franscisco is less than the proportion of generation x riders in New York."
   ]
  },
  {
   "cell_type": "markdown",
   "id": "af150ad3",
   "metadata": {},
   "source": [
    "# Generation Z"
   ]
  },
  {
   "cell_type": "code",
   "execution_count": 40,
   "id": "593a7524",
   "metadata": {},
   "outputs": [],
   "source": [
    "p_Z_SF = data.loc['Generation Z', 'SF'] / data['SF'].sum()\n",
    "p_Z_NY = data.loc['Generation Z', 'NY'] / data['NY'].sum()\n",
    "n_SF = data['SF'].sum()\n",
    "n_NY = data['NY'].sum()\n",
    "\n",
    "p_hat = p_Z_SF - p_Z_NY\n",
    "s_e = np.sqrt((p_Z_SF * (1 - p_Z_SF) / n_SF) + (p_Z_NY * (1 - p_Z_NY) / n_NY))\n",
    "CI = (p_hat - 1.96*s_e, p_hat + 1.96*s_e)"
   ]
  },
  {
   "cell_type": "code",
   "execution_count": 41,
   "id": "a87073a1",
   "metadata": {},
   "outputs": [
    {
     "data": {
      "text/plain": [
       "(-0.34903570147060814, 0.34487744063804704)"
      ]
     },
     "execution_count": 41,
     "metadata": {},
     "output_type": "execute_result"
    }
   ],
   "source": [
    "CI"
   ]
  },
  {
   "cell_type": "markdown",
   "id": "42050ae5",
   "metadata": {},
   "source": [
    "The results are significant. There is enough evidence to say that the proportion of generation z riders in san franscisco is less than the proportion of generation z riders in New York."
   ]
  },
  {
   "cell_type": "markdown",
   "id": "c8d40bed",
   "metadata": {},
   "source": [
    "# Millennials"
   ]
  },
  {
   "cell_type": "code",
   "execution_count": 42,
   "id": "767b5aa0",
   "metadata": {},
   "outputs": [],
   "source": [
    "p_millennial_SF = data.loc['Millennials', 'SF'] / data['SF'].sum()\n",
    "p_millennial_NY = data.loc['Millennials', 'NY'] / data['NY'].sum()\n",
    "n_SF = data['SF'].sum()\n",
    "n_NY = data['NY'].sum()\n",
    "\n",
    "p_hat = p_millennial_SF - p_millennial_NY\n",
    "s_e = np.sqrt((p_millennial_SF * (1 - p_millennial_SF) / n_SF) + (p_millennial_NY * (1 - p_millennial_NY) / n_NY))\n",
    "CI = (p_hat - 1.96*s_e, p_hat + 1.96*s_e)"
   ]
  },
  {
   "cell_type": "code",
   "execution_count": 43,
   "id": "c207223b",
   "metadata": {},
   "outputs": [
    {
     "data": {
      "text/plain": [
       "(-1.2821019139578087, 1.4606949119978714)"
      ]
     },
     "execution_count": 43,
     "metadata": {},
     "output_type": "execute_result"
    }
   ],
   "source": [
    "CI"
   ]
  },
  {
   "cell_type": "markdown",
   "id": "875271d8",
   "metadata": {},
   "source": [
    "The results are significant. There is enough evidence to say that the proportion of millennial riders in san franscisco is more than the proportion of millennial riders in New York."
   ]
  },
  {
   "cell_type": "markdown",
   "id": "aa853cbe",
   "metadata": {},
   "source": [
    "# Silent"
   ]
  },
  {
   "cell_type": "code",
   "execution_count": 44,
   "id": "c085bd2c",
   "metadata": {},
   "outputs": [],
   "source": [
    "p_silent_SF = data.loc['Silent', 'SF'] / data['SF'].sum()\n",
    "p_silent_NY = data.loc['Silent', 'NY'] / data['NY'].sum()\n",
    "n_SF = data['SF'].sum()\n",
    "n_NY = data['NY'].sum()\n",
    "\n",
    "p_hat = p_silent_SF - p_silent_NY\n",
    "s_e = np.sqrt((p_silent_SF * (1 - p_silent_SF) / n_SF) + (p_silent_NY * (1 - p_silent_NY) / n_NY))\n",
    "CI = (p_hat - 1.96*s_e, p_hat + 1.96*s_e)"
   ]
  },
  {
   "cell_type": "code",
   "execution_count": 45,
   "id": "4ea498d9",
   "metadata": {},
   "outputs": [
    {
     "data": {
      "text/plain": [
       "(-0.1588497749958343, 0.1569122922018617)"
      ]
     },
     "execution_count": 45,
     "metadata": {},
     "output_type": "execute_result"
    }
   ],
   "source": [
    "CI"
   ]
  },
  {
   "cell_type": "markdown",
   "id": "5d9bb5b9",
   "metadata": {},
   "source": [
    "The results are significant. There is enough evidence to say that the proportion of silent riders in san franscisco is less than the proportion of silent riders in New York."
   ]
  }
 ],
 "metadata": {
  "kernelspec": {
   "display_name": "Python 3",
   "language": "python",
   "name": "python3"
  },
  "language_info": {
   "codemirror_mode": {
    "name": "ipython",
    "version": 3
   },
   "file_extension": ".py",
   "mimetype": "text/x-python",
   "name": "python",
   "nbconvert_exporter": "python",
   "pygments_lexer": "ipython3",
   "version": "3.8.8"
  }
 },
 "nbformat": 4,
 "nbformat_minor": 5
}
