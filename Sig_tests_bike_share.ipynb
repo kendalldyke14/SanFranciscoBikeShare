{
 "cells": [
  {
   "cell_type": "code",
   "execution_count": 65,
   "id": "d2cdfd41",
   "metadata": {},
   "outputs": [],
   "source": [
    "import pandas as pd\n",
    "import numpy as np\n",
    "from google.cloud import bigquery\n",
    "import os"
   ]
  },
  {
   "cell_type": "code",
   "execution_count": 66,
   "id": "7a43a5d1",
   "metadata": {},
   "outputs": [
    {
     "name": "stdout",
     "output_type": "stream",
     "text": [
      "The google.cloud.bigquery extension is already loaded. To reload it, use:\n",
      "  %reload_ext google.cloud.bigquery\n"
     ]
    }
   ],
   "source": [
    "%load_ext google.cloud.bigquery"
   ]
  },
  {
   "cell_type": "code",
   "execution_count": 67,
   "id": "bfbf5fd0",
   "metadata": {},
   "outputs": [],
   "source": [
    "os.environ[\"GOOGLE_APPLICATION_CREDENTIALS\"]=\"sunny-footing-321404-513454d4be38.json\""
   ]
  },
  {
   "cell_type": "code",
   "execution_count": 68,
   "id": "6e2f6b6b",
   "metadata": {},
   "outputs": [],
   "source": [
    "client = bigquery.Client()\n",
    "\n",
    "query = \"\"\"\n",
    "    SELECT member_gender FROM `bigquery-public-data.san_francisco_bikeshare.bikeshare_trips`\n",
    "    WHERE (member_gender = 'Female' OR member_gender = 'Male') AND \n",
    "\"\"\"\n",
    "\n",
    "query_job = client.query(query) "
   ]
  },
  {
   "cell_type": "code",
   "execution_count": 69,
   "id": "236de7e9",
   "metadata": {},
   "outputs": [
    {
     "data": {
      "text/plain": [
       "member_gender\n",
       "Male             651771\n",
       "Female           199202\n",
       "dtype: int64"
      ]
     },
     "execution_count": 69,
     "metadata": {},
     "output_type": "execute_result"
    }
   ],
   "source": [
    "sf_genders = query_job.to_dataframe()\n",
    "sf_genders.value_counts()"
   ]
  },
  {
   "cell_type": "code",
   "execution_count": 70,
   "id": "1d360c9d",
   "metadata": {},
   "outputs": [],
   "source": [
    "client = bigquery.Client()\n",
    "\n",
    "query = \"\"\"\n",
    "    SELECT gender FROM `bigquery-public-data.new_york_citibike.citibike_trips`\\\n",
    "    WHERE (gender = 'male' OR gender = 'female')\n",
    "\"\"\"\n",
    "\n",
    "query_job = client.query(query) "
   ]
  },
  {
   "cell_type": "code",
   "execution_count": 71,
   "id": "b74dbbbf",
   "metadata": {},
   "outputs": [
    {
     "data": {
      "text/plain": [
       "gender\n",
       "male      35611787\n",
       "female    11376412\n",
       "dtype: int64"
      ]
     },
     "execution_count": 71,
     "metadata": {},
     "output_type": "execute_result"
    }
   ],
   "source": [
    "ny_genders = query_job.to_dataframe()\n",
    "ny_genders.value_counts()"
   ]
  },
  {
   "cell_type": "code",
   "execution_count": 74,
   "id": "e80359ab",
   "metadata": {},
   "outputs": [
    {
     "data": {
      "text/html": [
       "<div>\n",
       "<style scoped>\n",
       "    .dataframe tbody tr th:only-of-type {\n",
       "        vertical-align: middle;\n",
       "    }\n",
       "\n",
       "    .dataframe tbody tr th {\n",
       "        vertical-align: top;\n",
       "    }\n",
       "\n",
       "    .dataframe thead th {\n",
       "        text-align: right;\n",
       "    }\n",
       "</style>\n",
       "<table border=\"1\" class=\"dataframe\">\n",
       "  <thead>\n",
       "    <tr style=\"text-align: right;\">\n",
       "      <th></th>\n",
       "      <th>SF</th>\n",
       "      <th>NY</th>\n",
       "    </tr>\n",
       "  </thead>\n",
       "  <tbody>\n",
       "    <tr>\n",
       "      <th>male</th>\n",
       "      <td>651771</td>\n",
       "      <td>35611787</td>\n",
       "    </tr>\n",
       "    <tr>\n",
       "      <th>female</th>\n",
       "      <td>199202</td>\n",
       "      <td>11376412</td>\n",
       "    </tr>\n",
       "  </tbody>\n",
       "</table>\n",
       "</div>"
      ],
      "text/plain": [
       "            SF        NY\n",
       "male    651771  35611787\n",
       "female  199202  11376412"
      ]
     },
     "execution_count": 74,
     "metadata": {},
     "output_type": "execute_result"
    }
   ],
   "source": [
    "data = pd.DataFrame(columns = ['SF', 'NY'])\n",
    "data['SF'] = list(sf_genders.value_counts())\n",
    "data['NY'] = list(ny_genders.value_counts())\n",
    "data.index = ['male', 'female']\n",
    "data"
   ]
  },
  {
   "cell_type": "code",
   "execution_count": 79,
   "id": "30f0f5a3",
   "metadata": {},
   "outputs": [],
   "source": [
    "import numpy as np\n",
    "# population proportion differences (proportion of females in SF and NY)\n",
    "# just realized should be filtered by 2017 and after\n",
    "p_female_SF = data.loc['female', 'SF'] / data['SF'].sum()\n",
    "p_female_NY = data.loc['female', 'NY'] / data['NY'].sum()\n",
    "n_SF = data['SF'].sum()\n",
    "n_NY = data['NY'].sum()\n",
    "\n",
    "p_hat = p_female_SF - p_female_NY\n",
    "s_e = np.sqrt((p_female_SF * (1 - p_female_SF) / n_SF) + (p_female_NY * (1 - p_female_NY) / n_NY))\n",
    "CI = (p_hat - 1.96*s_e, p_hat + 1.96*s_e)"
   ]
  },
  {
   "cell_type": "code",
   "execution_count": 80,
   "id": "b27034eb",
   "metadata": {},
   "outputs": [
    {
     "data": {
      "text/plain": [
       "(-0.008932732772209101, -0.0071168210741792415)"
      ]
     },
     "execution_count": 80,
     "metadata": {},
     "output_type": "execute_result"
    }
   ],
   "source": [
    "CI\n",
    "# there are less female to male riders in SF than in NY"
   ]
  },
  {
   "cell_type": "code",
   "execution_count": 84,
   "id": "d23784de",
   "metadata": {},
   "outputs": [],
   "source": [
    "# map year to generation\n",
    "def map_year_to_generation(year):\n",
    "    if 1928 <= year <= 1945:\n",
    "        generation = 'Silent'\n",
    "    elif 1946 <= year <= 1964:\n",
    "        generation = 'Baby Boomers'\n",
    "    elif 1965 <= year <= 1980:\n",
    "        generation = 'Generation X'\n",
    "    elif 1981 <= year <= 1996:\n",
    "        generation = 'Millennials'\n",
    "    elif 1997 <= year:\n",
    "        generation = 'Generation Z'\n",
    "    else:\n",
    "        generation = 'Before Silent'\n",
    "    return generation"
   ]
  },
  {
   "cell_type": "code",
   "execution_count": 85,
   "id": "5f4ec9c7",
   "metadata": {},
   "outputs": [],
   "source": [
    "client = bigquery.Client()\n",
    "\n",
    "query = \"\"\"\n",
    "    SELECT member_birth_year FROM `bigquery-public-data.san_francisco_bikeshare.bikeshare_trips`\n",
    "\"\"\"\n",
    "\n",
    "query_job = client.query(query) "
   ]
  },
  {
   "cell_type": "code",
   "execution_count": 86,
   "id": "9e5c72e3",
   "metadata": {},
   "outputs": [
    {
     "data": {
      "text/html": [
       "<div>\n",
       "<style scoped>\n",
       "    .dataframe tbody tr th:only-of-type {\n",
       "        vertical-align: middle;\n",
       "    }\n",
       "\n",
       "    .dataframe tbody tr th {\n",
       "        vertical-align: top;\n",
       "    }\n",
       "\n",
       "    .dataframe thead th {\n",
       "        text-align: right;\n",
       "    }\n",
       "</style>\n",
       "<table border=\"1\" class=\"dataframe\">\n",
       "  <thead>\n",
       "    <tr style=\"text-align: right;\">\n",
       "      <th></th>\n",
       "      <th>member_birth_year</th>\n",
       "      <th>generation</th>\n",
       "    </tr>\n",
       "  </thead>\n",
       "  <tbody>\n",
       "    <tr>\n",
       "      <th>0</th>\n",
       "      <td>1998.0</td>\n",
       "      <td>Generation Z</td>\n",
       "    </tr>\n",
       "    <tr>\n",
       "      <th>1</th>\n",
       "      <td>1997.0</td>\n",
       "      <td>Generation Z</td>\n",
       "    </tr>\n",
       "    <tr>\n",
       "      <th>2</th>\n",
       "      <td>1966.0</td>\n",
       "      <td>Generation X</td>\n",
       "    </tr>\n",
       "    <tr>\n",
       "      <th>3</th>\n",
       "      <td>1947.0</td>\n",
       "      <td>Baby Boomers</td>\n",
       "    </tr>\n",
       "    <tr>\n",
       "      <th>4</th>\n",
       "      <td>1962.0</td>\n",
       "      <td>Baby Boomers</td>\n",
       "    </tr>\n",
       "    <tr>\n",
       "      <th>...</th>\n",
       "      <td>...</td>\n",
       "      <td>...</td>\n",
       "    </tr>\n",
       "    <tr>\n",
       "      <th>1947414</th>\n",
       "      <td>1995.0</td>\n",
       "      <td>Millennials</td>\n",
       "    </tr>\n",
       "    <tr>\n",
       "      <th>1947415</th>\n",
       "      <td>1995.0</td>\n",
       "      <td>Millennials</td>\n",
       "    </tr>\n",
       "    <tr>\n",
       "      <th>1947416</th>\n",
       "      <td>1995.0</td>\n",
       "      <td>Millennials</td>\n",
       "    </tr>\n",
       "    <tr>\n",
       "      <th>1947417</th>\n",
       "      <td>1995.0</td>\n",
       "      <td>Millennials</td>\n",
       "    </tr>\n",
       "    <tr>\n",
       "      <th>1947418</th>\n",
       "      <td>1995.0</td>\n",
       "      <td>Millennials</td>\n",
       "    </tr>\n",
       "  </tbody>\n",
       "</table>\n",
       "<p>1947419 rows × 2 columns</p>\n",
       "</div>"
      ],
      "text/plain": [
       "         member_birth_year    generation\n",
       "0                   1998.0  Generation Z\n",
       "1                   1997.0  Generation Z\n",
       "2                   1966.0  Generation X\n",
       "3                   1947.0  Baby Boomers\n",
       "4                   1962.0  Baby Boomers\n",
       "...                    ...           ...\n",
       "1947414             1995.0   Millennials\n",
       "1947415             1995.0   Millennials\n",
       "1947416             1995.0   Millennials\n",
       "1947417             1995.0   Millennials\n",
       "1947418             1995.0   Millennials\n",
       "\n",
       "[1947419 rows x 2 columns]"
      ]
     },
     "execution_count": 86,
     "metadata": {},
     "output_type": "execute_result"
    }
   ],
   "source": [
    "sf_generations = query_job.to_dataframe()\n",
    "sf_generations['generation'] = sf_generations['member_birth_year'].apply(lambda x: map_year_to_generation(x))\n",
    "sf_generations"
   ]
  },
  {
   "cell_type": "code",
   "execution_count": 97,
   "id": "963a9aae",
   "metadata": {},
   "outputs": [
    {
     "data": {
      "text/plain": [
       "Baby Boomers       68635\n",
       "Before Silent    1085554\n",
       "Generation X      259685\n",
       "Generation Z       12827\n",
       "Millennials       518330\n",
       "Silent              2388\n",
       "Name: generation, dtype: int64"
      ]
     },
     "execution_count": 97,
     "metadata": {},
     "output_type": "execute_result"
    }
   ],
   "source": [
    "sf_generations['generation'].value_counts().sort_index()"
   ]
  },
  {
   "cell_type": "code",
   "execution_count": 89,
   "id": "e7e5d487",
   "metadata": {},
   "outputs": [],
   "source": [
    "client = bigquery.Client()\n",
    "\n",
    "query = \"\"\"\n",
    "    SELECT birth_year FROM `bigquery-public-data.new_york_citibike.citibike_trips`\n",
    "\"\"\"\n",
    "\n",
    "query_job = client.query(query) "
   ]
  },
  {
   "cell_type": "code",
   "execution_count": 91,
   "id": "e00d036f",
   "metadata": {},
   "outputs": [
    {
     "data": {
      "text/html": [
       "<div>\n",
       "<style scoped>\n",
       "    .dataframe tbody tr th:only-of-type {\n",
       "        vertical-align: middle;\n",
       "    }\n",
       "\n",
       "    .dataframe tbody tr th {\n",
       "        vertical-align: top;\n",
       "    }\n",
       "\n",
       "    .dataframe thead th {\n",
       "        text-align: right;\n",
       "    }\n",
       "</style>\n",
       "<table border=\"1\" class=\"dataframe\">\n",
       "  <thead>\n",
       "    <tr style=\"text-align: right;\">\n",
       "      <th></th>\n",
       "      <th>birth_year</th>\n",
       "      <th>generation</th>\n",
       "    </tr>\n",
       "  </thead>\n",
       "  <tbody>\n",
       "    <tr>\n",
       "      <th>0</th>\n",
       "      <td>1979.0</td>\n",
       "      <td>Generation X</td>\n",
       "    </tr>\n",
       "    <tr>\n",
       "      <th>1</th>\n",
       "      <td>1979.0</td>\n",
       "      <td>Generation X</td>\n",
       "    </tr>\n",
       "    <tr>\n",
       "      <th>2</th>\n",
       "      <td>1979.0</td>\n",
       "      <td>Generation X</td>\n",
       "    </tr>\n",
       "    <tr>\n",
       "      <th>3</th>\n",
       "      <td>1979.0</td>\n",
       "      <td>Generation X</td>\n",
       "    </tr>\n",
       "    <tr>\n",
       "      <th>4</th>\n",
       "      <td>1979.0</td>\n",
       "      <td>Generation X</td>\n",
       "    </tr>\n",
       "    <tr>\n",
       "      <th>...</th>\n",
       "      <td>...</td>\n",
       "      <td>...</td>\n",
       "    </tr>\n",
       "    <tr>\n",
       "      <th>58937710</th>\n",
       "      <td>NaN</td>\n",
       "      <td>Before Silent</td>\n",
       "    </tr>\n",
       "    <tr>\n",
       "      <th>58937711</th>\n",
       "      <td>NaN</td>\n",
       "      <td>Before Silent</td>\n",
       "    </tr>\n",
       "    <tr>\n",
       "      <th>58937712</th>\n",
       "      <td>NaN</td>\n",
       "      <td>Before Silent</td>\n",
       "    </tr>\n",
       "    <tr>\n",
       "      <th>58937713</th>\n",
       "      <td>NaN</td>\n",
       "      <td>Before Silent</td>\n",
       "    </tr>\n",
       "    <tr>\n",
       "      <th>58937714</th>\n",
       "      <td>NaN</td>\n",
       "      <td>Before Silent</td>\n",
       "    </tr>\n",
       "  </tbody>\n",
       "</table>\n",
       "<p>58937715 rows × 2 columns</p>\n",
       "</div>"
      ],
      "text/plain": [
       "          birth_year     generation\n",
       "0             1979.0   Generation X\n",
       "1             1979.0   Generation X\n",
       "2             1979.0   Generation X\n",
       "3             1979.0   Generation X\n",
       "4             1979.0   Generation X\n",
       "...              ...            ...\n",
       "58937710         NaN  Before Silent\n",
       "58937711         NaN  Before Silent\n",
       "58937712         NaN  Before Silent\n",
       "58937713         NaN  Before Silent\n",
       "58937714         NaN  Before Silent\n",
       "\n",
       "[58937715 rows x 2 columns]"
      ]
     },
     "execution_count": 91,
     "metadata": {},
     "output_type": "execute_result"
    }
   ],
   "source": [
    "ny_generations = query_job.to_dataframe()\n",
    "ny_generations['generation'] = ny_generations['birth_year'].apply(lambda x: map_year_to_generation(x))\n",
    "ny_generations"
   ]
  },
  {
   "cell_type": "code",
   "execution_count": 96,
   "id": "f3948ad1",
   "metadata": {},
   "outputs": [
    {
     "data": {
      "text/plain": [
       "Baby Boomers      7246214\n",
       "Before Silent    11430023\n",
       "Generation X     17087299\n",
       "Generation Z       426128\n",
       "Millennials      22515467\n",
       "Silent             232584\n",
       "Name: generation, dtype: int64"
      ]
     },
     "execution_count": 96,
     "metadata": {},
     "output_type": "execute_result"
    }
   ],
   "source": [
    "ny_generations['generation'].value_counts().sort_index()"
   ]
  },
  {
   "cell_type": "code",
   "execution_count": 100,
   "id": "baa4111e",
   "metadata": {},
   "outputs": [
    {
     "data": {
      "text/html": [
       "<div>\n",
       "<style scoped>\n",
       "    .dataframe tbody tr th:only-of-type {\n",
       "        vertical-align: middle;\n",
       "    }\n",
       "\n",
       "    .dataframe tbody tr th {\n",
       "        vertical-align: top;\n",
       "    }\n",
       "\n",
       "    .dataframe thead th {\n",
       "        text-align: right;\n",
       "    }\n",
       "</style>\n",
       "<table border=\"1\" class=\"dataframe\">\n",
       "  <thead>\n",
       "    <tr style=\"text-align: right;\">\n",
       "      <th></th>\n",
       "      <th>SF</th>\n",
       "      <th>NY</th>\n",
       "    </tr>\n",
       "  </thead>\n",
       "  <tbody>\n",
       "    <tr>\n",
       "      <th>Baby Boomers</th>\n",
       "      <td>68635</td>\n",
       "      <td>7246214</td>\n",
       "    </tr>\n",
       "    <tr>\n",
       "      <th>Generation X</th>\n",
       "      <td>259685</td>\n",
       "      <td>17087299</td>\n",
       "    </tr>\n",
       "    <tr>\n",
       "      <th>Generation Z</th>\n",
       "      <td>12827</td>\n",
       "      <td>426128</td>\n",
       "    </tr>\n",
       "    <tr>\n",
       "      <th>Millennials</th>\n",
       "      <td>518330</td>\n",
       "      <td>22515467</td>\n",
       "    </tr>\n",
       "    <tr>\n",
       "      <th>Silent</th>\n",
       "      <td>2388</td>\n",
       "      <td>232584</td>\n",
       "    </tr>\n",
       "  </tbody>\n",
       "</table>\n",
       "</div>"
      ],
      "text/plain": [
       "                  SF        NY\n",
       "Baby Boomers   68635   7246214\n",
       "Generation X  259685  17087299\n",
       "Generation Z   12827    426128\n",
       "Millennials   518330  22515467\n",
       "Silent          2388    232584"
      ]
     },
     "execution_count": 100,
     "metadata": {},
     "output_type": "execute_result"
    }
   ],
   "source": [
    "data = pd.DataFrame(columns = ['SF', 'NY'])\n",
    "data['SF'] = list(sf_generations['generation'].value_counts().sort_index())\n",
    "data['NY'] = list(ny_generations['generation'].value_counts().sort_index())\n",
    "data.index = ['Baby Boomers', 'Before Silent', 'Generation X', 'Generation Z', 'Millennials', 'Silent']\n",
    "data = data.drop(index = ['Before Silent'])\n",
    "data"
   ]
  },
  {
   "cell_type": "code",
   "execution_count": 101,
   "id": "4fe41113",
   "metadata": {},
   "outputs": [],
   "source": [
    "p_boomers_SF = data.loc['Baby Boomers', 'SF'] / data['SF'].sum()\n",
    "p_boomers_NY = data.loc['Baby Boomers', 'NY'] / data['NY'].sum()\n",
    "n_SF = data['SF'].sum()\n",
    "n_NY = data['NY'].sum()\n",
    "\n",
    "p_hat = p_boomers_SF - p_boomers_NY\n",
    "s_e = np.sqrt((p_boomers_SF * (1 - p_boomers_SF) / n_SF) + (p_boomers_NY * (1 - p_boomers_NY) / n_NY))\n",
    "CI = (p_hat - 1.96*s_e, p_hat + 1.96*s_e)"
   ]
  },
  {
   "cell_type": "code",
   "execution_count": 102,
   "id": "3d0e1a97",
   "metadata": {},
   "outputs": [
    {
     "data": {
      "text/plain": [
       "(-0.07347237408639716, -0.07231109025323175)"
      ]
     },
     "execution_count": 102,
     "metadata": {},
     "output_type": "execute_result"
    }
   ],
   "source": [
    "CI"
   ]
  },
  {
   "cell_type": "code",
   "execution_count": 103,
   "id": "f2137a7f",
   "metadata": {},
   "outputs": [],
   "source": [
    "p_X_SF = data.loc['Generation X', 'SF'] / data['SF'].sum()\n",
    "p_X_NY = data.loc['Generation X', 'NY'] / data['NY'].sum()\n",
    "n_SF = data['SF'].sum()\n",
    "n_NY = data['NY'].sum()\n",
    "\n",
    "p_hat = p_X_SF - p_X_NY\n",
    "s_e = np.sqrt((p_X_SF * (1 - p_X_SF) / n_SF) + (p_X_NY * (1 - p_X_NY) / n_NY))\n",
    "CI = (p_hat - 1.96*s_e, p_hat + 1.96*s_e)"
   ]
  },
  {
   "cell_type": "code",
   "execution_count": 104,
   "id": "9f98039c",
   "metadata": {},
   "outputs": [
    {
     "data": {
      "text/plain": [
       "(-0.05934673021477546, -0.057390223829162895)"
      ]
     },
     "execution_count": 104,
     "metadata": {},
     "output_type": "execute_result"
    }
   ],
   "source": [
    "CI"
   ]
  },
  {
   "cell_type": "code",
   "execution_count": 105,
   "id": "941c5351",
   "metadata": {},
   "outputs": [],
   "source": [
    "p_Z_SF = data.loc['Generation Z', 'SF'] / data['SF'].sum()\n",
    "p_Z_NY = data.loc['Generation Z', 'NY'] / data['NY'].sum()\n",
    "n_SF = data['SF'].sum()\n",
    "n_NY = data['NY'].sum()\n",
    "\n",
    "p_hat = p_Z_SF - p_Z_NY\n",
    "s_e = np.sqrt((p_Z_SF * (1 - p_Z_SF) / n_SF) + (p_Z_NY * (1 - p_Z_NY) / n_NY))\n",
    "CI = (p_hat - 1.96*s_e, p_hat + 1.96*s_e)"
   ]
  },
  {
   "cell_type": "code",
   "execution_count": 106,
   "id": "2c6179b8",
   "metadata": {},
   "outputs": [
    {
     "data": {
      "text/plain": [
       "(0.005656139176355604, 0.006170216843080394)"
      ]
     },
     "execution_count": 106,
     "metadata": {},
     "output_type": "execute_result"
    }
   ],
   "source": [
    "CI"
   ]
  },
  {
   "cell_type": "code",
   "execution_count": 107,
   "id": "eff7986b",
   "metadata": {},
   "outputs": [],
   "source": [
    "p_millennial_SF = data.loc['Millennials', 'SF'] / data['SF'].sum()\n",
    "p_millennial_NY = data.loc['Millennials', 'NY'] / data['NY'].sum()\n",
    "n_SF = data['SF'].sum()\n",
    "n_NY = data['NY'].sum()\n",
    "\n",
    "p_hat = p_millennial_SF - p_millennial_NY\n",
    "s_e = np.sqrt((p_millennial_SF * (1 - p_millennial_SF) / n_SF) + (p_millennial_NY * (1 - p_millennial_NY) / n_NY))\n",
    "CI = (p_hat - 1.96*s_e, p_hat + 1.96*s_e)"
   ]
  },
  {
   "cell_type": "code",
   "execution_count": 108,
   "id": "41162ae5",
   "metadata": {},
   "outputs": [
    {
     "data": {
      "text/plain": [
       "(0.12642862231291668, 0.12851539387303185)"
      ]
     },
     "execution_count": 108,
     "metadata": {},
     "output_type": "execute_result"
    }
   ],
   "source": [
    "CI"
   ]
  },
  {
   "cell_type": "code",
   "execution_count": 109,
   "id": "e34b21aa",
   "metadata": {},
   "outputs": [],
   "source": [
    "p_silent_SF = data.loc['Silent', 'SF'] / data['SF'].sum()\n",
    "p_silent_NY = data.loc['Silent', 'NY'] / data['NY'].sum()\n",
    "n_SF = data['SF'].sum()\n",
    "n_NY = data['NY'].sum()\n",
    "\n",
    "p_hat = p_silent_SF - p_silent_NY\n",
    "s_e = np.sqrt((p_silent_SF * (1 - p_silent_SF) / n_SF) + (p_silent_NY * (1 - p_silent_NY) / n_NY))\n",
    "CI = (p_hat - 1.96*s_e, p_hat + 1.96*s_e)"
   ]
  },
  {
   "cell_type": "code",
   "execution_count": 110,
   "id": "3285892b",
   "metadata": {},
   "outputs": [
    {
     "data": {
      "text/plain": [
       "(-0.00223771444984091, -0.0020122393719762613)"
      ]
     },
     "execution_count": 110,
     "metadata": {},
     "output_type": "execute_result"
    }
   ],
   "source": [
    "CI"
   ]
  },
  {
   "cell_type": "code",
   "execution_count": null,
   "id": "75867e64",
   "metadata": {},
   "outputs": [],
   "source": []
  }
 ],
 "metadata": {
  "kernelspec": {
   "display_name": "Python 3",
   "language": "python",
   "name": "python3"
  },
  "language_info": {
   "codemirror_mode": {
    "name": "ipython",
    "version": 3
   },
   "file_extension": ".py",
   "mimetype": "text/x-python",
   "name": "python",
   "nbconvert_exporter": "python",
   "pygments_lexer": "ipython3",
   "version": "3.8.8"
  }
 },
 "nbformat": 4,
 "nbformat_minor": 5
}
