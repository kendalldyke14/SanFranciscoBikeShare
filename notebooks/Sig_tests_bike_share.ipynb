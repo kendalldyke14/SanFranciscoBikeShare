{
 "cells": [
  {
   "cell_type": "code",
   "execution_count": 1,
   "id": "128f11a6",
   "metadata": {},
   "outputs": [],
   "source": [
    "import pandas as pd\n",
    "import numpy as np\n",
    "from google.cloud import bigquery\n",
    "import os\n",
    "import datetime\n",
    "from statsmodels.stats.weightstats import ttest_ind\n",
    "import scipy\n",
    "from geopy.distance import geodesic"
   ]
  },
  {
   "cell_type": "code",
   "execution_count": 2,
   "id": "7e8ba7d9",
   "metadata": {},
   "outputs": [],
   "source": [
    "%load_ext google.cloud.bigquery"
   ]
  },
  {
   "cell_type": "code",
   "execution_count": 3,
   "id": "c0f938c6",
   "metadata": {},
   "outputs": [],
   "source": [
    "os.environ[\"GOOGLE_APPLICATION_CREDENTIALS\"]=\"sunny-footing-321404-513454d4be38.json\""
   ]
  },
  {
   "cell_type": "markdown",
   "id": "87eeaa41",
   "metadata": {},
   "source": [
    "# Difference in mean duration of rides between male and female riders: SF"
   ]
  },
  {
   "cell_type": "code",
   "execution_count": 4,
   "id": "1b851f26",
   "metadata": {},
   "outputs": [],
   "source": [
    "client = bigquery.Client()\n",
    "\n",
    "query = \"\"\"\n",
    "    SELECT member_gender, duration_sec FROM `bigquery-public-data.san_francisco_bikeshare.bikeshare_trips`\n",
    "    WHERE (member_gender = 'Female' OR member_gender = 'Male') AND start_date >= '2017-01-01 00:00:00'\n",
    "\"\"\"\n",
    "\n",
    "query_job = client.query(query)"
   ]
  },
  {
   "cell_type": "code",
   "execution_count": 5,
   "id": "13a7b653",
   "metadata": {},
   "outputs": [
    {
     "data": {
      "text/html": [
       "<div>\n",
       "<style scoped>\n",
       "    .dataframe tbody tr th:only-of-type {\n",
       "        vertical-align: middle;\n",
       "    }\n",
       "\n",
       "    .dataframe tbody tr th {\n",
       "        vertical-align: top;\n",
       "    }\n",
       "\n",
       "    .dataframe thead th {\n",
       "        text-align: right;\n",
       "    }\n",
       "</style>\n",
       "<table border=\"1\" class=\"dataframe\">\n",
       "  <thead>\n",
       "    <tr style=\"text-align: right;\">\n",
       "      <th></th>\n",
       "      <th>member_gender</th>\n",
       "      <th>duration_sec</th>\n",
       "      <th>duration_minutes</th>\n",
       "    </tr>\n",
       "  </thead>\n",
       "  <tbody>\n",
       "    <tr>\n",
       "      <th>0</th>\n",
       "      <td>Male</td>\n",
       "      <td>327</td>\n",
       "      <td>5.450000</td>\n",
       "    </tr>\n",
       "    <tr>\n",
       "      <th>1</th>\n",
       "      <td>Male</td>\n",
       "      <td>291</td>\n",
       "      <td>4.850000</td>\n",
       "    </tr>\n",
       "    <tr>\n",
       "      <th>2</th>\n",
       "      <td>Male</td>\n",
       "      <td>224</td>\n",
       "      <td>3.733333</td>\n",
       "    </tr>\n",
       "    <tr>\n",
       "      <th>3</th>\n",
       "      <td>Male</td>\n",
       "      <td>467</td>\n",
       "      <td>7.783333</td>\n",
       "    </tr>\n",
       "    <tr>\n",
       "      <th>4</th>\n",
       "      <td>Male</td>\n",
       "      <td>231</td>\n",
       "      <td>3.850000</td>\n",
       "    </tr>\n",
       "    <tr>\n",
       "      <th>...</th>\n",
       "      <td>...</td>\n",
       "      <td>...</td>\n",
       "      <td>...</td>\n",
       "    </tr>\n",
       "    <tr>\n",
       "      <th>850968</th>\n",
       "      <td>Female</td>\n",
       "      <td>1256</td>\n",
       "      <td>20.933333</td>\n",
       "    </tr>\n",
       "    <tr>\n",
       "      <th>850969</th>\n",
       "      <td>Female</td>\n",
       "      <td>1697</td>\n",
       "      <td>28.283333</td>\n",
       "    </tr>\n",
       "    <tr>\n",
       "      <th>850970</th>\n",
       "      <td>Female</td>\n",
       "      <td>2459</td>\n",
       "      <td>40.983333</td>\n",
       "    </tr>\n",
       "    <tr>\n",
       "      <th>850971</th>\n",
       "      <td>Female</td>\n",
       "      <td>66</td>\n",
       "      <td>1.100000</td>\n",
       "    </tr>\n",
       "    <tr>\n",
       "      <th>850972</th>\n",
       "      <td>Female</td>\n",
       "      <td>2646</td>\n",
       "      <td>44.100000</td>\n",
       "    </tr>\n",
       "  </tbody>\n",
       "</table>\n",
       "<p>850973 rows × 3 columns</p>\n",
       "</div>"
      ],
      "text/plain": [
       "       member_gender  duration_sec  duration_minutes\n",
       "0               Male           327          5.450000\n",
       "1               Male           291          4.850000\n",
       "2               Male           224          3.733333\n",
       "3               Male           467          7.783333\n",
       "4               Male           231          3.850000\n",
       "...              ...           ...               ...\n",
       "850968        Female          1256         20.933333\n",
       "850969        Female          1697         28.283333\n",
       "850970        Female          2459         40.983333\n",
       "850971        Female            66          1.100000\n",
       "850972        Female          2646         44.100000\n",
       "\n",
       "[850973 rows x 3 columns]"
      ]
     },
     "execution_count": 5,
     "metadata": {},
     "output_type": "execute_result"
    }
   ],
   "source": [
    "sf_times = query_job.to_dataframe()\n",
    "sf_times['duration_minutes'] = sf_times['duration_sec'].apply(lambda x: x / 60)\n",
    "sf_times"
   ]
  },
  {
   "cell_type": "code",
   "execution_count": 6,
   "id": "a6248dd1",
   "metadata": {},
   "outputs": [
    {
     "data": {
      "text/plain": [
       "(3.323700586184976, 3.7622115313919093)"
      ]
     },
     "execution_count": 6,
     "metadata": {},
     "output_type": "execute_result"
    }
   ],
   "source": [
    "sf_female_durations = sf_times[sf_times['member_gender'] == 'Female']['duration_minutes']\n",
    "sf_male_durations = sf_times[sf_times['member_gender'] == 'Male']['duration_minutes']\n",
    "\n",
    "diff_of_means = np.mean(sf_female_durations) - np.mean(sf_male_durations)\n",
    "s_e = np.sqrt((np.std(sf_female_durations)**2/len(sf_female_durations)) + (np.std(sf_male_durations)**2/len(sf_male_durations)))\n",
    "t_star = scipy.stats.t.ppf(q=1-.05/2,df=min(len(sf_female_durations), len(sf_male_durations)))\n",
    "CI = (diff_of_means - t_star*s_e, diff_of_means + t_star*s_e)\n",
    "CI"
   ]
  },
  {
   "cell_type": "markdown",
   "id": "a0440c6a",
   "metadata": {},
   "source": [
    "The results are significant. There is enough evidence to say that the average duration of female riders in san franscisco is more than the average duration of male riders in san franscisco."
   ]
  },
  {
   "cell_type": "markdown",
   "id": "a7cc6135",
   "metadata": {},
   "source": [
    "# Difference in mean duration of rides between male and female riders: NY"
   ]
  },
  {
   "cell_type": "code",
   "execution_count": 7,
   "id": "4f7fcff6",
   "metadata": {},
   "outputs": [],
   "source": [
    "client = bigquery.Client()\n",
    "\n",
    "query = \"\"\"\n",
    "    SELECT gender, tripduration FROM `bigquery-public-data.new_york_citibike.citibike_trips`\n",
    "    WHERE (gender = 'male' OR gender = 'female') AND starttime >= '2017-01-01 00:00:00'\n",
    "\"\"\"\n",
    "\n",
    "query_job = client.query(query) "
   ]
  },
  {
   "cell_type": "code",
   "execution_count": 8,
   "id": "4bd6f1c2",
   "metadata": {},
   "outputs": [
    {
     "data": {
      "text/html": [
       "<div>\n",
       "<style scoped>\n",
       "    .dataframe tbody tr th:only-of-type {\n",
       "        vertical-align: middle;\n",
       "    }\n",
       "\n",
       "    .dataframe tbody tr th {\n",
       "        vertical-align: top;\n",
       "    }\n",
       "\n",
       "    .dataframe thead th {\n",
       "        text-align: right;\n",
       "    }\n",
       "</style>\n",
       "<table border=\"1\" class=\"dataframe\">\n",
       "  <thead>\n",
       "    <tr style=\"text-align: right;\">\n",
       "      <th></th>\n",
       "      <th>gender</th>\n",
       "      <th>tripduration</th>\n",
       "      <th>duration_minutes</th>\n",
       "    </tr>\n",
       "  </thead>\n",
       "  <tbody>\n",
       "    <tr>\n",
       "      <th>0</th>\n",
       "      <td>male</td>\n",
       "      <td>393</td>\n",
       "      <td>6.550000</td>\n",
       "    </tr>\n",
       "    <tr>\n",
       "      <th>1</th>\n",
       "      <td>male</td>\n",
       "      <td>627</td>\n",
       "      <td>10.450000</td>\n",
       "    </tr>\n",
       "    <tr>\n",
       "      <th>2</th>\n",
       "      <td>male</td>\n",
       "      <td>1393</td>\n",
       "      <td>23.216667</td>\n",
       "    </tr>\n",
       "    <tr>\n",
       "      <th>3</th>\n",
       "      <td>male</td>\n",
       "      <td>329</td>\n",
       "      <td>5.483333</td>\n",
       "    </tr>\n",
       "    <tr>\n",
       "      <th>4</th>\n",
       "      <td>male</td>\n",
       "      <td>630</td>\n",
       "      <td>10.500000</td>\n",
       "    </tr>\n",
       "    <tr>\n",
       "      <th>...</th>\n",
       "      <td>...</td>\n",
       "      <td>...</td>\n",
       "      <td>...</td>\n",
       "    </tr>\n",
       "    <tr>\n",
       "      <th>17760096</th>\n",
       "      <td>female</td>\n",
       "      <td>3304</td>\n",
       "      <td>55.066667</td>\n",
       "    </tr>\n",
       "    <tr>\n",
       "      <th>17760097</th>\n",
       "      <td>female</td>\n",
       "      <td>291</td>\n",
       "      <td>4.850000</td>\n",
       "    </tr>\n",
       "    <tr>\n",
       "      <th>17760098</th>\n",
       "      <td>female</td>\n",
       "      <td>1575</td>\n",
       "      <td>26.250000</td>\n",
       "    </tr>\n",
       "    <tr>\n",
       "      <th>17760099</th>\n",
       "      <td>female</td>\n",
       "      <td>336</td>\n",
       "      <td>5.600000</td>\n",
       "    </tr>\n",
       "    <tr>\n",
       "      <th>17760100</th>\n",
       "      <td>female</td>\n",
       "      <td>347</td>\n",
       "      <td>5.783333</td>\n",
       "    </tr>\n",
       "  </tbody>\n",
       "</table>\n",
       "<p>17760101 rows × 3 columns</p>\n",
       "</div>"
      ],
      "text/plain": [
       "          gender  tripduration  duration_minutes\n",
       "0           male           393          6.550000\n",
       "1           male           627         10.450000\n",
       "2           male          1393         23.216667\n",
       "3           male           329          5.483333\n",
       "4           male           630         10.500000\n",
       "...          ...           ...               ...\n",
       "17760096  female          3304         55.066667\n",
       "17760097  female           291          4.850000\n",
       "17760098  female          1575         26.250000\n",
       "17760099  female           336          5.600000\n",
       "17760100  female           347          5.783333\n",
       "\n",
       "[17760101 rows x 3 columns]"
      ]
     },
     "execution_count": 8,
     "metadata": {},
     "output_type": "execute_result"
    }
   ],
   "source": [
    "ny_times = query_job.to_dataframe()\n",
    "ny_times['duration_minutes'] = ny_times['tripduration'].apply(lambda x: x / 60)\n",
    "ny_times"
   ]
  },
  {
   "cell_type": "code",
   "execution_count": 9,
   "id": "8ca7a87b",
   "metadata": {},
   "outputs": [
    {
     "data": {
      "text/plain": [
       "(2.341880859287621, 3.0669868558311992)"
      ]
     },
     "execution_count": 9,
     "metadata": {},
     "output_type": "execute_result"
    }
   ],
   "source": [
    "ny_female_durations = ny_times[ny_times['gender'] == 'female']['duration_minutes']\n",
    "ny_male_durations = ny_times[ny_times['gender'] == 'male']['duration_minutes']\n",
    "\n",
    "diff_of_means = np.mean(ny_female_durations) - np.mean(ny_male_durations)\n",
    "s_e = np.sqrt((np.std(ny_female_durations)**2/len(ny_female_durations)) + (np.std(ny_male_durations)**2/len(ny_male_durations)))\n",
    "t_star = scipy.stats.t.ppf(q=1-.05/2,df=min(len(ny_female_durations), len(ny_male_durations)))\n",
    "CI = (diff_of_means - t_star*s_e, diff_of_means + t_star*s_e)\n",
    "CI"
   ]
  },
  {
   "cell_type": "markdown",
   "id": "76b23de7",
   "metadata": {},
   "source": [
    "The results are significant. There is enough evidence to say that the average duration of female riders in NYC is more than the average duration of male riders in NYC."
   ]
  },
  {
   "cell_type": "markdown",
   "id": "125b5d37",
   "metadata": {},
   "source": [
    "# Difference in mean duration of rides of female riders between SF and NY"
   ]
  },
  {
   "cell_type": "code",
   "execution_count": 10,
   "id": "28d41d50",
   "metadata": {},
   "outputs": [
    {
     "data": {
      "text/plain": [
       "(-1.5882716236002303, -0.819142272112591)"
      ]
     },
     "execution_count": 10,
     "metadata": {},
     "output_type": "execute_result"
    }
   ],
   "source": [
    "diff_of_means = np.mean(sf_female_durations) - np.mean(ny_female_durations)\n",
    "s_e = np.sqrt((np.std(sf_female_durations)**2/len(sf_female_durations)) + (np.std(ny_female_durations)**2/len(ny_female_durations)))\n",
    "t_star = scipy.stats.t.ppf(q=1-.05/2,df=min(len(sf_female_durations), len(ny_female_durations)))\n",
    "CI = (diff_of_means - t_star*s_e, diff_of_means + t_star*s_e)\n",
    "CI"
   ]
  },
  {
   "cell_type": "markdown",
   "id": "c2199678",
   "metadata": {},
   "source": [
    "The results are significant. There is enough evidence to say that the average duration of female riders in SF is less than the average duration of female riders in NYC."
   ]
  },
  {
   "cell_type": "markdown",
   "id": "4fb3ffd8",
   "metadata": {},
   "source": [
    "# Difference in mean duration of rides of male riders between SF and NY"
   ]
  },
  {
   "cell_type": "code",
   "execution_count": 11,
   "id": "b88ba433",
   "metadata": {},
   "outputs": [
    {
     "data": {
      "text/plain": [
       "(-2.220074330926659, -1.864383967244228)"
      ]
     },
     "execution_count": 11,
     "metadata": {},
     "output_type": "execute_result"
    }
   ],
   "source": [
    "diff_of_means = np.mean(sf_male_durations) - np.mean(ny_male_durations)\n",
    "s_e = np.sqrt((np.std(sf_male_durations)**2/len(sf_male_durations)) + (np.std(ny_male_durations)**2/len(ny_male_durations)))\n",
    "t_star = scipy.stats.t.ppf(q=1-.05/2,df=min(len(sf_male_durations), len(ny_male_durations)))\n",
    "CI = (diff_of_means - t_star*s_e, diff_of_means + t_star*s_e)\n",
    "CI"
   ]
  },
  {
   "cell_type": "markdown",
   "id": "0cf57b1e",
   "metadata": {},
   "source": [
    "The results are significant. There is enough evidence to say that the average duration of male riders in SF is less than the average duration of male riders in NYC."
   ]
  },
  {
   "cell_type": "markdown",
   "id": "11f25898",
   "metadata": {},
   "source": [
    "# Difference in mean distance of rides between male and female riders: SF"
   ]
  },
  {
   "cell_type": "markdown",
   "id": "32e9fe04",
   "metadata": {},
   "source": [
    "Note that this is finding shortest distance between two points, we do not know the actual distance traveled by the bike."
   ]
  },
  {
   "cell_type": "code",
   "execution_count": 12,
   "id": "a5711ea2",
   "metadata": {},
   "outputs": [],
   "source": [
    "client = bigquery.Client()\n",
    "\n",
    "query = \"\"\"\n",
    "    SELECT member_gender, start_station_latitude, start_station_longitude, end_station_latitude, end_station_longitude\n",
    "    FROM `bigquery-public-data.san_francisco_bikeshare.bikeshare_trips`\n",
    "    WHERE (member_gender = 'Female' OR member_gender = 'Male') AND start_date >= '2017-01-01 00:00:00'\n",
    "\"\"\"\n",
    "\n",
    "query_job = client.query(query)"
   ]
  },
  {
   "cell_type": "code",
   "execution_count": 13,
   "id": "3f6b20ae",
   "metadata": {},
   "outputs": [
    {
     "data": {
      "text/html": [
       "<div>\n",
       "<style scoped>\n",
       "    .dataframe tbody tr th:only-of-type {\n",
       "        vertical-align: middle;\n",
       "    }\n",
       "\n",
       "    .dataframe tbody tr th {\n",
       "        vertical-align: top;\n",
       "    }\n",
       "\n",
       "    .dataframe thead th {\n",
       "        text-align: right;\n",
       "    }\n",
       "</style>\n",
       "<table border=\"1\" class=\"dataframe\">\n",
       "  <thead>\n",
       "    <tr style=\"text-align: right;\">\n",
       "      <th></th>\n",
       "      <th>member_gender</th>\n",
       "      <th>start_station_latitude</th>\n",
       "      <th>start_station_longitude</th>\n",
       "      <th>end_station_latitude</th>\n",
       "      <th>end_station_longitude</th>\n",
       "      <th>distances</th>\n",
       "    </tr>\n",
       "  </thead>\n",
       "  <tbody>\n",
       "    <tr>\n",
       "      <th>0</th>\n",
       "      <td>Male</td>\n",
       "      <td>37.763316</td>\n",
       "      <td>-122.421904</td>\n",
       "      <td>37.769305</td>\n",
       "      <td>-122.426826</td>\n",
       "      <td>0.493197</td>\n",
       "    </tr>\n",
       "    <tr>\n",
       "      <th>1</th>\n",
       "      <td>Male</td>\n",
       "      <td>37.844279</td>\n",
       "      <td>-122.251900</td>\n",
       "      <td>37.851376</td>\n",
       "      <td>-122.252523</td>\n",
       "      <td>0.490634</td>\n",
       "    </tr>\n",
       "    <tr>\n",
       "      <th>2</th>\n",
       "      <td>Male</td>\n",
       "      <td>37.755213</td>\n",
       "      <td>-122.420975</td>\n",
       "      <td>37.747858</td>\n",
       "      <td>-122.424986</td>\n",
       "      <td>0.552716</td>\n",
       "    </tr>\n",
       "    <tr>\n",
       "      <th>3</th>\n",
       "      <td>Male</td>\n",
       "      <td>37.342725</td>\n",
       "      <td>-121.895617</td>\n",
       "      <td>37.335885</td>\n",
       "      <td>-121.885660</td>\n",
       "      <td>0.723249</td>\n",
       "    </tr>\n",
       "    <tr>\n",
       "      <th>4</th>\n",
       "      <td>Male</td>\n",
       "      <td>37.841800</td>\n",
       "      <td>-122.251535</td>\n",
       "      <td>37.851376</td>\n",
       "      <td>-122.252523</td>\n",
       "      <td>0.662621</td>\n",
       "    </tr>\n",
       "    <tr>\n",
       "      <th>...</th>\n",
       "      <td>...</td>\n",
       "      <td>...</td>\n",
       "      <td>...</td>\n",
       "      <td>...</td>\n",
       "      <td>...</td>\n",
       "      <td>...</td>\n",
       "    </tr>\n",
       "    <tr>\n",
       "      <th>850968</th>\n",
       "      <td>Male</td>\n",
       "      <td>37.771058</td>\n",
       "      <td>-122.402717</td>\n",
       "      <td>37.786375</td>\n",
       "      <td>-122.404904</td>\n",
       "      <td>1.063157</td>\n",
       "    </tr>\n",
       "    <tr>\n",
       "      <th>850969</th>\n",
       "      <td>Female</td>\n",
       "      <td>37.771058</td>\n",
       "      <td>-122.402717</td>\n",
       "      <td>37.786375</td>\n",
       "      <td>-122.404904</td>\n",
       "      <td>1.063157</td>\n",
       "    </tr>\n",
       "    <tr>\n",
       "      <th>850970</th>\n",
       "      <td>Male</td>\n",
       "      <td>37.771058</td>\n",
       "      <td>-122.402717</td>\n",
       "      <td>37.786375</td>\n",
       "      <td>-122.404904</td>\n",
       "      <td>1.063157</td>\n",
       "    </tr>\n",
       "    <tr>\n",
       "      <th>850971</th>\n",
       "      <td>Male</td>\n",
       "      <td>37.771058</td>\n",
       "      <td>-122.402717</td>\n",
       "      <td>37.786375</td>\n",
       "      <td>-122.404904</td>\n",
       "      <td>1.063157</td>\n",
       "    </tr>\n",
       "    <tr>\n",
       "      <th>850972</th>\n",
       "      <td>Male</td>\n",
       "      <td>37.771058</td>\n",
       "      <td>-122.402717</td>\n",
       "      <td>37.786375</td>\n",
       "      <td>-122.404904</td>\n",
       "      <td>1.063157</td>\n",
       "    </tr>\n",
       "  </tbody>\n",
       "</table>\n",
       "<p>850973 rows × 6 columns</p>\n",
       "</div>"
      ],
      "text/plain": [
       "       member_gender  start_station_latitude  start_station_longitude  \\\n",
       "0               Male               37.763316              -122.421904   \n",
       "1               Male               37.844279              -122.251900   \n",
       "2               Male               37.755213              -122.420975   \n",
       "3               Male               37.342725              -121.895617   \n",
       "4               Male               37.841800              -122.251535   \n",
       "...              ...                     ...                      ...   \n",
       "850968          Male               37.771058              -122.402717   \n",
       "850969        Female               37.771058              -122.402717   \n",
       "850970          Male               37.771058              -122.402717   \n",
       "850971          Male               37.771058              -122.402717   \n",
       "850972          Male               37.771058              -122.402717   \n",
       "\n",
       "        end_station_latitude  end_station_longitude  distances  \n",
       "0                  37.769305            -122.426826   0.493197  \n",
       "1                  37.851376            -122.252523   0.490634  \n",
       "2                  37.747858            -122.424986   0.552716  \n",
       "3                  37.335885            -121.885660   0.723249  \n",
       "4                  37.851376            -122.252523   0.662621  \n",
       "...                      ...                    ...        ...  \n",
       "850968             37.786375            -122.404904   1.063157  \n",
       "850969             37.786375            -122.404904   1.063157  \n",
       "850970             37.786375            -122.404904   1.063157  \n",
       "850971             37.786375            -122.404904   1.063157  \n",
       "850972             37.786375            -122.404904   1.063157  \n",
       "\n",
       "[850973 rows x 6 columns]"
      ]
     },
     "execution_count": 13,
     "metadata": {},
     "output_type": "execute_result"
    }
   ],
   "source": [
    "sf_distances = query_job.to_dataframe()\n",
    "distances = []\n",
    "for start_lat, start_long, end_lat, end_long in zip(sf_distances['start_station_latitude'], \n",
    "                                                    sf_distances['start_station_longitude'],\n",
    "                                                    sf_distances['end_station_latitude'],\n",
    "                                                    sf_distances['end_station_longitude']):\n",
    "    start = (start_lat, start_long)\n",
    "    end = (end_lat, end_long)\n",
    "    distances.append(geodesic(start, end).mi)\n",
    "sf_distances['distances'] = distances\n",
    "sf_distances"
   ]
  },
  {
   "cell_type": "code",
   "execution_count": 14,
   "id": "2f33948e",
   "metadata": {},
   "outputs": [
    {
     "data": {
      "text/plain": [
       "(0.05625778200163203, 0.06263193845889634)"
      ]
     },
     "execution_count": 14,
     "metadata": {},
     "output_type": "execute_result"
    }
   ],
   "source": [
    "sf_female_distances = sf_distances[sf_distances['member_gender'] == 'Female']['distances']\n",
    "sf_male_distances = sf_distances[sf_distances['member_gender'] == 'Male']['distances']\n",
    "\n",
    "diff_of_means = np.mean(sf_female_distances) - np.mean(sf_male_distances)\n",
    "s_e = np.sqrt((np.std(sf_female_distances)**2/len(sf_female_distances)) + (np.std(sf_male_distances)**2/len(sf_male_distances)))\n",
    "t_star = scipy.stats.t.ppf(q=1-.05/2,df=min(len(sf_female_distances), len(sf_male_distances)))\n",
    "CI = (diff_of_means - t_star*s_e, diff_of_means + t_star*s_e)\n",
    "CI"
   ]
  },
  {
   "cell_type": "markdown",
   "id": "56c42c2c",
   "metadata": {},
   "source": [
    "The results are significant. There is enough evidence to say that the average distance of female riders in SF is more than the average distance of male riders in SF."
   ]
  },
  {
   "cell_type": "markdown",
   "id": "d687ae08",
   "metadata": {},
   "source": [
    "# Difference in mean distance of rides between male and female riders: NY"
   ]
  },
  {
   "cell_type": "code",
   "execution_count": 15,
   "id": "f32fa06c",
   "metadata": {},
   "outputs": [],
   "source": [
    "client = bigquery.Client()\n",
    "\n",
    "query = \"\"\"\n",
    "    SELECT gender, start_station_latitude, start_station_longitude, end_station_latitude, end_station_longitude\n",
    "    FROM `bigquery-public-data.new_york_citibike.citibike_trips`\n",
    "    WHERE (gender = 'male' OR gender = 'female') AND starttime >= '2017-01-01 00:00:00'\n",
    "\"\"\"\n",
    "\n",
    "query_job = client.query(query) "
   ]
  },
  {
   "cell_type": "code",
   "execution_count": 16,
   "id": "69acfeb5",
   "metadata": {},
   "outputs": [
    {
     "data": {
      "text/html": [
       "<div>\n",
       "<style scoped>\n",
       "    .dataframe tbody tr th:only-of-type {\n",
       "        vertical-align: middle;\n",
       "    }\n",
       "\n",
       "    .dataframe tbody tr th {\n",
       "        vertical-align: top;\n",
       "    }\n",
       "\n",
       "    .dataframe thead th {\n",
       "        text-align: right;\n",
       "    }\n",
       "</style>\n",
       "<table border=\"1\" class=\"dataframe\">\n",
       "  <thead>\n",
       "    <tr style=\"text-align: right;\">\n",
       "      <th></th>\n",
       "      <th>gender</th>\n",
       "      <th>start_station_latitude</th>\n",
       "      <th>start_station_longitude</th>\n",
       "      <th>end_station_latitude</th>\n",
       "      <th>end_station_longitude</th>\n",
       "      <th>distances</th>\n",
       "    </tr>\n",
       "  </thead>\n",
       "  <tbody>\n",
       "    <tr>\n",
       "      <th>0</th>\n",
       "      <td>male</td>\n",
       "      <td>40.765909</td>\n",
       "      <td>-73.976342</td>\n",
       "      <td>40.769155</td>\n",
       "      <td>-73.981918</td>\n",
       "      <td>0.368457</td>\n",
       "    </tr>\n",
       "    <tr>\n",
       "      <th>1</th>\n",
       "      <td>male</td>\n",
       "      <td>40.765909</td>\n",
       "      <td>-73.976342</td>\n",
       "      <td>40.765849</td>\n",
       "      <td>-73.986905</td>\n",
       "      <td>0.554219</td>\n",
       "    </tr>\n",
       "    <tr>\n",
       "      <th>2</th>\n",
       "      <td>male</td>\n",
       "      <td>40.765909</td>\n",
       "      <td>-73.976342</td>\n",
       "      <td>40.779668</td>\n",
       "      <td>-73.980930</td>\n",
       "      <td>0.979437</td>\n",
       "    </tr>\n",
       "    <tr>\n",
       "      <th>3</th>\n",
       "      <td>male</td>\n",
       "      <td>40.765909</td>\n",
       "      <td>-73.976342</td>\n",
       "      <td>40.775794</td>\n",
       "      <td>-73.976206</td>\n",
       "      <td>0.682090</td>\n",
       "    </tr>\n",
       "    <tr>\n",
       "      <th>4</th>\n",
       "      <td>male</td>\n",
       "      <td>40.765909</td>\n",
       "      <td>-73.976342</td>\n",
       "      <td>40.758997</td>\n",
       "      <td>-73.968654</td>\n",
       "      <td>0.624670</td>\n",
       "    </tr>\n",
       "    <tr>\n",
       "      <th>...</th>\n",
       "      <td>...</td>\n",
       "      <td>...</td>\n",
       "      <td>...</td>\n",
       "      <td>...</td>\n",
       "      <td>...</td>\n",
       "      <td>...</td>\n",
       "    </tr>\n",
       "    <tr>\n",
       "      <th>17760096</th>\n",
       "      <td>female</td>\n",
       "      <td>40.736502</td>\n",
       "      <td>-73.978095</td>\n",
       "      <td>40.741776</td>\n",
       "      <td>-74.001497</td>\n",
       "      <td>1.281065</td>\n",
       "    </tr>\n",
       "    <tr>\n",
       "      <th>17760097</th>\n",
       "      <td>female</td>\n",
       "      <td>40.724677</td>\n",
       "      <td>-73.987834</td>\n",
       "      <td>40.750977</td>\n",
       "      <td>-73.987654</td>\n",
       "      <td>1.814785</td>\n",
       "    </tr>\n",
       "    <tr>\n",
       "      <th>17760098</th>\n",
       "      <td>female</td>\n",
       "      <td>40.711512</td>\n",
       "      <td>-74.015756</td>\n",
       "      <td>40.708347</td>\n",
       "      <td>-74.017134</td>\n",
       "      <td>0.230075</td>\n",
       "    </tr>\n",
       "    <tr>\n",
       "      <th>17760099</th>\n",
       "      <td>female</td>\n",
       "      <td>40.663779</td>\n",
       "      <td>-73.983968</td>\n",
       "      <td>40.692418</td>\n",
       "      <td>-73.989495</td>\n",
       "      <td>1.997374</td>\n",
       "    </tr>\n",
       "    <tr>\n",
       "      <th>17760100</th>\n",
       "      <td>female</td>\n",
       "      <td>40.725256</td>\n",
       "      <td>-74.004121</td>\n",
       "      <td>40.746920</td>\n",
       "      <td>-74.004519</td>\n",
       "      <td>1.495010</td>\n",
       "    </tr>\n",
       "  </tbody>\n",
       "</table>\n",
       "<p>17760101 rows × 6 columns</p>\n",
       "</div>"
      ],
      "text/plain": [
       "          gender  start_station_latitude  start_station_longitude  \\\n",
       "0           male               40.765909               -73.976342   \n",
       "1           male               40.765909               -73.976342   \n",
       "2           male               40.765909               -73.976342   \n",
       "3           male               40.765909               -73.976342   \n",
       "4           male               40.765909               -73.976342   \n",
       "...          ...                     ...                      ...   \n",
       "17760096  female               40.736502               -73.978095   \n",
       "17760097  female               40.724677               -73.987834   \n",
       "17760098  female               40.711512               -74.015756   \n",
       "17760099  female               40.663779               -73.983968   \n",
       "17760100  female               40.725256               -74.004121   \n",
       "\n",
       "          end_station_latitude  end_station_longitude  distances  \n",
       "0                    40.769155             -73.981918   0.368457  \n",
       "1                    40.765849             -73.986905   0.554219  \n",
       "2                    40.779668             -73.980930   0.979437  \n",
       "3                    40.775794             -73.976206   0.682090  \n",
       "4                    40.758997             -73.968654   0.624670  \n",
       "...                        ...                    ...        ...  \n",
       "17760096             40.741776             -74.001497   1.281065  \n",
       "17760097             40.750977             -73.987654   1.814785  \n",
       "17760098             40.708347             -74.017134   0.230075  \n",
       "17760099             40.692418             -73.989495   1.997374  \n",
       "17760100             40.746920             -74.004519   1.495010  \n",
       "\n",
       "[17760101 rows x 6 columns]"
      ]
     },
     "execution_count": 16,
     "metadata": {},
     "output_type": "execute_result"
    }
   ],
   "source": [
    "ny_distances = query_job.to_dataframe()\n",
    "distances = []\n",
    "for start_lat, start_long, end_lat, end_long in zip(ny_distances['start_station_latitude'], \n",
    "                                                    ny_distances['start_station_longitude'],\n",
    "                                                    ny_distances['end_station_latitude'],\n",
    "                                                    ny_distances['end_station_longitude']):\n",
    "    start = (start_lat, start_long)\n",
    "    end = (end_lat, end_long)\n",
    "    distances.append(geodesic(start, end).mi)\n",
    "ny_distances['distances'] = distances\n",
    "ny_distances"
   ]
  },
  {
   "cell_type": "code",
   "execution_count": 17,
   "id": "d71bebbd",
   "metadata": {},
   "outputs": [
    {
     "data": {
      "text/plain": [
       "(0.04324355093191864, 0.060142900122590194)"
      ]
     },
     "execution_count": 17,
     "metadata": {},
     "output_type": "execute_result"
    }
   ],
   "source": [
    "ny_female_distances = ny_distances[ny_distances['gender'] == 'female']['distances']\n",
    "ny_male_distances = ny_distances[ny_distances['gender'] == 'male']['distances']\n",
    "\n",
    "diff_of_means = np.mean(ny_female_distances) - np.mean(ny_male_distances)\n",
    "s_e = np.sqrt((np.std(ny_female_distances)**2/len(ny_female_distances)) + (np.std(ny_male_distances)**2/len(ny_male_distances)))\n",
    "t_star = scipy.stats.t.ppf(q=1-.05/2,df=min(len(ny_female_distances), len(ny_male_distances)))\n",
    "CI = (diff_of_means - t_star*s_e, diff_of_means + t_star*s_e)\n",
    "CI"
   ]
  },
  {
   "cell_type": "markdown",
   "id": "127ef67b",
   "metadata": {},
   "source": [
    "The results are significant. There is enough evidence to say that the average distance of female riders in NY is more than the average distance of male riders in NY."
   ]
  },
  {
   "cell_type": "markdown",
   "id": "475e8a90",
   "metadata": {},
   "source": [
    "# Difference in mean distance of rides of female riders between SF and NY"
   ]
  },
  {
   "cell_type": "code",
   "execution_count": 18,
   "id": "d0e5503b",
   "metadata": {},
   "outputs": [
    {
     "data": {
      "text/plain": [
       "(-0.1414286670498046, -0.12616126672949113)"
      ]
     },
     "execution_count": 18,
     "metadata": {},
     "output_type": "execute_result"
    }
   ],
   "source": [
    "diff_of_means = np.mean(sf_female_distances) - np.mean(ny_female_distances)\n",
    "s_e = np.sqrt((np.std(sf_female_distances)**2/len(sf_female_distances)) + (np.std(ny_female_distances)**2/len(ny_female_distances)))\n",
    "t_star = scipy.stats.t.ppf(q=1-.05/2,df=min(len(sf_female_distances), len(ny_female_distances)))\n",
    "CI = (diff_of_means - t_star*s_e, diff_of_means + t_star*s_e)\n",
    "CI"
   ]
  },
  {
   "cell_type": "markdown",
   "id": "e1021716",
   "metadata": {},
   "source": [
    "The results are significant. There is enough evidence to say that the average distance of female riders in SF is less than the average distance of female riders in NY."
   ]
  },
  {
   "cell_type": "markdown",
   "id": "31a42332",
   "metadata": {},
   "source": [
    "# Difference in mean distance of rides of male riders between SF and NY"
   ]
  },
  {
   "cell_type": "code",
   "execution_count": 19,
   "id": "c2186c9c",
   "metadata": {},
   "outputs": [
    {
     "data": {
      "text/plain": [
       "(-0.14637171537566968, -0.1367214878096456)"
      ]
     },
     "execution_count": 19,
     "metadata": {},
     "output_type": "execute_result"
    }
   ],
   "source": [
    "diff_of_means = np.mean(sf_male_distances) - np.mean(ny_male_distances)\n",
    "s_e = np.sqrt((np.std(sf_male_distances)**2/len(sf_male_distances)) + (np.std(ny_male_distances)**2/len(ny_male_distances)))\n",
    "t_star = scipy.stats.t.ppf(q=1-.05/2,df=min(len(sf_male_distances), len(ny_male_distances)))\n",
    "CI = (diff_of_means - t_star*s_e, diff_of_means + t_star*s_e)\n",
    "CI"
   ]
  },
  {
   "cell_type": "markdown",
   "id": "0075d11e",
   "metadata": {},
   "source": [
    "The results are significant. There is enough evidence to say that the average distance of male riders in SF is less than the average distance of male riders in NY."
   ]
  },
  {
   "cell_type": "markdown",
   "id": "89a4bd33",
   "metadata": {},
   "source": [
    "# Difference in proportion of female riders between cities"
   ]
  },
  {
   "cell_type": "code",
   "execution_count": 20,
   "id": "1f09ff70",
   "metadata": {},
   "outputs": [],
   "source": [
    "client = bigquery.Client()\n",
    "\n",
    "query = \"\"\"\n",
    "    SELECT member_gender FROM `bigquery-public-data.san_francisco_bikeshare.bikeshare_trips`\n",
    "    WHERE (member_gender = 'Female' OR member_gender = 'Male') AND start_date >= '2017-01-01 00:00:00'\n",
    "\"\"\"\n",
    "\n",
    "query_job = client.query(query) "
   ]
  },
  {
   "cell_type": "code",
   "execution_count": 21,
   "id": "5594b29b",
   "metadata": {},
   "outputs": [
    {
     "data": {
      "text/plain": [
       "member_gender\n",
       "Male             651771\n",
       "Female           199202\n",
       "dtype: int64"
      ]
     },
     "execution_count": 21,
     "metadata": {},
     "output_type": "execute_result"
    }
   ],
   "source": [
    "sf_genders = query_job.to_dataframe()\n",
    "sf_genders.value_counts()"
   ]
  },
  {
   "cell_type": "code",
   "execution_count": 22,
   "id": "94dd4345",
   "metadata": {},
   "outputs": [],
   "source": [
    "client = bigquery.Client()\n",
    "\n",
    "query = \"\"\"\n",
    "    SELECT gender FROM `bigquery-public-data.new_york_citibike.citibike_trips`\n",
    "    WHERE (gender = 'male' OR gender = 'female') AND starttime >= '2017-01-01 00:00:00'\n",
    "\"\"\"\n",
    "\n",
    "query_job = client.query(query) "
   ]
  },
  {
   "cell_type": "code",
   "execution_count": 23,
   "id": "1a7e9cce",
   "metadata": {},
   "outputs": [
    {
     "data": {
      "text/plain": [
       "gender\n",
       "male      13262473\n",
       "female     4497628\n",
       "dtype: int64"
      ]
     },
     "execution_count": 23,
     "metadata": {},
     "output_type": "execute_result"
    }
   ],
   "source": [
    "ny_genders = query_job.to_dataframe()\n",
    "ny_genders.value_counts()"
   ]
  },
  {
   "cell_type": "code",
   "execution_count": 24,
   "id": "0c68c695",
   "metadata": {},
   "outputs": [
    {
     "data": {
      "text/html": [
       "<div>\n",
       "<style scoped>\n",
       "    .dataframe tbody tr th:only-of-type {\n",
       "        vertical-align: middle;\n",
       "    }\n",
       "\n",
       "    .dataframe tbody tr th {\n",
       "        vertical-align: top;\n",
       "    }\n",
       "\n",
       "    .dataframe thead th {\n",
       "        text-align: right;\n",
       "    }\n",
       "</style>\n",
       "<table border=\"1\" class=\"dataframe\">\n",
       "  <thead>\n",
       "    <tr style=\"text-align: right;\">\n",
       "      <th></th>\n",
       "      <th>SF</th>\n",
       "      <th>NY</th>\n",
       "    </tr>\n",
       "  </thead>\n",
       "  <tbody>\n",
       "    <tr>\n",
       "      <th>male</th>\n",
       "      <td>651771</td>\n",
       "      <td>13262473</td>\n",
       "    </tr>\n",
       "    <tr>\n",
       "      <th>female</th>\n",
       "      <td>199202</td>\n",
       "      <td>4497628</td>\n",
       "    </tr>\n",
       "  </tbody>\n",
       "</table>\n",
       "</div>"
      ],
      "text/plain": [
       "            SF        NY\n",
       "male    651771  13262473\n",
       "female  199202   4497628"
      ]
     },
     "execution_count": 24,
     "metadata": {},
     "output_type": "execute_result"
    }
   ],
   "source": [
    "data = pd.DataFrame(columns = ['SF', 'NY'])\n",
    "data['SF'] = list(sf_genders.value_counts())\n",
    "data['NY'] = list(ny_genders.value_counts())\n",
    "data.index = ['male', 'female']\n",
    "data"
   ]
  },
  {
   "cell_type": "code",
   "execution_count": 25,
   "id": "67abf1b4",
   "metadata": {},
   "outputs": [],
   "source": [
    "import numpy as np\n",
    "# population proportion differences (proportion of females in SF and NY)\n",
    "# just realized should be filtered by 2017 and after\n",
    "p_female_SF = data.loc['female', 'SF'] / data['SF'].sum()\n",
    "p_female_NY = data.loc['female', 'NY'] / data['NY'].sum()\n",
    "n_SF = data['SF'].sum()\n",
    "n_NY = data['NY'].sum()\n",
    "\n",
    "p_hat = p_female_SF - p_female_NY\n",
    "s_e = np.sqrt((p_female_SF * (1 - p_female_SF) / n_SF) + (p_female_NY * (1 - p_female_NY) / n_NY))\n",
    "CI = (p_hat - 1.96*s_e, p_hat + 1.96*s_e)"
   ]
  },
  {
   "cell_type": "code",
   "execution_count": 26,
   "id": "659daa13",
   "metadata": {},
   "outputs": [
    {
     "data": {
      "text/plain": [
       "(-0.020078157118831246, -0.01823393622132637)"
      ]
     },
     "execution_count": 26,
     "metadata": {},
     "output_type": "execute_result"
    }
   ],
   "source": [
    "CI"
   ]
  },
  {
   "cell_type": "markdown",
   "id": "340de8ad",
   "metadata": {},
   "source": [
    "The results are significant. There is enough evidence to say that the proportion of female riders in san franscisco is less than the proportion of female riders in New York."
   ]
  },
  {
   "cell_type": "markdown",
   "id": "7fdacda9",
   "metadata": {},
   "source": [
    "# Difference in proportion of generations between cities"
   ]
  },
  {
   "cell_type": "code",
   "execution_count": 27,
   "id": "bfd31b37",
   "metadata": {},
   "outputs": [],
   "source": [
    "# map year to generation\n",
    "def map_year_to_generation(year):\n",
    "    if 1928 <= year <= 1945:\n",
    "        generation = 'Silent'\n",
    "    elif 1946 <= year <= 1964:\n",
    "        generation = 'Baby Boomers'\n",
    "    elif 1965 <= year <= 1980:\n",
    "        generation = 'Generation X'\n",
    "    elif 1981 <= year <= 1996:\n",
    "        generation = 'Millennials'\n",
    "    elif 1997 <= year:\n",
    "        generation = 'Generation Z'\n",
    "    else:\n",
    "        generation = 'Before Silent'\n",
    "    return generation"
   ]
  },
  {
   "cell_type": "code",
   "execution_count": 28,
   "id": "b6e87578",
   "metadata": {},
   "outputs": [],
   "source": [
    "client = bigquery.Client()\n",
    "\n",
    "query = \"\"\"\n",
    "    SELECT member_birth_year FROM `bigquery-public-data.san_francisco_bikeshare.bikeshare_trips`\n",
    "    WHERE start_date >= '2017-01-01 00:00:00'\n",
    "\"\"\"\n",
    "\n",
    "query_job = client.query(query) "
   ]
  },
  {
   "cell_type": "code",
   "execution_count": 29,
   "id": "258219ca",
   "metadata": {},
   "outputs": [
    {
     "data": {
      "text/html": [
       "<div>\n",
       "<style scoped>\n",
       "    .dataframe tbody tr th:only-of-type {\n",
       "        vertical-align: middle;\n",
       "    }\n",
       "\n",
       "    .dataframe tbody tr th {\n",
       "        vertical-align: top;\n",
       "    }\n",
       "\n",
       "    .dataframe thead th {\n",
       "        text-align: right;\n",
       "    }\n",
       "</style>\n",
       "<table border=\"1\" class=\"dataframe\">\n",
       "  <thead>\n",
       "    <tr style=\"text-align: right;\">\n",
       "      <th></th>\n",
       "      <th>member_birth_year</th>\n",
       "      <th>generation</th>\n",
       "    </tr>\n",
       "  </thead>\n",
       "  <tbody>\n",
       "    <tr>\n",
       "      <th>0</th>\n",
       "      <td>1957.0</td>\n",
       "      <td>Baby Boomers</td>\n",
       "    </tr>\n",
       "    <tr>\n",
       "      <th>1</th>\n",
       "      <td>1998.0</td>\n",
       "      <td>Generation Z</td>\n",
       "    </tr>\n",
       "    <tr>\n",
       "      <th>2</th>\n",
       "      <td>1951.0</td>\n",
       "      <td>Baby Boomers</td>\n",
       "    </tr>\n",
       "    <tr>\n",
       "      <th>3</th>\n",
       "      <td>1998.0</td>\n",
       "      <td>Generation Z</td>\n",
       "    </tr>\n",
       "    <tr>\n",
       "      <th>4</th>\n",
       "      <td>1943.0</td>\n",
       "      <td>Silent</td>\n",
       "    </tr>\n",
       "    <tr>\n",
       "      <th>...</th>\n",
       "      <td>...</td>\n",
       "      <td>...</td>\n",
       "    </tr>\n",
       "    <tr>\n",
       "      <th>963766</th>\n",
       "      <td>1997.0</td>\n",
       "      <td>Generation Z</td>\n",
       "    </tr>\n",
       "    <tr>\n",
       "      <th>963767</th>\n",
       "      <td>1997.0</td>\n",
       "      <td>Generation Z</td>\n",
       "    </tr>\n",
       "    <tr>\n",
       "      <th>963768</th>\n",
       "      <td>1997.0</td>\n",
       "      <td>Generation Z</td>\n",
       "    </tr>\n",
       "    <tr>\n",
       "      <th>963769</th>\n",
       "      <td>1997.0</td>\n",
       "      <td>Generation Z</td>\n",
       "    </tr>\n",
       "    <tr>\n",
       "      <th>963770</th>\n",
       "      <td>1997.0</td>\n",
       "      <td>Generation Z</td>\n",
       "    </tr>\n",
       "  </tbody>\n",
       "</table>\n",
       "<p>963771 rows × 2 columns</p>\n",
       "</div>"
      ],
      "text/plain": [
       "        member_birth_year    generation\n",
       "0                  1957.0  Baby Boomers\n",
       "1                  1998.0  Generation Z\n",
       "2                  1951.0  Baby Boomers\n",
       "3                  1998.0  Generation Z\n",
       "4                  1943.0        Silent\n",
       "...                   ...           ...\n",
       "963766             1997.0  Generation Z\n",
       "963767             1997.0  Generation Z\n",
       "963768             1997.0  Generation Z\n",
       "963769             1997.0  Generation Z\n",
       "963770             1997.0  Generation Z\n",
       "\n",
       "[963771 rows x 2 columns]"
      ]
     },
     "execution_count": 29,
     "metadata": {},
     "output_type": "execute_result"
    }
   ],
   "source": [
    "sf_generations = query_job.to_dataframe()\n",
    "sf_generations['generation'] = sf_generations['member_birth_year'].apply(lambda x: map_year_to_generation(x))\n",
    "sf_generations"
   ]
  },
  {
   "cell_type": "code",
   "execution_count": 30,
   "id": "e7d4d9fa",
   "metadata": {},
   "outputs": [
    {
     "data": {
      "text/plain": [
       "Baby Boomers      68635\n",
       "Before Silent    101906\n",
       "Generation X     259685\n",
       "Generation Z      12827\n",
       "Millennials      518330\n",
       "Silent             2388\n",
       "Name: generation, dtype: int64"
      ]
     },
     "execution_count": 30,
     "metadata": {},
     "output_type": "execute_result"
    }
   ],
   "source": [
    "sf_generations['generation'].value_counts().sort_index()"
   ]
  },
  {
   "cell_type": "code",
   "execution_count": 31,
   "id": "66bda4a9",
   "metadata": {},
   "outputs": [],
   "source": [
    "client = bigquery.Client()\n",
    "\n",
    "query = \"\"\"\n",
    "    SELECT birth_year FROM `bigquery-public-data.new_york_citibike.citibike_trips`\n",
    "    WHERE starttime >= '2017-01-01 00:00:00'\n",
    "\"\"\"\n",
    "\n",
    "query_job = client.query(query) "
   ]
  },
  {
   "cell_type": "code",
   "execution_count": 32,
   "id": "a3de8460",
   "metadata": {},
   "outputs": [
    {
     "data": {
      "text/html": [
       "<div>\n",
       "<style scoped>\n",
       "    .dataframe tbody tr th:only-of-type {\n",
       "        vertical-align: middle;\n",
       "    }\n",
       "\n",
       "    .dataframe tbody tr th {\n",
       "        vertical-align: top;\n",
       "    }\n",
       "\n",
       "    .dataframe thead th {\n",
       "        text-align: right;\n",
       "    }\n",
       "</style>\n",
       "<table border=\"1\" class=\"dataframe\">\n",
       "  <thead>\n",
       "    <tr style=\"text-align: right;\">\n",
       "      <th></th>\n",
       "      <th>birth_year</th>\n",
       "      <th>generation</th>\n",
       "    </tr>\n",
       "  </thead>\n",
       "  <tbody>\n",
       "    <tr>\n",
       "      <th>0</th>\n",
       "      <td>1976.0</td>\n",
       "      <td>Generation X</td>\n",
       "    </tr>\n",
       "    <tr>\n",
       "      <th>1</th>\n",
       "      <td>1977.0</td>\n",
       "      <td>Generation X</td>\n",
       "    </tr>\n",
       "    <tr>\n",
       "      <th>2</th>\n",
       "      <td>1977.0</td>\n",
       "      <td>Generation X</td>\n",
       "    </tr>\n",
       "    <tr>\n",
       "      <th>3</th>\n",
       "      <td>1977.0</td>\n",
       "      <td>Generation X</td>\n",
       "    </tr>\n",
       "    <tr>\n",
       "      <th>4</th>\n",
       "      <td>1977.0</td>\n",
       "      <td>Generation X</td>\n",
       "    </tr>\n",
       "    <tr>\n",
       "      <th>...</th>\n",
       "      <td>...</td>\n",
       "      <td>...</td>\n",
       "    </tr>\n",
       "    <tr>\n",
       "      <th>19789697</th>\n",
       "      <td>1976.0</td>\n",
       "      <td>Generation X</td>\n",
       "    </tr>\n",
       "    <tr>\n",
       "      <th>19789698</th>\n",
       "      <td>1976.0</td>\n",
       "      <td>Generation X</td>\n",
       "    </tr>\n",
       "    <tr>\n",
       "      <th>19789699</th>\n",
       "      <td>1976.0</td>\n",
       "      <td>Generation X</td>\n",
       "    </tr>\n",
       "    <tr>\n",
       "      <th>19789700</th>\n",
       "      <td>1976.0</td>\n",
       "      <td>Generation X</td>\n",
       "    </tr>\n",
       "    <tr>\n",
       "      <th>19789701</th>\n",
       "      <td>1976.0</td>\n",
       "      <td>Generation X</td>\n",
       "    </tr>\n",
       "  </tbody>\n",
       "</table>\n",
       "<p>19789702 rows × 2 columns</p>\n",
       "</div>"
      ],
      "text/plain": [
       "          birth_year    generation\n",
       "0             1976.0  Generation X\n",
       "1             1977.0  Generation X\n",
       "2             1977.0  Generation X\n",
       "3             1977.0  Generation X\n",
       "4             1977.0  Generation X\n",
       "...              ...           ...\n",
       "19789697      1976.0  Generation X\n",
       "19789698      1976.0  Generation X\n",
       "19789699      1976.0  Generation X\n",
       "19789700      1976.0  Generation X\n",
       "19789701      1976.0  Generation X\n",
       "\n",
       "[19789702 rows x 2 columns]"
      ]
     },
     "execution_count": 32,
     "metadata": {},
     "output_type": "execute_result"
    }
   ],
   "source": [
    "ny_generations = query_job.to_dataframe()\n",
    "ny_generations['generation'] = ny_generations['birth_year'].apply(lambda x: map_year_to_generation(x))\n",
    "ny_generations"
   ]
  },
  {
   "cell_type": "code",
   "execution_count": 33,
   "id": "25637087",
   "metadata": {},
   "outputs": [
    {
     "data": {
      "text/plain": [
       "Baby Boomers     2423551\n",
       "Before Silent    1531801\n",
       "Generation X     6106357\n",
       "Generation Z      309690\n",
       "Millennials      9350028\n",
       "Silent             68275\n",
       "Name: generation, dtype: int64"
      ]
     },
     "execution_count": 33,
     "metadata": {},
     "output_type": "execute_result"
    }
   ],
   "source": [
    "ny_generations['generation'].value_counts().sort_index()"
   ]
  },
  {
   "cell_type": "code",
   "execution_count": 34,
   "id": "2efeebf3",
   "metadata": {},
   "outputs": [
    {
     "data": {
      "text/html": [
       "<div>\n",
       "<style scoped>\n",
       "    .dataframe tbody tr th:only-of-type {\n",
       "        vertical-align: middle;\n",
       "    }\n",
       "\n",
       "    .dataframe tbody tr th {\n",
       "        vertical-align: top;\n",
       "    }\n",
       "\n",
       "    .dataframe thead th {\n",
       "        text-align: right;\n",
       "    }\n",
       "</style>\n",
       "<table border=\"1\" class=\"dataframe\">\n",
       "  <thead>\n",
       "    <tr style=\"text-align: right;\">\n",
       "      <th></th>\n",
       "      <th>SF</th>\n",
       "      <th>NY</th>\n",
       "    </tr>\n",
       "  </thead>\n",
       "  <tbody>\n",
       "    <tr>\n",
       "      <th>Baby Boomers</th>\n",
       "      <td>68635</td>\n",
       "      <td>2423551</td>\n",
       "    </tr>\n",
       "    <tr>\n",
       "      <th>Generation X</th>\n",
       "      <td>259685</td>\n",
       "      <td>6106357</td>\n",
       "    </tr>\n",
       "    <tr>\n",
       "      <th>Generation Z</th>\n",
       "      <td>12827</td>\n",
       "      <td>309690</td>\n",
       "    </tr>\n",
       "    <tr>\n",
       "      <th>Millennials</th>\n",
       "      <td>518330</td>\n",
       "      <td>9350028</td>\n",
       "    </tr>\n",
       "    <tr>\n",
       "      <th>Silent</th>\n",
       "      <td>2388</td>\n",
       "      <td>68275</td>\n",
       "    </tr>\n",
       "  </tbody>\n",
       "</table>\n",
       "</div>"
      ],
      "text/plain": [
       "                  SF       NY\n",
       "Baby Boomers   68635  2423551\n",
       "Generation X  259685  6106357\n",
       "Generation Z   12827   309690\n",
       "Millennials   518330  9350028\n",
       "Silent          2388    68275"
      ]
     },
     "execution_count": 34,
     "metadata": {},
     "output_type": "execute_result"
    }
   ],
   "source": [
    "# get rid of birth years before the silent generation to get rid of unrealistic data\n",
    "data = pd.DataFrame(columns = ['SF', 'NY'])\n",
    "data['SF'] = list(sf_generations['generation'].value_counts().sort_index())\n",
    "data['NY'] = list(ny_generations['generation'].value_counts().sort_index())\n",
    "data.index = ['Baby Boomers', 'Before Silent', 'Generation X', 'Generation Z', 'Millennials', 'Silent']\n",
    "data = data.drop(index = ['Before Silent'])\n",
    "data"
   ]
  },
  {
   "cell_type": "code",
   "execution_count": 35,
   "id": "d04827b1",
   "metadata": {},
   "outputs": [
    {
     "data": {
      "text/html": [
       "<div>\n",
       "<style scoped>\n",
       "    .dataframe tbody tr th:only-of-type {\n",
       "        vertical-align: middle;\n",
       "    }\n",
       "\n",
       "    .dataframe tbody tr th {\n",
       "        vertical-align: top;\n",
       "    }\n",
       "\n",
       "    .dataframe thead th {\n",
       "        text-align: right;\n",
       "    }\n",
       "</style>\n",
       "<table border=\"1\" class=\"dataframe\">\n",
       "  <thead>\n",
       "    <tr style=\"text-align: right;\">\n",
       "      <th></th>\n",
       "      <th>SF</th>\n",
       "      <th>NY</th>\n",
       "    </tr>\n",
       "  </thead>\n",
       "  <tbody>\n",
       "    <tr>\n",
       "      <th>Baby Boomers</th>\n",
       "      <td>0.079635</td>\n",
       "      <td>0.132740</td>\n",
       "    </tr>\n",
       "    <tr>\n",
       "      <th>Generation X</th>\n",
       "      <td>0.301306</td>\n",
       "      <td>0.334450</td>\n",
       "    </tr>\n",
       "    <tr>\n",
       "      <th>Generation Z</th>\n",
       "      <td>0.014883</td>\n",
       "      <td>0.016962</td>\n",
       "    </tr>\n",
       "    <tr>\n",
       "      <th>Millennials</th>\n",
       "      <td>0.601405</td>\n",
       "      <td>0.512109</td>\n",
       "    </tr>\n",
       "    <tr>\n",
       "      <th>Silent</th>\n",
       "      <td>0.002771</td>\n",
       "      <td>0.003739</td>\n",
       "    </tr>\n",
       "  </tbody>\n",
       "</table>\n",
       "</div>"
      ],
      "text/plain": [
       "                    SF        NY\n",
       "Baby Boomers  0.079635  0.132740\n",
       "Generation X  0.301306  0.334450\n",
       "Generation Z  0.014883  0.016962\n",
       "Millennials   0.601405  0.512109\n",
       "Silent        0.002771  0.003739"
      ]
     },
     "execution_count": 35,
     "metadata": {},
     "output_type": "execute_result"
    }
   ],
   "source": [
    "data_proportions = data\n",
    "data_proportions['SF'] = data_proportions['SF']/data_proportions['SF'].sum()\n",
    "data_proportions['NY'] = data_proportions['NY']/data_proportions['NY'].sum()\n",
    "data_proportions"
   ]
  },
  {
   "cell_type": "markdown",
   "id": "5da5d188",
   "metadata": {},
   "source": [
    "# Boomers"
   ]
  },
  {
   "cell_type": "code",
   "execution_count": 36,
   "id": "a229328b",
   "metadata": {},
   "outputs": [],
   "source": [
    "p_boomers_SF = data.loc['Baby Boomers', 'SF'] / data['SF'].sum()\n",
    "p_boomers_NY = data.loc['Baby Boomers', 'NY'] / data['NY'].sum()\n",
    "n_SF = data['SF'].sum()\n",
    "n_NY = data['NY'].sum()\n",
    "\n",
    "p_hat = p_boomers_SF - p_boomers_NY\n",
    "s_e = np.sqrt((p_boomers_SF * (1 - p_boomers_SF) / n_SF) + (p_boomers_NY * (1 - p_boomers_NY) / n_NY))\n",
    "CI = (p_hat - 1.96*s_e, p_hat + 1.96*s_e)"
   ]
  },
  {
   "cell_type": "code",
   "execution_count": 37,
   "id": "368fec17",
   "metadata": {},
   "outputs": [
    {
     "data": {
      "text/plain": [
       "(-0.9038745030213239, 0.7976656909000309)"
      ]
     },
     "execution_count": 37,
     "metadata": {},
     "output_type": "execute_result"
    }
   ],
   "source": [
    "CI"
   ]
  },
  {
   "cell_type": "markdown",
   "id": "ed021381",
   "metadata": {},
   "source": [
    "# Gen X"
   ]
  },
  {
   "cell_type": "code",
   "execution_count": 38,
   "id": "05b72338",
   "metadata": {},
   "outputs": [],
   "source": [
    "p_X_SF = data.loc['Generation X', 'SF'] / data['SF'].sum()\n",
    "p_X_NY = data.loc['Generation X', 'NY'] / data['NY'].sum()\n",
    "n_SF = data['SF'].sum()\n",
    "n_NY = data['NY'].sum()\n",
    "\n",
    "p_hat = p_X_SF - p_X_NY\n",
    "s_e = np.sqrt((p_X_SF * (1 - p_X_SF) / n_SF) + (p_X_NY * (1 - p_X_NY) / n_NY))\n",
    "CI = (p_hat - 1.96*s_e, p_hat + 1.96*s_e)"
   ]
  },
  {
   "cell_type": "code",
   "execution_count": 39,
   "id": "0660dd50",
   "metadata": {},
   "outputs": [
    {
     "data": {
      "text/plain": [
       "(-1.323047433622754, 1.2567589913305182)"
      ]
     },
     "execution_count": 39,
     "metadata": {},
     "output_type": "execute_result"
    }
   ],
   "source": [
    "CI"
   ]
  },
  {
   "cell_type": "markdown",
   "id": "af150ad3",
   "metadata": {},
   "source": [
    "# Generation Z"
   ]
  },
  {
   "cell_type": "code",
   "execution_count": 40,
   "id": "593a7524",
   "metadata": {},
   "outputs": [],
   "source": [
    "p_Z_SF = data.loc['Generation Z', 'SF'] / data['SF'].sum()\n",
    "p_Z_NY = data.loc['Generation Z', 'NY'] / data['NY'].sum()\n",
    "n_SF = data['SF'].sum()\n",
    "n_NY = data['NY'].sum()\n",
    "\n",
    "p_hat = p_Z_SF - p_Z_NY\n",
    "s_e = np.sqrt((p_Z_SF * (1 - p_Z_SF) / n_SF) + (p_Z_NY * (1 - p_Z_NY) / n_NY))\n",
    "CI = (p_hat - 1.96*s_e, p_hat + 1.96*s_e)"
   ]
  },
  {
   "cell_type": "code",
   "execution_count": 41,
   "id": "a87073a1",
   "metadata": {},
   "outputs": [
    {
     "data": {
      "text/plain": [
       "(-0.34903570147060814, 0.34487744063804704)"
      ]
     },
     "execution_count": 41,
     "metadata": {},
     "output_type": "execute_result"
    }
   ],
   "source": [
    "CI"
   ]
  },
  {
   "cell_type": "markdown",
   "id": "c8d40bed",
   "metadata": {},
   "source": [
    "# Millennials"
   ]
  },
  {
   "cell_type": "code",
   "execution_count": 42,
   "id": "767b5aa0",
   "metadata": {},
   "outputs": [],
   "source": [
    "p_millennial_SF = data.loc['Millennials', 'SF'] / data['SF'].sum()\n",
    "p_millennial_NY = data.loc['Millennials', 'NY'] / data['NY'].sum()\n",
    "n_SF = data['SF'].sum()\n",
    "n_NY = data['NY'].sum()\n",
    "\n",
    "p_hat = p_millennial_SF - p_millennial_NY\n",
    "s_e = np.sqrt((p_millennial_SF * (1 - p_millennial_SF) / n_SF) + (p_millennial_NY * (1 - p_millennial_NY) / n_NY))\n",
    "CI = (p_hat - 1.96*s_e, p_hat + 1.96*s_e)"
   ]
  },
  {
   "cell_type": "code",
   "execution_count": 43,
   "id": "c207223b",
   "metadata": {},
   "outputs": [
    {
     "data": {
      "text/plain": [
       "(-1.2821019139578087, 1.4606949119978714)"
      ]
     },
     "execution_count": 43,
     "metadata": {},
     "output_type": "execute_result"
    }
   ],
   "source": [
    "CI"
   ]
  },
  {
   "cell_type": "markdown",
   "id": "aa853cbe",
   "metadata": {},
   "source": [
    "# Silent"
   ]
  },
  {
   "cell_type": "code",
   "execution_count": 44,
   "id": "c085bd2c",
   "metadata": {},
   "outputs": [],
   "source": [
    "p_silent_SF = data.loc['Silent', 'SF'] / data['SF'].sum()\n",
    "p_silent_NY = data.loc['Silent', 'NY'] / data['NY'].sum()\n",
    "n_SF = data['SF'].sum()\n",
    "n_NY = data['NY'].sum()\n",
    "\n",
    "p_hat = p_silent_SF - p_silent_NY\n",
    "s_e = np.sqrt((p_silent_SF * (1 - p_silent_SF) / n_SF) + (p_silent_NY * (1 - p_silent_NY) / n_NY))\n",
    "CI = (p_hat - 1.96*s_e, p_hat + 1.96*s_e)"
   ]
  },
  {
   "cell_type": "code",
   "execution_count": 45,
   "id": "4ea498d9",
   "metadata": {},
   "outputs": [
    {
     "data": {
      "text/plain": [
       "(-0.1588497749958343, 0.1569122922018617)"
      ]
     },
     "execution_count": 45,
     "metadata": {},
     "output_type": "execute_result"
    }
   ],
   "source": [
    "CI"
   ]
  }
 ],
 "metadata": {
  "kernelspec": {
   "display_name": "Python 3",
   "language": "python",
   "name": "python3"
  },
  "language_info": {
   "codemirror_mode": {
    "name": "ipython",
    "version": 3
   },
   "file_extension": ".py",
   "mimetype": "text/x-python",
   "name": "python",
   "nbconvert_exporter": "python",
   "pygments_lexer": "ipython3",
   "version": "3.8.8"
  }
 },
 "nbformat": 4,
 "nbformat_minor": 5
}
