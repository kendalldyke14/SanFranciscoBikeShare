{
 "cells": [
  {
   "cell_type": "markdown",
   "id": "7f46113b-85f3-4668-ac11-8bebdc32d874",
   "metadata": {},
   "source": [
    "# New York Bike Share Big Query Data and 2017 Survey\n",
    "\n",
    "Below are the packages that need to be installed to run this file completely. If there is a comment in the cell, it won't run.\n",
    "\n",
    "* google-cloud-bigquery: Pip install big query for pulling publically available data via python\n",
    "* pyarrow: Install a needed dependency for the .to_dataframe() function \n",
    "* geopy: Using for the NYBikeShare data. Needing to get the zipcodes from this database to match zipcodes with NYSurvey data for comparison.\n",
    "* haversine: using to calculate the distance between two points on earth"
   ]
  },
  {
   "cell_type": "code",
   "execution_count": null,
   "id": "c40ff448-30ac-408c-bc43-03b7cb389203",
   "metadata": {},
   "outputs": [],
   "source": [
    "pip install google-cloud-bigquery"
   ]
  },
  {
   "cell_type": "code",
   "execution_count": null,
   "id": "73101cba-0bd4-40a7-a5de-8982e5a53be2",
   "metadata": {},
   "outputs": [],
   "source": [
    "pip install pyarrow"
   ]
  },
  {
   "cell_type": "code",
   "execution_count": null,
   "id": "e54848f3-5d26-4f92-bc8f-08466247100e",
   "metadata": {},
   "outputs": [],
   "source": [
    "pip install geopy"
   ]
  },
  {
   "cell_type": "code",
   "execution_count": null,
   "id": "9de8714d-fd30-49cf-9eda-45fc7c903ce3",
   "metadata": {},
   "outputs": [],
   "source": [
    "pip install haversine"
   ]
  },
  {
   "cell_type": "code",
   "execution_count": null,
   "id": "ce443616",
   "metadata": {},
   "outputs": [],
   "source": [
    "pip install seaborn"
   ]
  },
  {
   "cell_type": "code",
   "execution_count": null,
   "id": "4e714bcf-a36c-43cd-b4d0-eea489f204c0",
   "metadata": {},
   "outputs": [],
   "source": [
    "pip install arcgis"
   ]
  },
  {
   "cell_type": "code",
   "execution_count": null,
   "id": "c8de640c",
   "metadata": {},
   "outputs": [],
   "source": [
    "pip install pandas"
   ]
  },
  {
   "cell_type": "code",
   "execution_count": 1,
   "id": "893a2c13-f236-484e-a7d0-0600d7444a49",
   "metadata": {},
   "outputs": [
    {
     "name": "stdout",
     "output_type": "stream",
     "text": [
      "Enabling notebook extension jupyter-js-widgets/extension...\n",
      "      - Validating: \u001b[32mOK\u001b[0m\n"
     ]
    }
   ],
   "source": [
    "!jupyter nbextension enable --py --sys-prefix widgetsnbextension"
   ]
  },
  {
   "cell_type": "code",
   "execution_count": 10,
   "id": "115593b9-91d4-4db8-905d-5c9e031b897f",
   "metadata": {},
   "outputs": [
    {
     "name": "stdout",
     "output_type": "stream",
     "text": [
      "Enabling notebook extension arcgis/extension...\n",
      "      - Validating: \u001b[32mOK\u001b[0m\n"
     ]
    }
   ],
   "source": [
    "!jupyter nbextension enable arcgis --py --sys-prefix"
   ]
  },
  {
   "cell_type": "code",
   "execution_count": 14,
   "id": "0479c912",
   "metadata": {},
   "outputs": [
    {
     "name": "stdout",
     "output_type": "stream",
     "text": [
      "Enabling notebook extension jupyter-js-widgets/extension...\n",
      "      - Validating: \u001b[32mOK\u001b[0m\n"
     ]
    }
   ],
   "source": [
    "!jupyter nbextension enable --py widgetsnbextension"
   ]
  },
  {
   "cell_type": "code",
   "execution_count": 3,
   "id": "94ccdc14-39fa-454f-8af6-fdef5a19ba65",
   "metadata": {},
   "outputs": [],
   "source": [
    "# only import bigquery from google cloud\n",
    "from google.cloud import bigquery\n",
    "# import folium\n",
    "import webbrowser\n",
    "import numpy as np\n",
    "import pandas as pd\n",
    "import seaborn as sns\n",
    "from matplotlib import pyplot as plt\n",
    "from geopy.geocoders import Nominatim\n",
    "from haversine import haversine\n",
    "\n",
    "plt.style.use('seaborn')"
   ]
  },
  {
   "cell_type": "code",
   "execution_count": 3,
   "id": "c3c662a4-845b-467b-842f-7dec0feb76dd",
   "metadata": {},
   "outputs": [],
   "source": [
    "# Changing the settings to override this file path in the environment\n",
    "import os\n",
    "\n",
    "# Needing to have the key file downloaded to access via the api. The query can be used\n",
    "# instead and utilized for this brief analysis.\n",
    "os.environ[\"GOOGLE_APPLICATION_CREDENTIALS\"]=\"/Users/tiareina/Downloads/compact-scene-317315-b4b3cd5c140c.json\"\n",
    "\n",
    "client = bigquery.Client() # Construct a BigQuery client object."
   ]
  },
  {
   "cell_type": "code",
   "execution_count": 4,
   "id": "c5c8ccba-5ae4-49a0-8287-937a1cb3010e",
   "metadata": {},
   "outputs": [],
   "source": [
    "def bigQuery(q: str):\n",
    "    query_job = client.query(q)  # Make an API request.\n",
    "    return query_job.to_dataframe().copy() # collect results as a dataframe\n",
    "\n",
    "def hs(row):\n",
    "    loc1 = (row['start_station_latitude'],row['start_station_longitude'])\n",
    "    loc2 = (row['end_station_latitude'], row['end_station_longitude'])\n",
    "    return haversine(loc1,loc2,unit='mi')"
   ]
  },
  {
   "cell_type": "markdown",
   "id": "b97a573d-5ddb-4107-8c35-26c1841d0753",
   "metadata": {},
   "source": [
    "### User Type Bike Trips"
   ]
  },
  {
   "cell_type": "code",
   "execution_count": null,
   "id": "9ed4341b-b841-49b4-b7a4-f2d55e3848fb",
   "metadata": {},
   "outputs": [],
   "source": [
    "riders = bigQuery(\n",
    "    \"\"\"\n",
    "    SELECT usertype, count(*) as RideCount\n",
    "    FROM `bigquery-public-data.new_york_citibike.citibike_trips`\n",
    "    WHERE starttime > date('2017-01-01') and \n",
    "    starttime < date('2018-01-01')\n",
    "    GROUP BY usertype\n",
    "    \"\"\"\n",
    ")\n",
    "\n",
    "riders.usertype = riders.usertype.dropna()\n",
    "riders.RideCount = riders.RideCount.astype(int)\n",
    "riders = riders.sort_values(by='RideCount',ascending=False)[riders['usertype'] != \"\"]\n",
    "\n",
    "riders.head()"
   ]
  },
  {
   "cell_type": "code",
   "execution_count": null,
   "id": "ca81e883-86ae-46ae-8558-6a6938d2780c",
   "metadata": {},
   "outputs": [],
   "source": [
    "riders.plot(x='usertype', y='RideCount', kind='bar')"
   ]
  },
  {
   "cell_type": "code",
   "execution_count": null,
   "id": "90b9f11c-2333-479e-ac30-809e69ab506b",
   "metadata": {},
   "outputs": [],
   "source": [
    "#Calculates the average ride time in minutes instead of seconds\n",
    "userAvgs = bigQuery(\n",
    "    \"\"\"\n",
    "        SELECT usertype, AVG(tripduration)/60 as Average_Ride_Time\n",
    "        FROM `bigquery-public-data.new_york_citibike.citibike_trips`\n",
    "        GROUP BY usertype\n",
    "    \"\"\"\n",
    ")\n",
    "\n",
    "userAvgs = userAvgs[userAvgs['usertype']!='']\n",
    "userAvgs.head()"
   ]
  },
  {
   "cell_type": "code",
   "execution_count": 6,
   "id": "3e8b1d8f-a902-462c-949b-72eab0f6b5c7",
   "metadata": {},
   "outputs": [
    {
     "data": {
      "text/html": [
       "<div>\n",
       "<style scoped>\n",
       "    .dataframe tbody tr th:only-of-type {\n",
       "        vertical-align: middle;\n",
       "    }\n",
       "\n",
       "    .dataframe tbody tr th {\n",
       "        vertical-align: top;\n",
       "    }\n",
       "\n",
       "    .dataframe thead th {\n",
       "        text-align: right;\n",
       "    }\n",
       "</style>\n",
       "<table border=\"1\" class=\"dataframe\">\n",
       "  <thead>\n",
       "    <tr style=\"text-align: right;\">\n",
       "      <th></th>\n",
       "      <th>usertype</th>\n",
       "      <th>start_station_latitude</th>\n",
       "      <th>start_station_longitude</th>\n",
       "      <th>end_station_latitude</th>\n",
       "      <th>end_station_longitude</th>\n",
       "      <th>Count_of_Trips</th>\n",
       "    </tr>\n",
       "  </thead>\n",
       "  <tbody>\n",
       "    <tr>\n",
       "      <th>0</th>\n",
       "      <td>Customer</td>\n",
       "      <td>40.765909</td>\n",
       "      <td>-73.976342</td>\n",
       "      <td>40.783070</td>\n",
       "      <td>-73.959390</td>\n",
       "      <td>6783</td>\n",
       "    </tr>\n",
       "    <tr>\n",
       "      <th>1</th>\n",
       "      <td>Customer</td>\n",
       "      <td>40.765909</td>\n",
       "      <td>-73.976342</td>\n",
       "      <td>40.765909</td>\n",
       "      <td>-73.976342</td>\n",
       "      <td>6662</td>\n",
       "    </tr>\n",
       "    <tr>\n",
       "      <th>2</th>\n",
       "      <td>Customer</td>\n",
       "      <td>40.764397</td>\n",
       "      <td>-73.973715</td>\n",
       "      <td>40.764397</td>\n",
       "      <td>-73.973715</td>\n",
       "      <td>5805</td>\n",
       "    </tr>\n",
       "    <tr>\n",
       "      <th>3</th>\n",
       "      <td>Subscriber</td>\n",
       "      <td>40.741740</td>\n",
       "      <td>-73.994156</td>\n",
       "      <td>40.745497</td>\n",
       "      <td>-74.001971</td>\n",
       "      <td>5666</td>\n",
       "    </tr>\n",
       "    <tr>\n",
       "      <th>4</th>\n",
       "      <td>Subscriber</td>\n",
       "      <td>40.751873</td>\n",
       "      <td>-73.977706</td>\n",
       "      <td>40.748549</td>\n",
       "      <td>-73.988084</td>\n",
       "      <td>5410</td>\n",
       "    </tr>\n",
       "  </tbody>\n",
       "</table>\n",
       "</div>"
      ],
      "text/plain": [
       "     usertype  start_station_latitude  start_station_longitude  \\\n",
       "0    Customer               40.765909               -73.976342   \n",
       "1    Customer               40.765909               -73.976342   \n",
       "2    Customer               40.764397               -73.973715   \n",
       "3  Subscriber               40.741740               -73.994156   \n",
       "4  Subscriber               40.751873               -73.977706   \n",
       "\n",
       "   end_station_latitude  end_station_longitude  Count_of_Trips  \n",
       "0             40.783070             -73.959390            6783  \n",
       "1             40.765909             -73.976342            6662  \n",
       "2             40.764397             -73.973715            5805  \n",
       "3             40.745497             -74.001971            5666  \n",
       "4             40.748549             -73.988084            5410  "
      ]
     },
     "execution_count": 6,
     "metadata": {},
     "output_type": "execute_result"
    }
   ],
   "source": [
    "# collect results as a dataframe\n",
    "mostFreqRides = bigQuery(\n",
    "    \"\"\"\n",
    "    SELECT usertype,\n",
    "    start_station_latitude,\n",
    "    start_station_longitude,\n",
    "    end_station_latitude,\n",
    "    end_station_longitude,\n",
    "    count(*) AS Count_of_Trips\n",
    "    FROM `bigquery-public-data.new_york_citibike.citibike_trips`\n",
    "    WHERE stoptime > DATE('2017-01-01')\n",
    "    GROUP BY usertype, start_station_latitude, start_station_longitude, end_station_latitude, end_station_longitude\n",
    "    ORDER BY Count_of_Trips desc;\n",
    "    \"\"\"\n",
    ")"
   ]
  },
  {
   "cell_type": "code",
   "execution_count": 7,
   "id": "562e0f16-3e75-4e09-9bac-82ff306b60d1",
   "metadata": {},
   "outputs": [
    {
     "data": {
      "text/html": [
       "<div>\n",
       "<style scoped>\n",
       "    .dataframe tbody tr th:only-of-type {\n",
       "        vertical-align: middle;\n",
       "    }\n",
       "\n",
       "    .dataframe tbody tr th {\n",
       "        vertical-align: top;\n",
       "    }\n",
       "\n",
       "    .dataframe thead th {\n",
       "        text-align: right;\n",
       "    }\n",
       "</style>\n",
       "<table border=\"1\" class=\"dataframe\">\n",
       "  <thead>\n",
       "    <tr style=\"text-align: right;\">\n",
       "      <th></th>\n",
       "      <th>usertype</th>\n",
       "      <th>start_station_latitude</th>\n",
       "      <th>start_station_longitude</th>\n",
       "      <th>end_station_latitude</th>\n",
       "      <th>end_station_longitude</th>\n",
       "      <th>Count_of_Trips</th>\n",
       "      <th>distance</th>\n",
       "    </tr>\n",
       "  </thead>\n",
       "  <tbody>\n",
       "    <tr>\n",
       "      <th>0</th>\n",
       "      <td>Customer</td>\n",
       "      <td>40.765909</td>\n",
       "      <td>-73.976342</td>\n",
       "      <td>40.783070</td>\n",
       "      <td>-73.959390</td>\n",
       "      <td>6783</td>\n",
       "      <td>1.480728</td>\n",
       "    </tr>\n",
       "    <tr>\n",
       "      <th>1</th>\n",
       "      <td>Customer</td>\n",
       "      <td>40.765909</td>\n",
       "      <td>-73.976342</td>\n",
       "      <td>40.765909</td>\n",
       "      <td>-73.976342</td>\n",
       "      <td>6662</td>\n",
       "      <td>0.000000</td>\n",
       "    </tr>\n",
       "    <tr>\n",
       "      <th>2</th>\n",
       "      <td>Customer</td>\n",
       "      <td>40.764397</td>\n",
       "      <td>-73.973715</td>\n",
       "      <td>40.764397</td>\n",
       "      <td>-73.973715</td>\n",
       "      <td>5805</td>\n",
       "      <td>0.000000</td>\n",
       "    </tr>\n",
       "    <tr>\n",
       "      <th>3</th>\n",
       "      <td>Subscriber</td>\n",
       "      <td>40.741740</td>\n",
       "      <td>-73.994156</td>\n",
       "      <td>40.745497</td>\n",
       "      <td>-74.001971</td>\n",
       "      <td>5666</td>\n",
       "      <td>0.484564</td>\n",
       "    </tr>\n",
       "    <tr>\n",
       "      <th>4</th>\n",
       "      <td>Subscriber</td>\n",
       "      <td>40.751873</td>\n",
       "      <td>-73.977706</td>\n",
       "      <td>40.748549</td>\n",
       "      <td>-73.988084</td>\n",
       "      <td>5410</td>\n",
       "      <td>0.589785</td>\n",
       "    </tr>\n",
       "    <tr>\n",
       "      <th>...</th>\n",
       "      <td>...</td>\n",
       "      <td>...</td>\n",
       "      <td>...</td>\n",
       "      <td>...</td>\n",
       "      <td>...</td>\n",
       "      <td>...</td>\n",
       "      <td>...</td>\n",
       "    </tr>\n",
       "    <tr>\n",
       "      <th>508013</th>\n",
       "      <td>Subscriber</td>\n",
       "      <td>40.705381</td>\n",
       "      <td>-73.949765</td>\n",
       "      <td>40.739445</td>\n",
       "      <td>-73.976806</td>\n",
       "      <td>1</td>\n",
       "      <td>2.746724</td>\n",
       "    </tr>\n",
       "    <tr>\n",
       "      <th>508014</th>\n",
       "      <td>Subscriber</td>\n",
       "      <td>40.767801</td>\n",
       "      <td>-73.965921</td>\n",
       "      <td>40.717227</td>\n",
       "      <td>-73.988021</td>\n",
       "      <td>1</td>\n",
       "      <td>3.680827</td>\n",
       "    </tr>\n",
       "    <tr>\n",
       "      <th>508015</th>\n",
       "      <td>Subscriber</td>\n",
       "      <td>40.763154</td>\n",
       "      <td>-73.920827</td>\n",
       "      <td>40.781721</td>\n",
       "      <td>-73.945940</td>\n",
       "      <td>1</td>\n",
       "      <td>1.836426</td>\n",
       "    </tr>\n",
       "    <tr>\n",
       "      <th>508016</th>\n",
       "      <td>Subscriber</td>\n",
       "      <td>40.690649</td>\n",
       "      <td>-73.956431</td>\n",
       "      <td>40.716021</td>\n",
       "      <td>-73.999744</td>\n",
       "      <td>1</td>\n",
       "      <td>2.867061</td>\n",
       "    </tr>\n",
       "    <tr>\n",
       "      <th>508017</th>\n",
       "      <td>Subscriber</td>\n",
       "      <td>40.720196</td>\n",
       "      <td>-73.989978</td>\n",
       "      <td>40.793393</td>\n",
       "      <td>-73.963556</td>\n",
       "      <td>1</td>\n",
       "      <td>5.243107</td>\n",
       "    </tr>\n",
       "  </tbody>\n",
       "</table>\n",
       "<p>508018 rows × 7 columns</p>\n",
       "</div>"
      ],
      "text/plain": [
       "          usertype  start_station_latitude  start_station_longitude  \\\n",
       "0         Customer               40.765909               -73.976342   \n",
       "1         Customer               40.765909               -73.976342   \n",
       "2         Customer               40.764397               -73.973715   \n",
       "3       Subscriber               40.741740               -73.994156   \n",
       "4       Subscriber               40.751873               -73.977706   \n",
       "...            ...                     ...                      ...   \n",
       "508013  Subscriber               40.705381               -73.949765   \n",
       "508014  Subscriber               40.767801               -73.965921   \n",
       "508015  Subscriber               40.763154               -73.920827   \n",
       "508016  Subscriber               40.690649               -73.956431   \n",
       "508017  Subscriber               40.720196               -73.989978   \n",
       "\n",
       "        end_station_latitude  end_station_longitude  Count_of_Trips  distance  \n",
       "0                  40.783070             -73.959390            6783  1.480728  \n",
       "1                  40.765909             -73.976342            6662  0.000000  \n",
       "2                  40.764397             -73.973715            5805  0.000000  \n",
       "3                  40.745497             -74.001971            5666  0.484564  \n",
       "4                  40.748549             -73.988084            5410  0.589785  \n",
       "...                      ...                    ...             ...       ...  \n",
       "508013             40.739445             -73.976806               1  2.746724  \n",
       "508014             40.717227             -73.988021               1  3.680827  \n",
       "508015             40.781721             -73.945940               1  1.836426  \n",
       "508016             40.716021             -73.999744               1  2.867061  \n",
       "508017             40.793393             -73.963556               1  5.243107  \n",
       "\n",
       "[508018 rows x 7 columns]"
      ]
     },
     "execution_count": 7,
     "metadata": {},
     "output_type": "execute_result"
    }
   ],
   "source": [
    "# Find the distance between the start station and the end station\n",
    "\n",
    "mostFreqRides['distance'] = mostFreqRides.apply(lambda row: hs(row), axis=1)\n",
    "mostFreqRides.head()"
   ]
  },
  {
   "cell_type": "code",
   "execution_count": null,
   "id": "49b3550a-e350-4fee-b089-372efa80058f",
   "metadata": {},
   "outputs": [],
   "source": [
    "monthlyRides = bigQuery(\n",
    "    \"\"\"\n",
    "    SELECT usertype,\n",
    "    EXTRACT(month from starttime) as month,\n",
    "    count(*) AS numOfTrips\n",
    "    FROM `bigquery-public-data.new_york_citibike.citibike_trips`\n",
    "    WHERE starttime > date('2017-01-01') and \n",
    "    starttime < date('2018-01-01')\n",
    "    GROUP BY usertype, month\n",
    "    ORDER BY usertype, month;\n",
    "    \"\"\"\n",
    ")\n",
    "\n",
    "monthlyRides.head()"
   ]
  },
  {
   "cell_type": "code",
   "execution_count": null,
   "id": "43ba8051-1938-43e9-9f28-56dc24504517",
   "metadata": {},
   "outputs": [],
   "source": [
    "sns.lineplot(x='month',y='numOfTrips', hue='usertype',data=monthlyRides).set_title('Monthly rides in NY by User Type')"
   ]
  },
  {
   "cell_type": "markdown",
   "id": "ea727dcf-a3a4-4b1e-ba36-2ddea414fe83",
   "metadata": {
    "jp-MarkdownHeadingCollapsed": true,
    "tags": []
   },
   "source": [
    "## arcGIS Maps\n",
    "\n",
    "Instructions on how to create the environment and get the api for python via conda step by step provided by esri: https://developers.arcgis.com/python/guide/understanding-conda/ (at the bottom of doc.) For faster navigation, search: \"Step by Step on macOS: A GIS Environment\""
   ]
  },
  {
   "cell_type": "code",
   "execution_count": null,
   "id": "e3116311-0371-4fc6-83f3-448d5b0ccf92",
   "metadata": {},
   "outputs": [],
   "source": [
    "stops = '''-3.203062,55.906437; -3.190080,55.935570'''\n",
    "\n",
    "\n",
    "\n",
    "my_map = my_gis.map('Braidburn Valley', zoomlevel=13)\n",
    "my_map"
   ]
  },
  {
   "cell_type": "code",
   "execution_count": 15,
   "id": "f7dda40a-68e8-4254-b2d0-9dc5441ba5e3",
   "metadata": {},
   "outputs": [
    {
     "data": {
      "application/vnd.jupyter.widget-view+json": {
       "model_id": "e3e4474435ba4c39adcc3f2bcf00087e",
       "version_major": 2,
       "version_minor": 0
      },
      "text/plain": [
       "MapView(layout=Layout(height='400px', width='100%'))"
      ]
     },
     "metadata": {},
     "output_type": "display_data"
    },
    {
     "data": {
      "text/html": [
       "<div class=\"map-static-img-preview-d0767534-7b4b-4914-b27a-208b2e95b325\"><img src=\"\"></img></div>"
      ],
      "text/plain": [
       "<IPython.core.display.HTML object>"
      ]
     },
     "metadata": {},
     "output_type": "display_data"
    },
    {
     "data": {
      "text/html": [
       "<div class=\"map-html-embed-preview-d0767534-7b4b-4914-b27a-208b2e95b325\"></div>"
      ],
      "text/plain": [
       "<IPython.core.display.HTML object>"
      ]
     },
     "metadata": {},
     "output_type": "display_data"
    }
   ],
   "source": [
    "# mostFreqRides\n",
    "from arcgis.gis import GIS\n",
    "my_gis = GIS()\n",
    "m = my_gis.map(\"New York City, NY\")\n",
    "m"
   ]
  },
  {
   "cell_type": "markdown",
   "id": "70cfec4d-e734-4e1b-9e2a-a7509de092da",
   "metadata": {},
   "source": [
    "### Age Bike Trips"
   ]
  },
  {
   "cell_type": "code",
   "execution_count": null,
   "id": "4d6a4604-c8b7-4015-b07f-54a258db4426",
   "metadata": {},
   "outputs": [],
   "source": [
    "AgeRiders = bigQuery(\n",
    "    \"\"\"\n",
    "    SELECT birth_year,\n",
    "    avg(tripduration)/60 AS AvgTripDuration,\n",
    "    count(*) AS trips\n",
    "    FROM `bigquery-public-data.new_york_citibike.citibike_trips`\n",
    "    WHERE starttime > date('2017-01-01') and \n",
    "    starttime < date('2018-01-01')\n",
    "    GROUP BY birth_year\n",
    "    ORDER BY trips DESC;\n",
    "    \"\"\"\n",
    ")"
   ]
  },
  {
   "cell_type": "code",
   "execution_count": null,
   "id": "a48b1c7a-889d-4c93-9997-2f10b2ebce60",
   "metadata": {},
   "outputs": [],
   "source": [
    "AgeRiders=AgeRiders.dropna(axis=0).astype(int)\n",
    "AgeRiders=AgeRiders[AgeRiders.birth_year >= 1946]\n",
    "AgeRiders['age'] = 2021 - AgeRiders['birth_year']"
   ]
  },
  {
   "cell_type": "code",
   "execution_count": null,
   "id": "c7099eca-d2ef-47fa-b51a-fd3859f16ec8",
   "metadata": {},
   "outputs": [],
   "source": [
    "AgeRiders.head()"
   ]
  },
  {
   "cell_type": "markdown",
   "id": "5013924d-8e74-481b-a123-0c6726356f2e",
   "metadata": {},
   "source": [
    "People in their 30s obviously have somewhere to go and want to stay active! Let's visualize this."
   ]
  },
  {
   "cell_type": "code",
   "execution_count": null,
   "id": "07e6f630-c6d3-4f64-a631-0f68138e2b61",
   "metadata": {},
   "outputs": [],
   "source": [
    "AgeRiders.plot(x='age',y='trips',s='AvgTripDuration',kind='scatter')\n",
    "plt.title('Total Trips in 2017 by Age in NY')"
   ]
  },
  {
   "cell_type": "markdown",
   "id": "cb2abc69-37f7-46fe-8244-d43257f21669",
   "metadata": {},
   "source": [
    "### Time Bike Trips"
   ]
  },
  {
   "cell_type": "code",
   "execution_count": null,
   "id": "1b865dfe-5e95-4742-9e3e-b1d278e52d4d",
   "metadata": {},
   "outputs": [],
   "source": [
    "bikeHour = bigQuery(\n",
    "    \"\"\"\n",
    "    SELECT\n",
    "    EXTRACT(hour from starttime) as starthour,\n",
    "    count(*) AS numOfTrips\n",
    "    FROM `bigquery-public-data.new_york_citibike.citibike_trips`\n",
    "    WHERE starttime > date('2017-01-01') and starttime < date('2018-01-01')\n",
    "    GROUP BY starthour\n",
    "    ORDER BY starthour\n",
    "    \"\"\"\n",
    ")"
   ]
  },
  {
   "cell_type": "code",
   "execution_count": null,
   "id": "3d99bcf3-e814-4b0c-a2bc-782f4f382c0c",
   "metadata": {},
   "outputs": [],
   "source": [
    "bikeHour.head()"
   ]
  },
  {
   "cell_type": "code",
   "execution_count": null,
   "id": "9a8a0950-a95e-4a54-9391-5813c088acd3",
   "metadata": {},
   "outputs": [],
   "source": [
    "bikeHour.plot(x='starthour',y='numOfTrips',kind='bar').set_title('Number of Trips in 2017 by Hour')"
   ]
  },
  {
   "cell_type": "markdown",
   "id": "cd81fb01-46c5-4e7e-8193-fa08217df531",
   "metadata": {},
   "source": [
    "## Survey Manipulation"
   ]
  },
  {
   "cell_type": "code",
   "execution_count": 22,
   "id": "7856f966-df1a-4c64-9b91-e2d12e15aa5a",
   "metadata": {},
   "outputs": [
    {
     "name": "stderr",
     "output_type": "stream",
     "text": [
      "/Library/Frameworks/Python.framework/Versions/3.9/lib/python3.9/site-packages/IPython/core/interactiveshell.py:3169: DtypeWarning: Columns (15) have mixed types.Specify dtype option on import or set low_memory=False.\n",
      "  has_raised = await self.run_ast_nodes(code_ast.body, cell_name,\n"
     ]
    }
   ],
   "source": [
    "NYSurvey = pd.read_csv('Citywide_Mobility_Survey_-_Main_Survey_2017.csv')"
   ]
  },
  {
   "cell_type": "code",
   "execution_count": null,
   "id": "bbd1174b-baa8-4cc3-ae05-ddd20a6b62c2",
   "metadata": {},
   "outputs": [],
   "source": [
    "#list(NYSurvey.columns)"
   ]
  },
  {
   "cell_type": "code",
   "execution_count": null,
   "id": "3c224fa0-9357-40ab-b803-14d4e8745cd8",
   "metadata": {},
   "outputs": [],
   "source": [
    "#[i for i in NYSurvey.columns if 'BIKE' in i or \"bike\" in i]"
   ]
  },
  {
   "cell_type": "code",
   "execution_count": 23,
   "id": "016d9d7b-8698-4b56-a4d7-65d77cbde585",
   "metadata": {},
   "outputs": [],
   "source": [
    "relCols = [\n",
    " 'UniqueID',\n",
    " 'StartTime_EST',\n",
    " 'FinishTime_EST',\n",
    " 'qgender',\n",
    " 'qzipcmb',\n",
    " 'qbikeown',\n",
    "#  'qbikemany',\n",
    "#  'qBIKETYPE1',\n",
    "#  'qBIKETYPE2',\n",
    "#  'qBIKETYPE3',\n",
    "#  'qBIKETYPE4',\n",
    "#  'qBIKETYPE5',\n",
    "#  'qBIKETYPE_other3',\n",
    "#  'qBIKESTORE1',\n",
    "#  'qBIKESTORE2',\n",
    "#  'qBIKESTORE3',\n",
    "#  'qBIKESTORE4',\n",
    "#  'qBIKESTORE5',\n",
    "#  'qBIKESTORE6',\n",
    "#  'qBIKESTORE7',\n",
    "#  'qBIKESTORE8',\n",
    "#  'qBIKESTORE9',\n",
    "#  'qBIKESTORE_other7',\n",
    " 'qbikeride',\n",
    " 'qbiketo',\n",
    " 'qbikedays',\n",
    " 'qcitibike',\n",
    " 'qcitibikefreq',\n",
    " 'qNOCITIBIKE1',\n",
    " 'qNOCITIBIKE2',\n",
    " 'qNOCITIBIKE3',\n",
    " 'qNOCITIBIKE4',\n",
    " 'qNOCITIBIKE5',\n",
    " 'qNOCITIBIKE6',\n",
    " 'qNOCITIBIKE7',\n",
    " 'qNOCITIBIKE8',\n",
    " 'qNOCITIBIKE9',\n",
    " 'qNOCITIBIKE_other7'\n",
    "]"
   ]
  },
  {
   "cell_type": "code",
   "execution_count": 28,
   "id": "3d279b26-63b0-4754-8860-34a5d5241207",
   "metadata": {},
   "outputs": [],
   "source": [
    "nyBikeDF = NYSurvey[relCols]\n",
    "citiBikeUsers = nyBikeDF[nyBikeDF['qcitibike'] == 1.0]\n",
    "nonCitiBikeUsers = nyBikeDF[nyBikeDF['qcitibike'] != 1.0]"
   ]
  },
  {
   "cell_type": "code",
   "execution_count": 29,
   "id": "a98f1da4-8ecd-42c1-907e-25d597842183",
   "metadata": {},
   "outputs": [
    {
     "data": {
      "text/plain": [
       "qbikeown\n",
       "1.0    1308\n",
       "2.0    2028\n",
       "3.0       7\n",
       "Name: qcitibike, dtype: int64"
      ]
     },
     "execution_count": 29,
     "metadata": {},
     "output_type": "execute_result"
    }
   ],
   "source": [
    "citiBikeUsers.groupby('qbikeown')['qcitibike'].coun t()\n",
    "nonCitiBikeUsers.groupby('qbikeown')['qcitibike'].count()"
   ]
  },
  {
   "cell_type": "code",
   "execution_count": 7,
   "id": "35e6cdbb-a21d-4d07-b867-237a00261cb0",
   "metadata": {},
   "outputs": [],
   "source": [
    "surveyBikeAvgs = nyBikeDF.groupby('qzipcmb')[['qbikeown','qbikeride']].agg(np.average)\n",
    "#surveyBikeAvgs = surveyBikeAvgs[surveyBikeAvgs['']]"
   ]
  },
  {
   "cell_type": "code",
   "execution_count": 12,
   "id": "f04262b9-1d63-4489-bb93-2c26d6635c54",
   "metadata": {},
   "outputs": [
    {
     "data": {
      "text/plain": [
       "<AxesSubplot:xlabel='qzipcmb', ylabel='qbikeown'>"
      ]
     },
     "execution_count": 12,
     "metadata": {},
     "output_type": "execute_result"
    },
    {
     "data": {
      "image/png": "[encoded data removed]",
      "text/plain": [
       "<Figure size 576x396 with 1 Axes>"
      ]
     },
     "metadata": {},
     "output_type": "display_data"
    }
   ],
   "source": [
    "sns.barplot(y='qbikeown', x=surveyBikeAvgs.index, data=surveyBikeAvgs)"
   ]
  },
  {
   "cell_type": "code",
   "execution_count": null,
   "id": "31fd4442-0e39-4e25-aeb6-03e3a832de47",
   "metadata": {},
   "outputs": [],
   "source": [
    "def spaceReplacer(data):\n",
    "    if data == \" \":\n",
    "        return np. NaN\n",
    "    else:\n",
    "        return data"
   ]
  },
  {
   "cell_type": "code",
   "execution_count": null,
   "id": "c36fa44d-57b6-4a2d-8c8a-13acfe9747b5",
   "metadata": {},
   "outputs": [],
   "source": [
    "nyBikeDF['qcitibikefreq'] = nyBikeDF['qcitibikefreq'].apply(spaceReplacer).astype(float)"
   ]
  },
  {
   "cell_type": "code",
   "execution_count": null,
   "id": "c08c9dab-84de-4d00-a305-30a8505390a4",
   "metadata": {},
   "outputs": [],
   "source": [
    "nyBikeDF[nyBikeDF['qcitibike']==1.0]"
   ]
  },
  {
   "cell_type": "markdown",
   "id": "2d38bfe0-32e9-4c29-9cb0-82906965cb59",
   "metadata": {},
   "source": [
    "## Connecting NY Lat, Long to the zips"
   ]
  },
  {
   "cell_type": "code",
   "execution_count": null,
   "id": "30ddc669-3b71-4fea-89ff-09d6cdecbe33",
   "metadata": {},
   "outputs": [],
   "source": [
    "nytrips = bigQuery(\n",
    "    \"\"\"\n",
    "    SELECT  *\n",
    "    FROM `bigquery-public-data.new_york_citibike.citibike_trips` \n",
    "    WHERE starttime > date('2017-01-01T00:00:00')\n",
    "    LIMIT 10\n",
    "    \"\"\"\n",
    ")"
   ]
  },
  {
   "cell_type": "code",
   "execution_count": null,
   "id": "70f58f77-3268-4327-beb0-eadc677cc851",
   "metadata": {},
   "outputs": [],
   "source": [
    "nytrips[['start_station_latitude','start_station_longitude']]"
   ]
  },
  {
   "cell_type": "code",
   "execution_count": null,
   "id": "dbe3a2ad-3436-4e61-900f-79e248948482",
   "metadata": {},
   "outputs": [],
   "source": [
    "from geopy.geocoders import Nominatim\n",
    "geolocator = Nominatim(user_agent=\"NYBikeShare Mapping\")\n",
    "\n",
    "NYZipCodes = []\n",
    "\n",
    "for i in nytrips[['start_station_latitude','start_station_longitude']].values:\n",
    "    location = geolocator.reverse(i)\n",
    "    NYZipCodes.append([i, location.address.split(',')[-2]])"
   ]
  },
  {
   "cell_type": "code",
   "execution_count": null,
   "id": "972dcbd5-d777-4aa0-8527-73ee43d3aadf",
   "metadata": {},
   "outputs": [],
   "source": [
    "# Some entries won't have a zip code the way they are entered into the database. I don't know how we'd want to handle that if we want to use this method\n",
    "# Which would be extract the long, lat from BQ, and \n",
    "pd.DataFrame(NYZipCodes,nytrips).reset_index().drop('index',axis=1)"
   ]
  },
  {
   "cell_type": "markdown",
   "id": "c66eb0dd-4442-4a66-ad47-634f0ae1b5d7",
   "metadata": {},
   "source": [
    "## Comparison"
   ]
  },
  {
   "cell_type": "code",
   "execution_count": null,
   "id": "7825db89-15d4-416a-ad28-dbfcaf1ad142",
   "metadata": {},
   "outputs": [],
   "source": []
  }
 ],
 "metadata": {
  "kernelspec": {
   "display_name": "Python 3",
   "language": "python",
   "name": "python3"
  },
  "language_info": {
   "codemirror_mode": {
    "name": "ipython",
    "version": 3
   },
   "file_extension": ".py",
   "mimetype": "text/x-python",
   "name": "python",
   "nbconvert_exporter": "python",
   "pygments_lexer": "ipython3",
   "version": "3.9.2"
  }
 },
 "nbformat": 4,
 "nbformat_minor": 5
}
