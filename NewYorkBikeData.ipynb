{
 "cells": [
  {
   "cell_type": "code",
   "execution_count": null,
   "id": "c40ff448-30ac-408c-bc43-03b7cb389203",
   "metadata": {},
   "outputs": [],
   "source": [
    "# Pip install big query for pulling publically available data via python\n",
    "pip install google-cloud-bigquery"
   ]
  },
  {
   "cell_type": "code",
   "execution_count": null,
   "id": "73101cba-0bd4-40a7-a5de-8982e5a53be2",
   "metadata": {},
   "outputs": [],
   "source": [
    "# Install a needed dependency for the .to_dataframe() function \n",
    "pip install pyarrow"
   ]
  },
  {
   "cell_type": "code",
   "execution_count": 2,
   "id": "94ccdc14-39fa-454f-8af6-fdef5a19ba65",
   "metadata": {},
   "outputs": [],
   "source": [
    "# only import bigquery from google cloud\n",
    "from google.cloud import bigquery"
   ]
  },
  {
   "cell_type": "code",
   "execution_count": 3,
   "id": "c3c662a4-845b-467b-842f-7dec0feb76dd",
   "metadata": {},
   "outputs": [],
   "source": [
    "# Changing the settings to override this file path in the environment\n",
    "import os\n",
    "\n",
    "# Needing to have the key file downloaded to access via the api. The query can be used\n",
    "# instead and utilized for this brief analysis.\n",
    "os.environ[\"GOOGLE_APPLICATION_CREDENTIALS\"]=\"/Users/tiareina/Downloads/compact-scene-317315-b4b3cd5c140c.json\""
   ]
  },
  {
   "cell_type": "code",
   "execution_count": 20,
   "id": "9ed4341b-b841-49b4-b7a4-f2d55e3848fb",
   "metadata": {},
   "outputs": [],
   "source": [
    "# Construct a BigQuery client object.\n",
    "client = bigquery.Client()\n",
    "\n",
    "query = \"\"\"\n",
    "    SELECT usertype, count(*) as RideCount\n",
    "    FROM `bigquery-public-data.new_york_citibike.citibike_trips`\n",
    "    GROUP BY usertype\n",
    "\"\"\"\n",
    "query_job = client.query(query)  # Make an API request."
   ]
  },
  {
   "cell_type": "code",
   "execution_count": 26,
   "id": "98033ffe-2e04-4a79-834f-ddd81e13dbb9",
   "metadata": {},
   "outputs": [
    {
     "data": {
      "text/html": [
       "<div>\n",
       "<style scoped>\n",
       "    .dataframe tbody tr th:only-of-type {\n",
       "        vertical-align: middle;\n",
       "    }\n",
       "\n",
       "    .dataframe tbody tr th {\n",
       "        vertical-align: top;\n",
       "    }\n",
       "\n",
       "    .dataframe thead th {\n",
       "        text-align: right;\n",
       "    }\n",
       "</style>\n",
       "<table border=\"1\" class=\"dataframe\">\n",
       "  <thead>\n",
       "    <tr style=\"text-align: right;\">\n",
       "      <th></th>\n",
       "      <th>usertype</th>\n",
       "      <th>RideCount</th>\n",
       "    </tr>\n",
       "  </thead>\n",
       "  <tbody>\n",
       "    <tr>\n",
       "      <th>0</th>\n",
       "      <td>None</td>\n",
       "      <td>5828994</td>\n",
       "    </tr>\n",
       "    <tr>\n",
       "      <th>1</th>\n",
       "      <td>Customer</td>\n",
       "      <td>6191149</td>\n",
       "    </tr>\n",
       "    <tr>\n",
       "      <th>2</th>\n",
       "      <td>Subscriber</td>\n",
       "      <td>46917572</td>\n",
       "    </tr>\n",
       "  </tbody>\n",
       "</table>\n",
       "</div>"
      ],
      "text/plain": [
       "     usertype  RideCount\n",
       "0        None    5828994\n",
       "1    Customer    6191149\n",
       "2  Subscriber   46917572"
      ]
     },
     "execution_count": 26,
     "metadata": {},
     "output_type": "execute_result"
    }
   ],
   "source": [
    "# collect results as a dataframe\n",
    "df = query_job.to_dataframe()\n",
    "df.usertype = df.usertype.apply(lambda x: x.replace('','None') if x == '' else x)\n",
    "df.RideCount = df.RideCount.astype(int)\n",
    "df.sort_values(by='RideCount').head()"
   ]
  },
  {
   "cell_type": "code",
   "execution_count": 28,
   "id": "bbf647e4-1d5b-4ab2-9a42-d74de6f36af5",
   "metadata": {},
   "outputs": [
    {
     "data": {
      "text/html": [
       "<div>\n",
       "<style scoped>\n",
       "    .dataframe tbody tr th:only-of-type {\n",
       "        vertical-align: middle;\n",
       "    }\n",
       "\n",
       "    .dataframe tbody tr th {\n",
       "        vertical-align: top;\n",
       "    }\n",
       "\n",
       "    .dataframe thead th {\n",
       "        text-align: right;\n",
       "    }\n",
       "</style>\n",
       "<table border=\"1\" class=\"dataframe\">\n",
       "  <thead>\n",
       "    <tr style=\"text-align: right;\">\n",
       "      <th></th>\n",
       "      <th>usertype</th>\n",
       "      <th>Average_Ride_Time</th>\n",
       "    </tr>\n",
       "  </thead>\n",
       "  <tbody>\n",
       "    <tr>\n",
       "      <th>0</th>\n",
       "      <td>Subscriber</td>\n",
       "      <td>806.381888</td>\n",
       "    </tr>\n",
       "    <tr>\n",
       "      <th>1</th>\n",
       "      <td>Customer</td>\n",
       "      <td>2145.512075</td>\n",
       "    </tr>\n",
       "    <tr>\n",
       "      <th>2</th>\n",
       "      <td></td>\n",
       "      <td>NaN</td>\n",
       "    </tr>\n",
       "  </tbody>\n",
       "</table>\n",
       "</div>"
      ],
      "text/plain": [
       "     usertype  Average_Ride_Time\n",
       "0  Subscriber         806.381888\n",
       "1    Customer        2145.512075\n",
       "2                            NaN"
      ]
     },
     "execution_count": 28,
     "metadata": {},
     "output_type": "execute_result"
    }
   ],
   "source": [
    "# Construct a BigQuery client object.\n",
    "client = bigquery.Client()\n",
    "\n",
    "query2 = \"\"\"\n",
    "    SELECT usertype,AVG(tripduration) as Average_Ride_Time\n",
    "    FROM `bigquery-public-data.new_york_citibike.citibike_trips`\n",
    "    GROUP BY usertype\n",
    "\"\"\"\n",
    "query_job2 = client.query(query2)  # Make an API request."
   ]
  },
  {
   "cell_type": "code",
   "execution_count": 30,
   "id": "90b9f11c-2333-479e-ac30-809e69ab506b",
   "metadata": {},
   "outputs": [],
   "source": [
    "# collect results as a dataframe\n",
    "df2 = query_job2.to_dataframe()\n",
    "df2 = df2[df2['usertype']!='']\n",
    "\n",
    "#Calculates the average ride time in minutes instead of seconds\n",
    "df2['Avg_RT_Min'] = df2['Average_Ride_Time'] / 60"
   ]
  },
  {
   "cell_type": "code",
   "execution_count": 31,
   "id": "6f4ad42f-aa69-4fbe-a557-a8105a2ac148",
   "metadata": {},
   "outputs": [
    {
     "data": {
      "text/html": [
       "<div>\n",
       "<style scoped>\n",
       "    .dataframe tbody tr th:only-of-type {\n",
       "        vertical-align: middle;\n",
       "    }\n",
       "\n",
       "    .dataframe tbody tr th {\n",
       "        vertical-align: top;\n",
       "    }\n",
       "\n",
       "    .dataframe thead th {\n",
       "        text-align: right;\n",
       "    }\n",
       "</style>\n",
       "<table border=\"1\" class=\"dataframe\">\n",
       "  <thead>\n",
       "    <tr style=\"text-align: right;\">\n",
       "      <th></th>\n",
       "      <th>usertype</th>\n",
       "      <th>Average_Ride_Time</th>\n",
       "      <th>Avg_RT_Min</th>\n",
       "    </tr>\n",
       "  </thead>\n",
       "  <tbody>\n",
       "    <tr>\n",
       "      <th>0</th>\n",
       "      <td>Subscriber</td>\n",
       "      <td>806.381888</td>\n",
       "      <td>13.439698</td>\n",
       "    </tr>\n",
       "    <tr>\n",
       "      <th>1</th>\n",
       "      <td>Customer</td>\n",
       "      <td>2145.512075</td>\n",
       "      <td>35.758535</td>\n",
       "    </tr>\n",
       "  </tbody>\n",
       "</table>\n",
       "</div>"
      ],
      "text/plain": [
       "     usertype  Average_Ride_Time  Avg_RT_Min\n",
       "0  Subscriber         806.381888   13.439698\n",
       "1    Customer        2145.512075   35.758535"
      ]
     },
     "execution_count": 31,
     "metadata": {},
     "output_type": "execute_result"
    }
   ],
   "source": [
    "df2"
   ]
  },
  {
   "cell_type": "code",
   "execution_count": 32,
   "id": "6e6ff3ce-20e0-4c01-9ede-6ab1370346e9",
   "metadata": {},
   "outputs": [],
   "source": [
    "# Construct a BigQuery client object.\n",
    "client = bigquery.Client()\n",
    "\n",
    "query3 = \"\"\"\n",
    "    SELECT usertype,\n",
    "    start_station_id,\n",
    "    end_station_id,\n",
    "    count(*) AS Count_of_Trips\n",
    "    FROM `bigquery-public-data.new_york_citibike.citibike_trips`\n",
    "    WHERE stoptime > DATE('2017-01-01')\n",
    "    GROUP BY usertype, start_station_id, end_station_id\n",
    "    ORDER BY Count_of_Trips desc;\n",
    "\"\"\"\n",
    "query_job3 = client.query(query3)  # Make an API request."
   ]
  },
  {
   "cell_type": "code",
   "execution_count": 33,
   "id": "3e8b1d8f-a902-462c-949b-72eab0f6b5c7",
   "metadata": {},
   "outputs": [],
   "source": [
    "# collect results as a dataframe\n",
    "df3 = query_job3.to_dataframe()"
   ]
  },
  {
   "cell_type": "code",
   "execution_count": 34,
   "id": "752835dc-eb0c-4837-839d-78ed59762285",
   "metadata": {},
   "outputs": [
    {
     "data": {
      "text/html": [
       "<div>\n",
       "<style scoped>\n",
       "    .dataframe tbody tr th:only-of-type {\n",
       "        vertical-align: middle;\n",
       "    }\n",
       "\n",
       "    .dataframe tbody tr th {\n",
       "        vertical-align: top;\n",
       "    }\n",
       "\n",
       "    .dataframe thead th {\n",
       "        text-align: right;\n",
       "    }\n",
       "</style>\n",
       "<table border=\"1\" class=\"dataframe\">\n",
       "  <thead>\n",
       "    <tr style=\"text-align: right;\">\n",
       "      <th></th>\n",
       "      <th>usertype</th>\n",
       "      <th>start_station_id</th>\n",
       "      <th>end_station_id</th>\n",
       "      <th>Count_of_Trips</th>\n",
       "    </tr>\n",
       "  </thead>\n",
       "  <tbody>\n",
       "    <tr>\n",
       "      <th>0</th>\n",
       "      <td>Subscriber</td>\n",
       "      <td>432</td>\n",
       "      <td>3263</td>\n",
       "      <td>9614</td>\n",
       "    </tr>\n",
       "    <tr>\n",
       "      <th>1</th>\n",
       "      <td>Customer</td>\n",
       "      <td>2006</td>\n",
       "      <td>3282</td>\n",
       "      <td>6783</td>\n",
       "    </tr>\n",
       "    <tr>\n",
       "      <th>2</th>\n",
       "      <td>Customer</td>\n",
       "      <td>2006</td>\n",
       "      <td>2006</td>\n",
       "      <td>6662</td>\n",
       "    </tr>\n",
       "    <tr>\n",
       "      <th>3</th>\n",
       "      <td>Customer</td>\n",
       "      <td>281</td>\n",
       "      <td>281</td>\n",
       "      <td>5805</td>\n",
       "    </tr>\n",
       "    <tr>\n",
       "      <th>4</th>\n",
       "      <td>Subscriber</td>\n",
       "      <td>435</td>\n",
       "      <td>509</td>\n",
       "      <td>5666</td>\n",
       "    </tr>\n",
       "    <tr>\n",
       "      <th>...</th>\n",
       "      <td>...</td>\n",
       "      <td>...</td>\n",
       "      <td>...</td>\n",
       "      <td>...</td>\n",
       "    </tr>\n",
       "    <tr>\n",
       "      <th>504631</th>\n",
       "      <td>Subscriber</td>\n",
       "      <td>426</td>\n",
       "      <td>3052</td>\n",
       "      <td>1</td>\n",
       "    </tr>\n",
       "    <tr>\n",
       "      <th>504632</th>\n",
       "      <td>Subscriber</td>\n",
       "      <td>3538</td>\n",
       "      <td>402</td>\n",
       "      <td>1</td>\n",
       "    </tr>\n",
       "    <tr>\n",
       "      <th>504633</th>\n",
       "      <td>Subscriber</td>\n",
       "      <td>486</td>\n",
       "      <td>353</td>\n",
       "      <td>1</td>\n",
       "    </tr>\n",
       "    <tr>\n",
       "      <th>504634</th>\n",
       "      <td>Customer</td>\n",
       "      <td>3490</td>\n",
       "      <td>3170</td>\n",
       "      <td>1</td>\n",
       "    </tr>\n",
       "    <tr>\n",
       "      <th>504635</th>\n",
       "      <td>Customer</td>\n",
       "      <td>3177</td>\n",
       "      <td>330</td>\n",
       "      <td>1</td>\n",
       "    </tr>\n",
       "  </tbody>\n",
       "</table>\n",
       "<p>504636 rows × 4 columns</p>\n",
       "</div>"
      ],
      "text/plain": [
       "          usertype  start_station_id  end_station_id  Count_of_Trips\n",
       "0       Subscriber               432            3263            9614\n",
       "1         Customer              2006            3282            6783\n",
       "2         Customer              2006            2006            6662\n",
       "3         Customer               281             281            5805\n",
       "4       Subscriber               435             509            5666\n",
       "...            ...               ...             ...             ...\n",
       "504631  Subscriber               426            3052               1\n",
       "504632  Subscriber              3538             402               1\n",
       "504633  Subscriber               486             353               1\n",
       "504634    Customer              3490            3170               1\n",
       "504635    Customer              3177             330               1\n",
       "\n",
       "[504636 rows x 4 columns]"
      ]
     },
     "execution_count": 34,
     "metadata": {},
     "output_type": "execute_result"
    }
   ],
   "source": [
    "df3"
   ]
  },
  {
   "cell_type": "code",
   "execution_count": null,
   "id": "1e15b71c-7f37-479e-b5e1-e5461d8c8d83",
   "metadata": {},
   "outputs": [],
   "source": []
  }
 ],
 "metadata": {
  "kernelspec": {
   "display_name": "Python 3",
   "language": "python",
   "name": "python3"
  },
  "language_info": {
   "codemirror_mode": {
    "name": "ipython",
    "version": 3
   },
   "file_extension": ".py",
   "mimetype": "text/x-python",
   "name": "python",
   "nbconvert_exporter": "python",
   "pygments_lexer": "ipython3",
   "version": "3.8.5"
  }
 },
 "nbformat": 4,
 "nbformat_minor": 5
}
