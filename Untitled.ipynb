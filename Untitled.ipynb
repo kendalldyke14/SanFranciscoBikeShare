{
 "cells": [
  {
   "cell_type": "code",
   "execution_count": 3,
   "id": "b800ee68-0ffa-4061-9ffd-9d2bec03be0d",
   "metadata": {},
   "outputs": [
    {
     "name": "stdout",
     "output_type": "stream",
     "text": [
      "Collecting openpyxl\n",
      "  Using cached openpyxl-3.0.7-py2.py3-none-any.whl (243 kB)\n",
      "Collecting et-xmlfile\n",
      "  Using cached et_xmlfile-1.1.0-py3-none-any.whl (4.7 kB)\n",
      "Installing collected packages: et-xmlfile, openpyxl\n",
      "Successfully installed et-xmlfile-1.1.0 openpyxl-3.0.7\n",
      "Note: you may need to restart the kernel to use updated packages.\n"
     ]
    }
   ],
   "source": [
    "pip install openpyxl"
   ]
  },
  {
   "cell_type": "code",
   "execution_count": 1,
   "id": "b5a8afb3-acae-46bc-840b-11c055006a32",
   "metadata": {},
   "outputs": [],
   "source": [
    "# This is being used to access a downloaded csv. \n",
    "# Import the required libraries.\n",
    "\n",
    "import pandas as pd\n",
    "import numpy as np\n",
    "\n",
    "def colManip(colVals):\n",
    "    return []"
   ]
  },
  {
   "cell_type": "code",
   "execution_count": 50,
   "id": "3768f669-a342-40e8-a820-dc0fa7d1f463",
   "metadata": {},
   "outputs": [],
   "source": [
    "DataDictionary = pd.read_excel('~/SanFranciscoBikeShare/TDS_2017_Data-WEBPAGE (1).xlsx', sheet_name='Data Dictionary',\n",
    "              engine='openpyxl', usecols=range(4))\n",
    "\n",
    "Survey2017 = pd.read_excel('~/SanFranciscoBikeShare/TDS_2017_Data-WEBPAGE (1).xlsx', sheet_name='Data Dictionary',\n",
    "              engine='openpyxl', usecols=range(4))"
   ]
  },
  {
   "cell_type": "code",
   "execution_count": 52,
   "id": "395c45f4-b7cb-49f4-85fb-b5a5ca39c035",
   "metadata": {},
   "outputs": [],
   "source": [
    "# Use pd.concat to pick the dataframes that meet our criteria and join them together.\n",
    "DataDictionary = pd.concat([DataDictionary[DataDictionary['Description'].str.contains('Bay Area') == True],\n",
    "         DataDictionary[DataDictionary['Field'].str.contains('BIKE') == True],\n",
    "          DataDictionary[DataDictionary['Description'].str.contains('Zip code') == True],\n",
    "                           DataDictionary[DataDictionary['Description'].str.contains('Code') == True]])"
   ]
  },
  {
   "cell_type": "code",
   "execution_count": 54,
   "id": "de5ae2e6-3c09-451f-8853-850d02016c11",
   "metadata": {},
   "outputs": [
    {
     "data": {
      "text/html": [
       "<div>\n",
       "<style scoped>\n",
       "    .dataframe tbody tr th:only-of-type {\n",
       "        vertical-align: middle;\n",
       "    }\n",
       "\n",
       "    .dataframe tbody tr th {\n",
       "        vertical-align: top;\n",
       "    }\n",
       "\n",
       "    .dataframe thead th {\n",
       "        text-align: right;\n",
       "    }\n",
       "</style>\n",
       "<table border=\"1\" class=\"dataframe\">\n",
       "  <thead>\n",
       "    <tr style=\"text-align: right;\">\n",
       "      <th></th>\n",
       "      <th>Field</th>\n",
       "      <th>Field Type</th>\n",
       "      <th>Description</th>\n",
       "      <th>Codes</th>\n",
       "    </tr>\n",
       "  </thead>\n",
       "  <tbody>\n",
       "    <tr>\n",
       "      <th>1</th>\n",
       "      <td>Q2</td>\n",
       "      <td>Integer</td>\n",
       "      <td>In which Bay Area county do you live?</td>\n",
       "      <td>1=Alameda\\n2=Contra Costa\\n3=Marin\\n4=Napa\\n5=...</td>\n",
       "    </tr>\n",
       "    <tr>\n",
       "      <th>3</th>\n",
       "      <td>Trips</td>\n",
       "      <td>Integer</td>\n",
       "      <td>Total trips taken- SF residents: Sum of Q4Tot+...</td>\n",
       "      <td>NaN</td>\n",
       "    </tr>\n",
       "    <tr>\n",
       "      <th>54</th>\n",
       "      <td>BIKE</td>\n",
       "      <td>Integer</td>\n",
       "      <td>Total of all Bicycle (9) entries for Q4aM to Q5hM</td>\n",
       "      <td>NaN</td>\n",
       "    </tr>\n",
       "    <tr>\n",
       "      <th>126</th>\n",
       "      <td>BIKE1</td>\n",
       "      <td>Integer</td>\n",
       "      <td>Total of all Bicycle (9) entries for Day 1 (Q7...</td>\n",
       "      <td>NaN</td>\n",
       "    </tr>\n",
       "    <tr>\n",
       "      <th>138</th>\n",
       "      <td>BIKE2</td>\n",
       "      <td>Integer</td>\n",
       "      <td>Total of all Bicycle (9) entries for Day 2 (Q1...</td>\n",
       "      <td>NaN</td>\n",
       "    </tr>\n",
       "    <tr>\n",
       "      <th>180</th>\n",
       "      <td>Zone</td>\n",
       "      <td>Integer</td>\n",
       "      <td>(San Francisco Residents) San Francisco Zone (...</td>\n",
       "      <td>1=One\\n2=Two\\n3=Three\\n4=Four\\n5=Five\\n9=Refused</td>\n",
       "    </tr>\n",
       "    <tr>\n",
       "      <th>165</th>\n",
       "      <td>Q25A-SF</td>\n",
       "      <td>Integer</td>\n",
       "      <td>(San Francisco Residents) What is your home ZI...</td>\n",
       "      <td>1=94102 \\n2=94103 \\n3=94104 \\n4=94105 \\n5=9410...</td>\n",
       "    </tr>\n",
       "  </tbody>\n",
       "</table>\n",
       "</div>"
      ],
      "text/plain": [
       "       Field Field Type                                        Description  \\\n",
       "1         Q2    Integer              In which Bay Area county do you live?   \n",
       "3      Trips    Integer  Total trips taken- SF residents: Sum of Q4Tot+...   \n",
       "54      BIKE    Integer  Total of all Bicycle (9) entries for Q4aM to Q5hM   \n",
       "126    BIKE1    Integer  Total of all Bicycle (9) entries for Day 1 (Q7...   \n",
       "138    BIKE2    Integer  Total of all Bicycle (9) entries for Day 2 (Q1...   \n",
       "180     Zone    Integer  (San Francisco Residents) San Francisco Zone (...   \n",
       "165  Q25A-SF    Integer  (San Francisco Residents) What is your home ZI...   \n",
       "\n",
       "                                                 Codes  \n",
       "1    1=Alameda\\n2=Contra Costa\\n3=Marin\\n4=Napa\\n5=...  \n",
       "3                                                  NaN  \n",
       "54                                                 NaN  \n",
       "126                                                NaN  \n",
       "138                                                NaN  \n",
       "180   1=One\\n2=Two\\n3=Three\\n4=Four\\n5=Five\\n9=Refused  \n",
       "165  1=94102 \\n2=94103 \\n3=94104 \\n4=94105 \\n5=9410...  "
      ]
     },
     "execution_count": 54,
     "metadata": {},
     "output_type": "execute_result"
    }
   ],
   "source": [
    "DataDictionary"
   ]
  },
  {
   "cell_type": "code",
   "execution_count": 37,
   "id": "4e4c7529-a5fe-4556-964c-62919c9cf4d5",
   "metadata": {},
   "outputs": [],
   "source": [
    "#DataDictionary[DataDictionary['Codes'].str.contains('Bicycle') == True]"
   ]
  },
  {
   "cell_type": "code",
   "execution_count": 14,
   "id": "89bf683d-0614-4000-b69a-95d37b3c47cc",
   "metadata": {},
   "outputs": [
    {
     "data": {
      "text/html": [
       "<div>\n",
       "<style scoped>\n",
       "    .dataframe tbody tr th:only-of-type {\n",
       "        vertical-align: middle;\n",
       "    }\n",
       "\n",
       "    .dataframe tbody tr th {\n",
       "        vertical-align: top;\n",
       "    }\n",
       "\n",
       "    .dataframe thead th {\n",
       "        text-align: right;\n",
       "    }\n",
       "</style>\n",
       "<table border=\"1\" class=\"dataframe\">\n",
       "  <thead>\n",
       "    <tr style=\"text-align: right;\">\n",
       "      <th></th>\n",
       "      <th>Field</th>\n",
       "      <th>Field Type</th>\n",
       "      <th>Description</th>\n",
       "      <th>Codes</th>\n",
       "    </tr>\n",
       "  </thead>\n",
       "  <tbody>\n",
       "    <tr>\n",
       "      <th>0</th>\n",
       "      <td>RESPNUM</td>\n",
       "      <td>Long Integer</td>\n",
       "      <td>Respondent Number – automatically generated du...</td>\n",
       "      <td>NaN</td>\n",
       "    </tr>\n",
       "    <tr>\n",
       "      <th>1</th>\n",
       "      <td>Q2</td>\n",
       "      <td>Integer</td>\n",
       "      <td>In which Bay Area county do you live?</td>\n",
       "      <td>1=Alameda\\n2=Contra Costa\\n3=Marin\\n4=Napa\\n5=...</td>\n",
       "    </tr>\n",
       "    <tr>\n",
       "      <th>2</th>\n",
       "      <td>Q3</td>\n",
       "      <td>Integer</td>\n",
       "      <td>Have you gone into San Francisco within the pa...</td>\n",
       "      <td>1=Yes\\n2=No</td>\n",
       "    </tr>\n",
       "    <tr>\n",
       "      <th>3</th>\n",
       "      <td>Trips</td>\n",
       "      <td>Integer</td>\n",
       "      <td>Total trips taken- SF residents: Sum of Q4Tot+...</td>\n",
       "      <td>NaN</td>\n",
       "    </tr>\n",
       "    <tr>\n",
       "      <th>4</th>\n",
       "      <td>Q4TOT</td>\n",
       "      <td>Integer</td>\n",
       "      <td>(SF Residents) How many trips did you take yes...</td>\n",
       "      <td>0=Zero  \\n#=trips taken</td>\n",
       "    </tr>\n",
       "  </tbody>\n",
       "</table>\n",
       "</div>"
      ],
      "text/plain": [
       "     Field    Field Type                                        Description  \\\n",
       "0  RESPNUM  Long Integer  Respondent Number – automatically generated du...   \n",
       "1       Q2       Integer              In which Bay Area county do you live?   \n",
       "2       Q3       Integer  Have you gone into San Francisco within the pa...   \n",
       "3    Trips       Integer  Total trips taken- SF residents: Sum of Q4Tot+...   \n",
       "4    Q4TOT       Integer  (SF Residents) How many trips did you take yes...   \n",
       "\n",
       "                                               Codes  \n",
       "0                                                NaN  \n",
       "1  1=Alameda\\n2=Contra Costa\\n3=Marin\\n4=Napa\\n5=...  \n",
       "2                                       1=Yes\\n2=No   \n",
       "3                                                NaN  \n",
       "4                            0=Zero  \\n#=trips taken  "
      ]
     },
     "execution_count": 14,
     "metadata": {},
     "output_type": "execute_result"
    }
   ],
   "source": [
    "Survey2017.head()"
   ]
  },
  {
   "cell_type": "code",
   "execution_count": 51,
   "id": "23b1769f-82f7-4d19-8cdf-5f0bfebe78f6",
   "metadata": {},
   "outputs": [
    {
     "data": {
      "text/html": [
       "<div>\n",
       "<style scoped>\n",
       "    .dataframe tbody tr th:only-of-type {\n",
       "        vertical-align: middle;\n",
       "    }\n",
       "\n",
       "    .dataframe tbody tr th {\n",
       "        vertical-align: top;\n",
       "    }\n",
       "\n",
       "    .dataframe thead th {\n",
       "        text-align: right;\n",
       "    }\n",
       "</style>\n",
       "<table border=\"1\" class=\"dataframe\">\n",
       "  <thead>\n",
       "    <tr style=\"text-align: right;\">\n",
       "      <th></th>\n",
       "      <th>Field</th>\n",
       "      <th>Field Type</th>\n",
       "      <th>Description</th>\n",
       "      <th>Codes</th>\n",
       "    </tr>\n",
       "  </thead>\n",
       "  <tbody>\n",
       "    <tr>\n",
       "      <th>165</th>\n",
       "      <td>Q25A-SF</td>\n",
       "      <td>Integer</td>\n",
       "      <td>(San Francisco Residents) What is your home ZI...</td>\n",
       "      <td>1=94102 \\n2=94103 \\n3=94104 \\n4=94105 \\n5=9410...</td>\n",
       "    </tr>\n",
       "  </tbody>\n",
       "</table>\n",
       "</div>"
      ],
      "text/plain": [
       "       Field Field Type                                        Description  \\\n",
       "165  Q25A-SF    Integer  (San Francisco Residents) What is your home ZI...   \n",
       "\n",
       "                                                 Codes  \n",
       "165  1=94102 \\n2=94103 \\n3=94104 \\n4=94105 \\n5=9410...  "
      ]
     },
     "execution_count": 51,
     "metadata": {},
     "output_type": "execute_result"
    }
   ],
   "source": []
  },
  {
   "cell_type": "code",
   "execution_count": null,
   "id": "4a06c6a1-fe27-4665-81f7-c15b63ef8e7e",
   "metadata": {},
   "outputs": [],
   "source": []
  }
 ],
 "metadata": {
  "kernelspec": {
   "display_name": "Python 3",
   "language": "python",
   "name": "python3"
  },
  "language_info": {
   "codemirror_mode": {
    "name": "ipython",
    "version": 3
   },
   "file_extension": ".py",
   "mimetype": "text/x-python",
   "name": "python",
   "nbconvert_exporter": "python",
   "pygments_lexer": "ipython3",
   "version": "3.8.5"
  }
 },
 "nbformat": 4,
 "nbformat_minor": 5
}
